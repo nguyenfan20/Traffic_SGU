{
  "cells": [
    {
      "cell_type": "markdown",
      "metadata": {
        "id": "view-in-github"
      },
      "source": [
        "<a href=\"https://colab.research.google.com/github/nguyenfan20/AI-Agents-using-LangChain/blob/main/Vietnamese_Legal_Traffic_RAG.ipynb\" target=\"_parent\"><img src=\"https://colab.research.google.com/assets/colab-badge.svg\" alt=\"Open In Colab\"/></a>"
      ]
    },
    {
      "cell_type": "markdown",
      "metadata": {
        "id": "If8uKmFJb7WP"
      },
      "source": [
        "# T\u1ed5ng quan d\u1ef1 \u00e1n \ud83e\udd16"
      ]
    },
    {
      "cell_type": "markdown",
      "metadata": {
        "id": "C2YLtB01cSR-"
      },
      "source": [
        "Notebook n\u00e0y tr\u00ecnh b\u00e0y c\u00e1ch t\u1ea1o m\u1ed9t chatbot b\u1eb1ng h\u1ec7 th\u1ed1ng RAG d\u1ef1a v\u00e0o th\u01b0 vi\u1ec7n LangChain v\u00e0 LLMs"
      ]
    },
    {
      "cell_type": "code",
      "execution_count": 1,
      "metadata": {
        "colab": {
          "base_uri": "https://localhost:8080/"
        },
        "id": "n6fB8o1BHxf1",
        "outputId": "69593df7-b082-4a87-c33d-29c6c16b4b11"
      },
      "outputs": [
        {
          "output_type": "stream",
          "name": "stdout",
          "text": [
            "Found existing installation: fsspec 2025.3.2\n",
            "Uninstalling fsspec-2025.3.2:\n",
            "  Successfully uninstalled fsspec-2025.3.2\n",
            "\u001b[33mWARNING: Skipping datasets as it is not installed.\u001b[0m\u001b[33m\n",
            "\u001b[0mFound existing installation: gcsfs 2025.3.2\n",
            "Uninstalling gcsfs-2025.3.2:\n",
            "  Successfully uninstalled gcsfs-2025.3.2\n",
            "Collecting fsspec==2024.12.0\n",
            "  Downloading fsspec-2024.12.0-py3-none-any.whl.metadata (11 kB)\n",
            "Collecting datasets==3.5.0\n",
            "  Downloading datasets-3.5.0-py3-none-any.whl.metadata (19 kB)\n",
            "Collecting gcsfs==2024.12.0\n",
            "  Downloading gcsfs-2024.12.0-py2.py3-none-any.whl.metadata (1.6 kB)\n",
            "Requirement already satisfied: filelock in /usr/local/lib/python3.11/dist-packages (from datasets==3.5.0) (3.18.0)\n",
            "Requirement already satisfied: numpy>=1.17 in /usr/local/lib/python3.11/dist-packages (from datasets==3.5.0) (2.0.2)\n",
            "Requirement already satisfied: pyarrow>=15.0.0 in /usr/local/lib/python3.11/dist-packages (from datasets==3.5.0) (18.1.0)\n",
            "Collecting dill<0.3.9,>=0.3.0 (from datasets==3.5.0)\n",
            "  Downloading dill-0.3.8-py3-none-any.whl.metadata (10 kB)\n",
            "Requirement already satisfied: pandas in /usr/local/lib/python3.11/dist-packages (from datasets==3.5.0) (2.2.2)\n",
            "Requirement already satisfied: requests>=2.32.2 in /usr/local/lib/python3.11/dist-packages (from datasets==3.5.0) (2.32.3)\n",
            "Requirement already satisfied: tqdm>=4.66.3 in /usr/local/lib/python3.11/dist-packages (from datasets==3.5.0) (4.67.1)\n",
            "Collecting xxhash (from datasets==3.5.0)\n",
            "  Downloading xxhash-3.5.0-cp311-cp311-manylinux_2_17_x86_64.manylinux2014_x86_64.whl.metadata (12 kB)\n",
            "Collecting multiprocess<0.70.17 (from datasets==3.5.0)\n",
            "  Downloading multiprocess-0.70.16-py311-none-any.whl.metadata (7.2 kB)\n",
            "Requirement already satisfied: aiohttp in /usr/local/lib/python3.11/dist-packages (from datasets==3.5.0) (3.11.15)\n",
            "Requirement already satisfied: huggingface-hub>=0.24.0 in /usr/local/lib/python3.11/dist-packages (from datasets==3.5.0) (0.30.2)\n",
            "Requirement already satisfied: packaging in /usr/local/lib/python3.11/dist-packages (from datasets==3.5.0) (24.2)\n",
            "Requirement already satisfied: pyyaml>=5.1 in /usr/local/lib/python3.11/dist-packages (from datasets==3.5.0) (6.0.2)\n",
            "Requirement already satisfied: decorator>4.1.2 in /usr/local/lib/python3.11/dist-packages (from gcsfs==2024.12.0) (4.4.2)\n",
            "Requirement already satisfied: google-auth>=1.2 in /usr/local/lib/python3.11/dist-packages (from gcsfs==2024.12.0) (2.38.0)\n",
            "Requirement already satisfied: google-auth-oauthlib in /usr/local/lib/python3.11/dist-packages (from gcsfs==2024.12.0) (1.2.2)\n",
            "Requirement already satisfied: google-cloud-storage in /usr/local/lib/python3.11/dist-packages (from gcsfs==2024.12.0) (2.19.0)\n",
            "Requirement already satisfied: aiohappyeyeballs>=2.3.0 in /usr/local/lib/python3.11/dist-packages (from aiohttp->datasets==3.5.0) (2.6.1)\n",
            "Requirement already satisfied: aiosignal>=1.1.2 in /usr/local/lib/python3.11/dist-packages (from aiohttp->datasets==3.5.0) (1.3.2)\n",
            "Requirement already satisfied: attrs>=17.3.0 in /usr/local/lib/python3.11/dist-packages (from aiohttp->datasets==3.5.0) (25.3.0)\n",
            "Requirement already satisfied: frozenlist>=1.1.1 in /usr/local/lib/python3.11/dist-packages (from aiohttp->datasets==3.5.0) (1.6.0)\n",
            "Requirement already satisfied: multidict<7.0,>=4.5 in /usr/local/lib/python3.11/dist-packages (from aiohttp->datasets==3.5.0) (6.4.3)\n",
            "Requirement already satisfied: propcache>=0.2.0 in /usr/local/lib/python3.11/dist-packages (from aiohttp->datasets==3.5.0) (0.3.1)\n",
            "Requirement already satisfied: yarl<2.0,>=1.17.0 in /usr/local/lib/python3.11/dist-packages (from aiohttp->datasets==3.5.0) (1.20.0)\n",
            "Requirement already satisfied: cachetools<6.0,>=2.0.0 in /usr/local/lib/python3.11/dist-packages (from google-auth>=1.2->gcsfs==2024.12.0) (5.5.2)\n",
            "Requirement already satisfied: pyasn1-modules>=0.2.1 in /usr/local/lib/python3.11/dist-packages (from google-auth>=1.2->gcsfs==2024.12.0) (0.4.2)\n",
            "Requirement already satisfied: rsa<5,>=3.1.4 in /usr/local/lib/python3.11/dist-packages (from google-auth>=1.2->gcsfs==2024.12.0) (4.9.1)\n",
            "Requirement already satisfied: typing-extensions>=3.7.4.3 in /usr/local/lib/python3.11/dist-packages (from huggingface-hub>=0.24.0->datasets==3.5.0) (4.13.2)\n",
            "Requirement already satisfied: charset-normalizer<4,>=2 in /usr/local/lib/python3.11/dist-packages (from requests>=2.32.2->datasets==3.5.0) (3.4.1)\n",
            "Requirement already satisfied: idna<4,>=2.5 in /usr/local/lib/python3.11/dist-packages (from requests>=2.32.2->datasets==3.5.0) (3.10)\n",
            "Requirement already satisfied: urllib3<3,>=1.21.1 in /usr/local/lib/python3.11/dist-packages (from requests>=2.32.2->datasets==3.5.0) (2.4.0)\n",
            "Requirement already satisfied: certifi>=2017.4.17 in /usr/local/lib/python3.11/dist-packages (from requests>=2.32.2->datasets==3.5.0) (2025.4.26)\n",
            "Requirement already satisfied: requests-oauthlib>=0.7.0 in /usr/local/lib/python3.11/dist-packages (from google-auth-oauthlib->gcsfs==2024.12.0) (2.0.0)\n",
            "Requirement already satisfied: google-api-core<3.0.0dev,>=2.15.0 in /usr/local/lib/python3.11/dist-packages (from google-cloud-storage->gcsfs==2024.12.0) (2.24.2)\n",
            "Requirement already satisfied: google-cloud-core<3.0dev,>=2.3.0 in /usr/local/lib/python3.11/dist-packages (from google-cloud-storage->gcsfs==2024.12.0) (2.4.3)\n",
            "Requirement already satisfied: google-resumable-media>=2.7.2 in /usr/local/lib/python3.11/dist-packages (from google-cloud-storage->gcsfs==2024.12.0) (2.7.2)\n",
            "Requirement already satisfied: google-crc32c<2.0dev,>=1.0 in /usr/local/lib/python3.11/dist-packages (from google-cloud-storage->gcsfs==2024.12.0) (1.7.1)\n",
            "Requirement already satisfied: python-dateutil>=2.8.2 in /usr/local/lib/python3.11/dist-packages (from pandas->datasets==3.5.0) (2.9.0.post0)\n",
            "Requirement already satisfied: pytz>=2020.1 in /usr/local/lib/python3.11/dist-packages (from pandas->datasets==3.5.0) (2025.2)\n",
            "Requirement already satisfied: tzdata>=2022.7 in /usr/local/lib/python3.11/dist-packages (from pandas->datasets==3.5.0) (2025.2)\n",
            "Requirement already satisfied: googleapis-common-protos<2.0.0,>=1.56.2 in /usr/local/lib/python3.11/dist-packages (from google-api-core<3.0.0dev,>=2.15.0->google-cloud-storage->gcsfs==2024.12.0) (1.70.0)\n",
            "Requirement already satisfied: protobuf!=3.20.0,!=3.20.1,!=4.21.0,!=4.21.1,!=4.21.2,!=4.21.3,!=4.21.4,!=4.21.5,<7.0.0,>=3.19.5 in /usr/local/lib/python3.11/dist-packages (from google-api-core<3.0.0dev,>=2.15.0->google-cloud-storage->gcsfs==2024.12.0) (5.29.4)\n",
            "Requirement already satisfied: proto-plus<2.0.0,>=1.22.3 in /usr/local/lib/python3.11/dist-packages (from google-api-core<3.0.0dev,>=2.15.0->google-cloud-storage->gcsfs==2024.12.0) (1.26.1)\n",
            "Requirement already satisfied: pyasn1<0.7.0,>=0.6.1 in /usr/local/lib/python3.11/dist-packages (from pyasn1-modules>=0.2.1->google-auth>=1.2->gcsfs==2024.12.0) (0.6.1)\n",
            "Requirement already satisfied: six>=1.5 in /usr/local/lib/python3.11/dist-packages (from python-dateutil>=2.8.2->pandas->datasets==3.5.0) (1.17.0)\n",
            "Requirement already satisfied: oauthlib>=3.0.0 in /usr/local/lib/python3.11/dist-packages (from requests-oauthlib>=0.7.0->google-auth-oauthlib->gcsfs==2024.12.0) (3.2.2)\n",
            "Downloading fsspec-2024.12.0-py3-none-any.whl (183 kB)\n",
            "\u001b[2K   \u001b[90m\u2501\u2501\u2501\u2501\u2501\u2501\u2501\u2501\u2501\u2501\u2501\u2501\u2501\u2501\u2501\u2501\u2501\u2501\u2501\u2501\u2501\u2501\u2501\u2501\u2501\u2501\u2501\u2501\u2501\u2501\u2501\u2501\u2501\u2501\u2501\u2501\u2501\u2501\u2501\u2501\u001b[0m \u001b[32m183.9/183.9 kB\u001b[0m \u001b[31m7.3 MB/s\u001b[0m eta \u001b[36m0:00:00\u001b[0m\n",
            "\u001b[?25hDownloading datasets-3.5.0-py3-none-any.whl (491 kB)\n",
            "\u001b[2K   \u001b[90m\u2501\u2501\u2501\u2501\u2501\u2501\u2501\u2501\u2501\u2501\u2501\u2501\u2501\u2501\u2501\u2501\u2501\u2501\u2501\u2501\u2501\u2501\u2501\u2501\u2501\u2501\u2501\u2501\u2501\u2501\u2501\u2501\u2501\u2501\u2501\u2501\u2501\u2501\u2501\u2501\u001b[0m \u001b[32m491.2/491.2 kB\u001b[0m \u001b[31m16.7 MB/s\u001b[0m eta \u001b[36m0:00:00\u001b[0m\n",
            "\u001b[?25hDownloading gcsfs-2024.12.0-py2.py3-none-any.whl (35 kB)\n",
            "Downloading dill-0.3.8-py3-none-any.whl (116 kB)\n",
            "\u001b[2K   \u001b[90m\u2501\u2501\u2501\u2501\u2501\u2501\u2501\u2501\u2501\u2501\u2501\u2501\u2501\u2501\u2501\u2501\u2501\u2501\u2501\u2501\u2501\u2501\u2501\u2501\u2501\u2501\u2501\u2501\u2501\u2501\u2501\u2501\u2501\u2501\u2501\u2501\u2501\u2501\u2501\u2501\u001b[0m \u001b[32m116.3/116.3 kB\u001b[0m \u001b[31m12.3 MB/s\u001b[0m eta \u001b[36m0:00:00\u001b[0m\n",
            "\u001b[?25hDownloading multiprocess-0.70.16-py311-none-any.whl (143 kB)\n",
            "\u001b[2K   \u001b[90m\u2501\u2501\u2501\u2501\u2501\u2501\u2501\u2501\u2501\u2501\u2501\u2501\u2501\u2501\u2501\u2501\u2501\u2501\u2501\u2501\u2501\u2501\u2501\u2501\u2501\u2501\u2501\u2501\u2501\u2501\u2501\u2501\u2501\u2501\u2501\u2501\u2501\u2501\u2501\u2501\u001b[0m \u001b[32m143.5/143.5 kB\u001b[0m \u001b[31m14.7 MB/s\u001b[0m eta \u001b[36m0:00:00\u001b[0m\n",
            "\u001b[?25hDownloading xxhash-3.5.0-cp311-cp311-manylinux_2_17_x86_64.manylinux2014_x86_64.whl (194 kB)\n",
            "\u001b[2K   \u001b[90m\u2501\u2501\u2501\u2501\u2501\u2501\u2501\u2501\u2501\u2501\u2501\u2501\u2501\u2501\u2501\u2501\u2501\u2501\u2501\u2501\u2501\u2501\u2501\u2501\u2501\u2501\u2501\u2501\u2501\u2501\u2501\u2501\u2501\u2501\u2501\u2501\u2501\u2501\u2501\u2501\u001b[0m \u001b[32m194.8/194.8 kB\u001b[0m \u001b[31m20.8 MB/s\u001b[0m eta \u001b[36m0:00:00\u001b[0m\n",
            "\u001b[?25hInstalling collected packages: xxhash, fsspec, dill, multiprocess, datasets, gcsfs\n",
            "\u001b[31mERROR: pip's dependency resolver does not currently take into account all the packages that are installed. This behaviour is the source of the following dependency conflicts.\n",
            "torch 2.6.0+cu124 requires nvidia-cublas-cu12==12.4.5.8; platform_system == \"Linux\" and platform_machine == \"x86_64\", but you have nvidia-cublas-cu12 12.5.3.2 which is incompatible.\n",
            "torch 2.6.0+cu124 requires nvidia-cuda-cupti-cu12==12.4.127; platform_system == \"Linux\" and platform_machine == \"x86_64\", but you have nvidia-cuda-cupti-cu12 12.5.82 which is incompatible.\n",
            "torch 2.6.0+cu124 requires nvidia-cuda-nvrtc-cu12==12.4.127; platform_system == \"Linux\" and platform_machine == \"x86_64\", but you have nvidia-cuda-nvrtc-cu12 12.5.82 which is incompatible.\n",
            "torch 2.6.0+cu124 requires nvidia-cuda-runtime-cu12==12.4.127; platform_system == \"Linux\" and platform_machine == \"x86_64\", but you have nvidia-cuda-runtime-cu12 12.5.82 which is incompatible.\n",
            "torch 2.6.0+cu124 requires nvidia-cudnn-cu12==9.1.0.70; platform_system == \"Linux\" and platform_machine == \"x86_64\", but you have nvidia-cudnn-cu12 9.3.0.75 which is incompatible.\n",
            "torch 2.6.0+cu124 requires nvidia-cufft-cu12==11.2.1.3; platform_system == \"Linux\" and platform_machine == \"x86_64\", but you have nvidia-cufft-cu12 11.2.3.61 which is incompatible.\n",
            "torch 2.6.0+cu124 requires nvidia-curand-cu12==10.3.5.147; platform_system == \"Linux\" and platform_machine == \"x86_64\", but you have nvidia-curand-cu12 10.3.6.82 which is incompatible.\n",
            "torch 2.6.0+cu124 requires nvidia-cusolver-cu12==11.6.1.9; platform_system == \"Linux\" and platform_machine == \"x86_64\", but you have nvidia-cusolver-cu12 11.6.3.83 which is incompatible.\n",
            "torch 2.6.0+cu124 requires nvidia-cusparse-cu12==12.3.1.170; platform_system == \"Linux\" and platform_machine == \"x86_64\", but you have nvidia-cusparse-cu12 12.5.1.3 which is incompatible.\n",
            "torch 2.6.0+cu124 requires nvidia-nvjitlink-cu12==12.4.127; platform_system == \"Linux\" and platform_machine == \"x86_64\", but you have nvidia-nvjitlink-cu12 12.5.82 which is incompatible.\u001b[0m\u001b[31m\n",
            "\u001b[0mSuccessfully installed datasets-3.5.0 dill-0.3.8 fsspec-2024.12.0 gcsfs-2024.12.0 multiprocess-0.70.16 xxhash-3.5.0\n",
            "\u001b[2K     \u001b[90m\u2501\u2501\u2501\u2501\u2501\u2501\u2501\u2501\u2501\u2501\u2501\u2501\u2501\u2501\u2501\u2501\u2501\u2501\u2501\u2501\u2501\u2501\u2501\u2501\u2501\u2501\u2501\u2501\u2501\u2501\u2501\u2501\u2501\u2501\u2501\u2501\u2501\u2501\u001b[0m \u001b[32m647.5/647.5 kB\u001b[0m \u001b[31m22.4 MB/s\u001b[0m eta \u001b[36m0:00:00\u001b[0m\n",
            "\u001b[?25h  Preparing metadata (setup.py) ... \u001b[?25l\u001b[?25hdone\n",
            "\u001b[2K   \u001b[90m\u2501\u2501\u2501\u2501\u2501\u2501\u2501\u2501\u2501\u2501\u2501\u2501\u2501\u2501\u2501\u2501\u2501\u2501\u2501\u2501\u2501\u2501\u2501\u2501\u2501\u2501\u2501\u2501\u2501\u2501\u2501\u2501\u2501\u2501\u2501\u2501\u2501\u2501\u2501\u2501\u001b[0m \u001b[32m363.4/363.4 MB\u001b[0m \u001b[31m4.7 MB/s\u001b[0m eta \u001b[36m0:00:00\u001b[0m\n",
            "\u001b[2K   \u001b[90m\u2501\u2501\u2501\u2501\u2501\u2501\u2501\u2501\u2501\u2501\u2501\u2501\u2501\u2501\u2501\u2501\u2501\u2501\u2501\u2501\u2501\u2501\u2501\u2501\u2501\u2501\u2501\u2501\u2501\u2501\u2501\u2501\u2501\u2501\u2501\u2501\u2501\u2501\u2501\u2501\u001b[0m \u001b[32m13.8/13.8 MB\u001b[0m \u001b[31m108.4 MB/s\u001b[0m eta \u001b[36m0:00:00\u001b[0m\n",
            "\u001b[2K   \u001b[90m\u2501\u2501\u2501\u2501\u2501\u2501\u2501\u2501\u2501\u2501\u2501\u2501\u2501\u2501\u2501\u2501\u2501\u2501\u2501\u2501\u2501\u2501\u2501\u2501\u2501\u2501\u2501\u2501\u2501\u2501\u2501\u2501\u2501\u2501\u2501\u2501\u2501\u2501\u2501\u2501\u001b[0m \u001b[32m24.6/24.6 MB\u001b[0m \u001b[31m82.5 MB/s\u001b[0m eta \u001b[36m0:00:00\u001b[0m\n",
            "\u001b[2K   \u001b[90m\u2501\u2501\u2501\u2501\u2501\u2501\u2501\u2501\u2501\u2501\u2501\u2501\u2501\u2501\u2501\u2501\u2501\u2501\u2501\u2501\u2501\u2501\u2501\u2501\u2501\u2501\u2501\u2501\u2501\u2501\u2501\u2501\u2501\u2501\u2501\u2501\u2501\u2501\u2501\u2501\u001b[0m \u001b[32m883.7/883.7 kB\u001b[0m \u001b[31m55.3 MB/s\u001b[0m eta \u001b[36m0:00:00\u001b[0m\n",
            "\u001b[2K   \u001b[90m\u2501\u2501\u2501\u2501\u2501\u2501\u2501\u2501\u2501\u2501\u2501\u2501\u2501\u2501\u2501\u2501\u2501\u2501\u2501\u2501\u2501\u2501\u2501\u2501\u2501\u2501\u2501\u2501\u2501\u2501\u2501\u2501\u2501\u2501\u2501\u2501\u2501\u2501\u2501\u2501\u001b[0m \u001b[32m664.8/664.8 MB\u001b[0m \u001b[31m2.2 MB/s\u001b[0m eta \u001b[36m0:00:00\u001b[0m\n",
            "\u001b[2K   \u001b[90m\u2501\u2501\u2501\u2501\u2501\u2501\u2501\u2501\u2501\u2501\u2501\u2501\u2501\u2501\u2501\u2501\u2501\u2501\u2501\u2501\u2501\u2501\u2501\u2501\u2501\u2501\u2501\u2501\u2501\u2501\u2501\u2501\u2501\u2501\u2501\u2501\u2501\u2501\u2501\u2501\u001b[0m \u001b[32m211.5/211.5 MB\u001b[0m \u001b[31m5.3 MB/s\u001b[0m eta \u001b[36m0:00:00\u001b[0m\n",
            "\u001b[2K   \u001b[90m\u2501\u2501\u2501\u2501\u2501\u2501\u2501\u2501\u2501\u2501\u2501\u2501\u2501\u2501\u2501\u2501\u2501\u2501\u2501\u2501\u2501\u2501\u2501\u2501\u2501\u2501\u2501\u2501\u2501\u2501\u2501\u2501\u2501\u2501\u2501\u2501\u2501\u2501\u2501\u2501\u001b[0m \u001b[32m56.3/56.3 MB\u001b[0m \u001b[31m11.5 MB/s\u001b[0m eta \u001b[36m0:00:00\u001b[0m\n",
            "\u001b[2K   \u001b[90m\u2501\u2501\u2501\u2501\u2501\u2501\u2501\u2501\u2501\u2501\u2501\u2501\u2501\u2501\u2501\u2501\u2501\u2501\u2501\u2501\u2501\u2501\u2501\u2501\u2501\u2501\u2501\u2501\u2501\u2501\u2501\u2501\u2501\u2501\u2501\u2501\u2501\u2501\u2501\u2501\u001b[0m \u001b[32m127.9/127.9 MB\u001b[0m \u001b[31m7.8 MB/s\u001b[0m eta \u001b[36m0:00:00\u001b[0m\n",
            "\u001b[2K   \u001b[90m\u2501\u2501\u2501\u2501\u2501\u2501\u2501\u2501\u2501\u2501\u2501\u2501\u2501\u2501\u2501\u2501\u2501\u2501\u2501\u2501\u2501\u2501\u2501\u2501\u2501\u2501\u2501\u2501\u2501\u2501\u2501\u2501\u2501\u2501\u2501\u2501\u2501\u2501\u2501\u2501\u001b[0m \u001b[32m207.5/207.5 MB\u001b[0m \u001b[31m5.4 MB/s\u001b[0m eta \u001b[36m0:00:00\u001b[0m\n",
            "\u001b[2K   \u001b[90m\u2501\u2501\u2501\u2501\u2501\u2501\u2501\u2501\u2501\u2501\u2501\u2501\u2501\u2501\u2501\u2501\u2501\u2501\u2501\u2501\u2501\u2501\u2501\u2501\u2501\u2501\u2501\u2501\u2501\u2501\u2501\u2501\u2501\u2501\u2501\u2501\u2501\u2501\u2501\u2501\u001b[0m \u001b[32m21.1/21.1 MB\u001b[0m \u001b[31m42.6 MB/s\u001b[0m eta \u001b[36m0:00:00\u001b[0m\n",
            "\u001b[2K   \u001b[90m\u2501\u2501\u2501\u2501\u2501\u2501\u2501\u2501\u2501\u2501\u2501\u2501\u2501\u2501\u2501\u2501\u2501\u2501\u2501\u2501\u2501\u2501\u2501\u2501\u2501\u2501\u2501\u2501\u2501\u2501\u2501\u2501\u2501\u2501\u2501\u2501\u2501\u2501\u2501\u2501\u001b[0m \u001b[32m76.1/76.1 MB\u001b[0m \u001b[31m9.8 MB/s\u001b[0m eta \u001b[36m0:00:00\u001b[0m\n",
            "\u001b[2K   \u001b[90m\u2501\u2501\u2501\u2501\u2501\u2501\u2501\u2501\u2501\u2501\u2501\u2501\u2501\u2501\u2501\u2501\u2501\u2501\u2501\u2501\u2501\u2501\u2501\u2501\u2501\u2501\u2501\u2501\u2501\u2501\u2501\u2501\u2501\u2501\u2501\u2501\u2501\u2501\u2501\u2501\u001b[0m \u001b[32m31.3/31.3 MB\u001b[0m \u001b[31m54.5 MB/s\u001b[0m eta \u001b[36m0:00:00\u001b[0m\n",
            "\u001b[2K   \u001b[90m\u2501\u2501\u2501\u2501\u2501\u2501\u2501\u2501\u2501\u2501\u2501\u2501\u2501\u2501\u2501\u2501\u2501\u2501\u2501\u2501\u2501\u2501\u2501\u2501\u2501\u2501\u2501\u2501\u2501\u2501\u2501\u2501\u2501\u2501\u2501\u2501\u2501\u2501\u2501\u2501\u001b[0m \u001b[32m2.5/2.5 MB\u001b[0m \u001b[31m66.7 MB/s\u001b[0m eta \u001b[36m0:00:00\u001b[0m\n",
            "\u001b[2K   \u001b[90m\u2501\u2501\u2501\u2501\u2501\u2501\u2501\u2501\u2501\u2501\u2501\u2501\u2501\u2501\u2501\u2501\u2501\u2501\u2501\u2501\u2501\u2501\u2501\u2501\u2501\u2501\u2501\u2501\u2501\u2501\u2501\u2501\u2501\u2501\u2501\u2501\u2501\u2501\u2501\u2501\u001b[0m \u001b[32m45.7/45.7 kB\u001b[0m \u001b[31m4.0 MB/s\u001b[0m eta \u001b[36m0:00:00\u001b[0m\n",
            "\u001b[2K   \u001b[90m\u2501\u2501\u2501\u2501\u2501\u2501\u2501\u2501\u2501\u2501\u2501\u2501\u2501\u2501\u2501\u2501\u2501\u2501\u2501\u2501\u2501\u2501\u2501\u2501\u2501\u2501\u2501\u2501\u2501\u2501\u2501\u2501\u2501\u2501\u2501\u2501\u2501\u2501\u2501\u2501\u001b[0m \u001b[32m20.0/20.0 MB\u001b[0m \u001b[31m74.0 MB/s\u001b[0m eta \u001b[36m0:00:00\u001b[0m\n",
            "\u001b[2K   \u001b[90m\u2501\u2501\u2501\u2501\u2501\u2501\u2501\u2501\u2501\u2501\u2501\u2501\u2501\u2501\u2501\u2501\u2501\u2501\u2501\u2501\u2501\u2501\u2501\u2501\u2501\u2501\u2501\u2501\u2501\u2501\u2501\u2501\u2501\u2501\u2501\u2501\u2501\u2501\u2501\u2501\u001b[0m \u001b[32m244.3/244.3 kB\u001b[0m \u001b[31m19.0 MB/s\u001b[0m eta \u001b[36m0:00:00\u001b[0m\n",
            "\u001b[2K   \u001b[90m\u2501\u2501\u2501\u2501\u2501\u2501\u2501\u2501\u2501\u2501\u2501\u2501\u2501\u2501\u2501\u2501\u2501\u2501\u2501\u2501\u2501\u2501\u2501\u2501\u2501\u2501\u2501\u2501\u2501\u2501\u2501\u2501\u2501\u2501\u2501\u2501\u2501\u2501\u2501\u2501\u001b[0m \u001b[32m116.1/116.1 kB\u001b[0m \u001b[31m10.8 MB/s\u001b[0m eta \u001b[36m0:00:00\u001b[0m\n",
            "\u001b[2K   \u001b[90m\u2501\u2501\u2501\u2501\u2501\u2501\u2501\u2501\u2501\u2501\u2501\u2501\u2501\u2501\u2501\u2501\u2501\u2501\u2501\u2501\u2501\u2501\u2501\u2501\u2501\u2501\u2501\u2501\u2501\u2501\u2501\u2501\u2501\u2501\u2501\u2501\u2501\u2501\u2501\u2501\u001b[0m \u001b[32m44.4/44.4 kB\u001b[0m \u001b[31m3.5 MB/s\u001b[0m eta \u001b[36m0:00:00\u001b[0m\n",
            "\u001b[2K   \u001b[90m\u2501\u2501\u2501\u2501\u2501\u2501\u2501\u2501\u2501\u2501\u2501\u2501\u2501\u2501\u2501\u2501\u2501\u2501\u2501\u2501\u2501\u2501\u2501\u2501\u2501\u2501\u2501\u2501\u2501\u2501\u2501\u2501\u2501\u2501\u2501\u2501\u2501\u2501\u2501\u2501\u001b[0m \u001b[32m16.0/16.0 MB\u001b[0m \u001b[31m73.8 MB/s\u001b[0m eta \u001b[36m0:00:00\u001b[0m\n",
            "\u001b[2K   \u001b[90m\u2501\u2501\u2501\u2501\u2501\u2501\u2501\u2501\u2501\u2501\u2501\u2501\u2501\u2501\u2501\u2501\u2501\u2501\u2501\u2501\u2501\u2501\u2501\u2501\u2501\u2501\u2501\u2501\u2501\u2501\u2501\u2501\u2501\u2501\u2501\u2501\u2501\u2501\u2501\u2501\u001b[0m \u001b[32m4.4/4.4 MB\u001b[0m \u001b[31m41.8 MB/s\u001b[0m eta \u001b[36m0:00:00\u001b[0m\n",
            "\u001b[2K   \u001b[90m\u2501\u2501\u2501\u2501\u2501\u2501\u2501\u2501\u2501\u2501\u2501\u2501\u2501\u2501\u2501\u2501\u2501\u2501\u2501\u2501\u2501\u2501\u2501\u2501\u2501\u2501\u2501\u2501\u2501\u2501\u2501\u2501\u2501\u2501\u2501\u2501\u2501\u2501\u2501\u2501\u001b[0m \u001b[32m7.7/7.7 MB\u001b[0m \u001b[31m85.5 MB/s\u001b[0m eta \u001b[36m0:00:00\u001b[0m\n",
            "\u001b[2K   \u001b[90m\u2501\u2501\u2501\u2501\u2501\u2501\u2501\u2501\u2501\u2501\u2501\u2501\u2501\u2501\u2501\u2501\u2501\u2501\u2501\u2501\u2501\u2501\u2501\u2501\u2501\u2501\u2501\u2501\u2501\u2501\u2501\u2501\u2501\u2501\u2501\u2501\u2501\u2501\u2501\u2501\u001b[0m \u001b[32m40.8/40.8 kB\u001b[0m \u001b[31m3.6 MB/s\u001b[0m eta \u001b[36m0:00:00\u001b[0m\n",
            "\u001b[2K   \u001b[90m\u2501\u2501\u2501\u2501\u2501\u2501\u2501\u2501\u2501\u2501\u2501\u2501\u2501\u2501\u2501\u2501\u2501\u2501\u2501\u2501\u2501\u2501\u2501\u2501\u2501\u2501\u2501\u2501\u2501\u2501\u2501\u2501\u2501\u2501\u2501\u2501\u2501\u2501\u2501\u2501\u001b[0m \u001b[32m50.9/50.9 kB\u001b[0m \u001b[31m4.7 MB/s\u001b[0m eta \u001b[36m0:00:00\u001b[0m\n",
            "\u001b[2K   \u001b[90m\u2501\u2501\u2501\u2501\u2501\u2501\u2501\u2501\u2501\u2501\u2501\u2501\u2501\u2501\u2501\u2501\u2501\u2501\u2501\u2501\u2501\u2501\u2501\u2501\u2501\u2501\u2501\u2501\u2501\u2501\u2501\u2501\u2501\u2501\u2501\u2501\u2501\u2501\u2501\u2501\u001b[0m \u001b[32m309.1/309.1 kB\u001b[0m \u001b[31m28.5 MB/s\u001b[0m eta \u001b[36m0:00:00\u001b[0m\n",
            "\u001b[2K   \u001b[90m\u2501\u2501\u2501\u2501\u2501\u2501\u2501\u2501\u2501\u2501\u2501\u2501\u2501\u2501\u2501\u2501\u2501\u2501\u2501\u2501\u2501\u2501\u2501\u2501\u2501\u2501\u2501\u2501\u2501\u2501\u2501\u2501\u2501\u2501\u2501\u2501\u2501\u2501\u2501\u2501\u001b[0m \u001b[32m422.8/422.8 kB\u001b[0m \u001b[31m35.0 MB/s\u001b[0m eta \u001b[36m0:00:00\u001b[0m\n",
            "\u001b[2K   \u001b[90m\u2501\u2501\u2501\u2501\u2501\u2501\u2501\u2501\u2501\u2501\u2501\u2501\u2501\u2501\u2501\u2501\u2501\u2501\u2501\u2501\u2501\u2501\u2501\u2501\u2501\u2501\u2501\u2501\u2501\u2501\u2501\u2501\u2501\u2501\u2501\u2501\u2501\u2501\u2501\u2501\u001b[0m \u001b[32m53.6/53.6 kB\u001b[0m \u001b[31m5.1 MB/s\u001b[0m eta \u001b[36m0:00:00\u001b[0m\n",
            "\u001b[2K   \u001b[90m\u2501\u2501\u2501\u2501\u2501\u2501\u2501\u2501\u2501\u2501\u2501\u2501\u2501\u2501\u2501\u2501\u2501\u2501\u2501\u2501\u2501\u2501\u2501\u2501\u2501\u2501\u2501\u2501\u2501\u2501\u2501\u2501\u2501\u2501\u2501\u2501\u2501\u2501\u2501\u2501\u001b[0m \u001b[32m302.3/302.3 kB\u001b[0m \u001b[31m26.2 MB/s\u001b[0m eta \u001b[36m0:00:00\u001b[0m\n",
            "\u001b[2K   \u001b[90m\u2501\u2501\u2501\u2501\u2501\u2501\u2501\u2501\u2501\u2501\u2501\u2501\u2501\u2501\u2501\u2501\u2501\u2501\u2501\u2501\u2501\u2501\u2501\u2501\u2501\u2501\u2501\u2501\u2501\u2501\u2501\u2501\u2501\u2501\u2501\u2501\u2501\u2501\u2501\u2501\u001b[0m \u001b[32m1.2/1.2 MB\u001b[0m \u001b[31m53.4 MB/s\u001b[0m eta \u001b[36m0:00:00\u001b[0m\n",
            "\u001b[2K   \u001b[90m\u2501\u2501\u2501\u2501\u2501\u2501\u2501\u2501\u2501\u2501\u2501\u2501\u2501\u2501\u2501\u2501\u2501\u2501\u2501\u2501\u2501\u2501\u2501\u2501\u2501\u2501\u2501\u2501\u2501\u2501\u2501\u2501\u2501\u2501\u2501\u2501\u2501\u2501\u2501\u2501\u001b[0m \u001b[32m263.6/263.6 kB\u001b[0m \u001b[31m23.6 MB/s\u001b[0m eta \u001b[36m0:00:00\u001b[0m\n",
            "\u001b[2K   \u001b[90m\u2501\u2501\u2501\u2501\u2501\u2501\u2501\u2501\u2501\u2501\u2501\u2501\u2501\u2501\u2501\u2501\u2501\u2501\u2501\u2501\u2501\u2501\u2501\u2501\u2501\u2501\u2501\u2501\u2501\u2501\u2501\u2501\u2501\u2501\u2501\u2501\u2501\u2501\u2501\u2501\u001b[0m \u001b[32m129.3/129.3 kB\u001b[0m \u001b[31m12.5 MB/s\u001b[0m eta \u001b[36m0:00:00\u001b[0m\n",
            "\u001b[?25h  Building wheel for annoy (setup.py) ... \u001b[?25l\u001b[?25hdone\n"
          ]
        }
      ],
      "source": [
        "!pip uninstall -y fsspec datasets gcsfs\n",
        "!pip install fsspec==2024.12.0 datasets==3.5.0 gcsfs==2024.12.0\n",
        "!pip install -q torch transformers accelerate bitsandbytes \\\n",
        "  langchain sentence-transformers faiss-cpu openpyxl pacmap datasets \\\n",
        "  langchain-community ragatouille tqdm pymupdf python-docx pandas"
      ]
    },
    {
      "cell_type": "code",
      "execution_count": 7,
      "metadata": {
        "id": "tDm7mOE_H7Xh"
      },
      "outputs": [],
      "source": [
        "import os\n",
        "from tqdm.notebook import tqdm\n",
        "import pandas as pd\n",
        "from typing import Optional, List, Tuple\n",
        "\n",
        "FILE_01 = '/content/luatgt.pdf'\n",
        "\n",
        "\n",
        "VECTOR_DATABASE_PATH = '/content/vectordatabase'\n",
        "os.makedirs('/content/vectordatabase', exist_ok=True)"
      ]
    },
    {
      "cell_type": "markdown",
      "metadata": {
        "id": "tRbi5bd0sjjf"
      },
      "source": [
        "# Chunking \ud83d\udd2a"
      ]
    },
    {
      "cell_type": "code",
      "execution_count": 8,
      "metadata": {
        "id": "A1B1p27JLJ1P"
      },
      "outputs": [],
      "source": [
        "from langchain.docstore.document import Document as LangchainDocument\n",
        "from tqdm import tqdm\n",
        "from langchain.document_loaders import PyMuPDFLoader\n",
        "from docx import Document as DocxDocument\n",
        "import pandas as pd\n",
        "import os\n",
        "\n",
        "def load_pdf_file(file_path):\n",
        "    \"\"\"Loads a PDF file and returns its entire content using PyMuPDFLoader.\"\"\"\n",
        "    loader = PyMuPDFLoader(file_path)\n",
        "    documents = loader.load()\n",
        "    full_content = \"\"\n",
        "    for doc in documents:\n",
        "        full_content += doc.page_content + \"\\n\"  # Add a newline to separate pages\n",
        "    return full_content  # Return the entire content\n",
        "\n",
        "def load_txt_file(file_path):\n",
        "    \"\"\"Loads a TXT file and returns its content as a string.\"\"\"\n",
        "    with open(file_path, 'r', encoding='utf-8') as file:\n",
        "        return file.read()\n",
        "\n",
        "def load_docx_file(file_path):\n",
        "    \"\"\"Loads a DOCX file and returns its content as a string.\"\"\"\n",
        "    doc = DocxDocument(file_path)\n",
        "    full_text = []\n",
        "    for para in doc.paragraphs:\n",
        "        full_text.append(para.text)\n",
        "    return \"\\n\".join(full_text)\n",
        "\n",
        "def load_csv_file(file_path):\n",
        "    \"\"\"Loads a CSV file and concatenates all rows as a single string.\"\"\"\n",
        "    df = pd.read_csv(file_path)\n",
        "    return df.to_string(index=False)  # Converts the DataFrame to a string (without row indices)\n",
        "\n",
        "def load_file(file_path):\n",
        "    \"\"\"Determines the file type and loads the file content.\"\"\"\n",
        "    ext = os.path.splitext(file_path)[1].lower()\n",
        "    if ext == '.txt':\n",
        "        return load_txt_file(file_path)\n",
        "    elif ext in ['.doc', '.docx']:\n",
        "        return load_docx_file(file_path)\n",
        "    elif ext == '.pdf':\n",
        "        return load_pdf_file(file_path)\n",
        "    elif ext == '.csv':\n",
        "        return load_csv_file(file_path)\n",
        "    else:\n",
        "        raise ValueError(f\"Unsupported file type: {ext}\")"
      ]
    },
    {
      "cell_type": "code",
      "execution_count": 9,
      "metadata": {
        "colab": {
          "base_uri": "https://localhost:8080/"
        },
        "id": "YzuAON3ELhlo",
        "outputId": "677e013f-82f6-4087-ddc5-a50d63a08c0a"
      },
      "outputs": [
        {
          "output_type": "stream",
          "name": "stderr",
          "text": [
            "100%|\u2588\u2588\u2588\u2588\u2588\u2588\u2588\u2588\u2588\u2588| 1/1 [00:00<00:00,  1.15it/s]\n"
          ]
        }
      ],
      "source": [
        "# List of document file paths (PDF, DOCX, TXT, CSV)\n",
        "file_paths = [FILE_01] # Example file paths. It can be like: file_paths = [FILE_01, FILE_02,..]\n",
        "\n",
        "RAW_KNOWLEDGE_BASE = []\n",
        "for file_path in tqdm(file_paths):\n",
        "    try:\n",
        "        content = load_file(file_path)\n",
        "        RAW_KNOWLEDGE_BASE.append(\n",
        "            LangchainDocument(page_content=content, metadata={\"source\": file_path})\n",
        "        )\n",
        "    except Exception as e:\n",
        "        print(f\"Failed to process {file_path}: {e}\")"
      ]
    },
    {
      "cell_type": "code",
      "execution_count": 10,
      "metadata": {
        "colab": {
          "base_uri": "https://localhost:8080/"
        },
        "id": "0mOxisvoLnZP",
        "outputId": "431863dd-d710-4a16-e18c-bdcd4b4784d2"
      },
      "outputs": [
        {
          "output_type": "stream",
          "name": "stdout",
          "text": [
            "Source: /content/luatgt.pdf\n",
            "Content snippet: CH\u00cdNH PH\u1ee6\n",
            "--------\n",
            "C\u1ed8NG H\u00d2A X\u00c3 H\u1ed8I CH\u1ee6NGH\u0128A VI\u1ec6T NAM\n",
            "\u0110\u1ed9c l\u1eadp - T\u1ef1do - H\u1ea1nh ph\u00fac\n",
            "---------------\n",
            "S\u1ed1: 168/2024/N\u0110-CP\n",
            "H\u00e0 N\u1ed9i, ng\u00e0y 26 th\u00e1ng 12 n\u0103m 2024\n",
            "NGH\u1eca\u0110\u1ecaNH\n",
            "QUY \u0110\u1ecaNH X\u1eecPH\u1ea0T VI PH\u1ea0M H\u00c0NH CH\u00cdNH V\u1ec0TR\u1eacT T\u1ef0, AN TO\u00c0N GIAO\n",
            "TH\u00d4NG TRONG L\u0128NH V\u1ef0C GIAO TH\u00d4NG \u0110\u01af\u1edcNG B\u1ed8; TR\u1eea\u0110I\u1ec2M, PH\u1ee4C H\u1ed2I\n",
            "\u0110I\u1ec2M GI\u1ea4Y PH\u00c9P L\u00c1I XE\n",
            "C\u0103n c\u1ee9Lu\u1eadt T\u1ed5ch\u1ee9c Ch\u00ednh ph\u1ee7ng\u00e0y 19 th\u00e1ng 6 n\u0103m 2015; Lu\u1eadt s\u1eeda \u0111\u1ed5i, b\u1ed5sung m\u1ed9t\n",
            "s\u1ed1\u0111i\u1ec1u c\u1ee7a Lu\u1eadt T\u1ed5ch\u1ee9c Ch\u00ednh ph\u1ee7v\u00e0 Lu\u1eadt T\u1ed5ch\u1ee9c ch\u00ednh quy\u1ec1n \u0111\u1ecba ph\u01b0\u01a1ng ng\u00e0y 22\n",
            "th\u00e1ng 11 n\u0103m 2019;\n",
            "C\u0103n c\u1ee9Lu\u1eadt X\u1eedl\u00fd vi ph\u1ea1m h\u00e0...\n",
            "\n"
          ]
        }
      ],
      "source": [
        "for doc in RAW_KNOWLEDGE_BASE:\n",
        "    print(f\"Source: {doc.metadata['source']}\")\n",
        "    print(f\"Content snippet: {doc.page_content[:500]}...\\n\")"
      ]
    },
    {
      "cell_type": "code",
      "execution_count": 11,
      "metadata": {
        "colab": {
          "base_uri": "https://localhost:8080/"
        },
        "id": "XU34rNVHLrDP",
        "outputId": "5964023c-e69d-48ec-c1c4-efb01d472a08"
      },
      "outputs": [
        {
          "output_type": "stream",
          "name": "stdout",
          "text": [
            "page_content='Ch\u01b0\u01a1ng I\n",
            "NH\u1eeeNG QUY \u0110\u1ecaNH CHUNG\n",
            "\u0110i\u1ec1u 1. Ph\u1ea1m vi \u0111i\u1ec1u ch\u1ec9nh\n",
            "1. Ngh\u1ecb\u0111\u1ecbnh n\u00e0y quy \u0111\u1ecbnh v\u1ec1:\n",
            "a) X\u1eedph\u1ea1t vi ph\u1ea1m h\u00e0nh ch\u00ednh v\u1ec1tr\u1eadt t\u1ef1, an to\u00e0n giao th\u00f4ng trong l\u0129nh v\u1ef1c giao th\u00f4ng\n",
            "\u0111\u01b0\u1eddng b\u1ed9bao g\u1ed3m: h\u00e0nh vi vi ph\u1ea1m h\u00e0nh ch\u00ednh; h\u00ecnh th\u1ee9c, m\u1ee9c x\u1eedph\u1ea1t, bi\u1ec7n ph\u00e1p kh\u1eafc\n",
            "ph\u1ee5c h\u1eadu qu\u1ea3\u0111\u1ed1i v\u1edbi t\u1eebng h\u00e0nh vi vi ph\u1ea1m h\u00e0nh ch\u00ednh; th\u1ea9m quy\u1ec1n l\u1eadp bi\u00ean b\u1ea3n, th\u1ea9m\n",
            "quy\u1ec1n x\u1eedph\u1ea1t, m\u1ee9c ph\u1ea1t ti\u1ec1n c\u1ee5th\u1ec3theo t\u1eebng ch\u1ee9c danh \u0111\u1ed1i v\u1edbi h\u00e0nh vi vi ph\u1ea1m h\u00e0nh\n",
            "ch\u00ednh v\u1ec1tr\u1eadt t\u1ef1, an to\u00e0n giao th\u00f4ng trong l\u0129nh v\u1ef1c giao th\u00f4ng \u0111\u01b0\u1eddng b\u1ed9;\n",
            "b) M\u1ee9c tr\u1eeb\u0111i\u1ec3m gi\u1ea5y ph\u00e9p l\u00e1i xe \u0111\u1ed1i v\u1edbi t\u1eebng h\u00e0nh vi vi ph\u1ea1m h\u00e0nh ch\u00ednh; tr\u00ecnh t\u1ef1, th\u1ee7\n",
            "t\u1ee5c, th\u1ea9m quy\u1ec1n tr\u1eeb\u0111i\u1ec3m, ph\u1ee5c h\u1ed3i \u0111i\u1ec3m gi\u1ea5y ph\u00e9p l\u00e1i xe \u0111\u1ec3qu\u1ea3n l\u00fd vi\u1ec7c ch\u1ea5p h\u00e0nh ph\u00e1p\n",
            "lu\u1eadt v\u1ec1tr\u1eadt t\u1ef1, an to\u00e0n giao th\u00f4ng \u0111\u01b0\u1eddng b\u1ed9c\u1ee7a ng\u01b0\u1eddi l\u00e1i xe.\n",
            "2. C\u00e1c h\u00e0nh vi vi ph\u1ea1m h\u00e0nh ch\u00ednh trong l\u0129nh v\u1ef1c qu\u1ea3n l\u00fd nh\u00e0 n\u01b0\u1edbc kh\u00e1c li\u00ean quan \u0111\u1ebfn\n",
            "tr\u1eadt t\u1ef1, an to\u00e0n giao th\u00f4ng trong l\u0129nh v\u1ef1c giao th\u00f4ng \u0111\u01b0\u1eddng b\u1ed9m\u00e0 kh\u00f4ng quy \u0111\u1ecbnh t\u1ea1i\n",
            "Ngh\u1ecb\u0111\u1ecbnh n\u00e0y th\u00ec \u00e1p d\u1ee5ng quy \u0111\u1ecbnh t\u1ea1i c\u00e1c Ngh\u1ecb\u0111\u1ecbnh quy \u0111\u1ecbnh v\u1ec1x\u1eedph\u1ea1t vi ph\u1ea1m h\u00e0nh' metadata={'source': '/content/luatgt.pdf', 'start_index': 904}\n"
          ]
        }
      ],
      "source": [
        "from langchain.text_splitter import RecursiveCharacterTextSplitter\n",
        "\n",
        "# We use a hierarchical list of separators specifically tailored for splitting Markdown documents\n",
        "# This list is taken from LangChain's MarkdownTextSplitter class\n",
        "MARKDOWN_SEPARATORS = [\n",
        "    \"\\n#{1,6} \",\n",
        "    \"```\\n\",\n",
        "    \"\\n\\\\*\\\\*\\\\*+\\n\",\n",
        "    \"\\n---+\\n\",\n",
        "    \"\\n___+\\n\",\n",
        "    \"\\n\\n\",\n",
        "    \"\\n\",\n",
        "    \" \",\n",
        "    \"\",\n",
        "]\n",
        "\n",
        "text_splitter = RecursiveCharacterTextSplitter(\n",
        "    chunk_size=1000,  # The maximum number of characters in a chunk: we selected this value arbitrarily\n",
        "    chunk_overlap=100,  # The number of characters to overlap between chunks\n",
        "    add_start_index=True,  # If `True`, includes chunk's start index in metadata\n",
        "    strip_whitespace=True,  # If `True`, strips whitespace from the start and end of every document\n",
        "    separators=MARKDOWN_SEPARATORS,\n",
        ")\n",
        "\n",
        "docs_processed = []\n",
        "for doc in RAW_KNOWLEDGE_BASE:\n",
        "    docs_processed += text_splitter.split_documents([doc])\n",
        "print(docs_processed[1])"
      ]
    },
    {
      "cell_type": "markdown",
      "metadata": {
        "id": "SXsfngHhuDnE"
      },
      "source": [
        "# Embedding document \ud83d\udcc2"
      ]
    },
    {
      "cell_type": "code",
      "execution_count": 12,
      "metadata": {
        "colab": {
          "base_uri": "https://localhost:8080/",
          "height": 49,
          "referenced_widgets": [
            "bda788bf04c04dd593e6602e943706ab",
            "62191084142d473899f778b302558fd0",
            "5e30c5d30fe448bfba792a24fa6c2562",
            "aee350d0579a40b1bcc312a743cfd530",
            "0d63f4a416814ddcbbe15016b77c0d6c",
            "59ab158de4b04c7ea303b9bb8f097c90",
            "594cabc61601430c8ded6b1846eb1839",
            "fd94a69aceae44019d85029468f80862",
            "8499138ad54d4bb58d5c8a507dda91ee",
            "fc9f910775864680bd3274b929553306",
            "4e81e659ad7a4b9c9dd2f18a58ab2b41",
            "b3430fc0893d48fc960e61705cc1c7d4",
            "117a116ab9d64b378a41b5b1f6d73e40",
            "1b31edc8eacf4dc0bad2768a44587091",
            "11e55b81780048fd9f0df46736b3c9d3",
            "b8fe2a61ff274a7983fcbb93f6ed9dfc",
            "2a199a13ddff44998437e10e188c080e",
            "88eba71ac0c24cc0b120b902d767c553",
            "831e9ab3b5c7469a9f9edcde2c228a0d",
            "05a3d68f07774870880f9081847e601a",
            "454333a0b0fa4fdbb99fb9352f3d6e0f",
            "e29a4be2c9a04e899bb4d2f967db6832",
            "167ecc9d3a934a0eb07836cdef611b41",
            "fd612d7611794a45aede3f7ea03e8b00",
            "433b52c8b0d240caa724fcedb3ee0f9b",
            "ab62d9a91aa448dc8af7446086ff9e56"
          ]
        },
        "id": "GPG-aM8L6pe5",
        "outputId": "9ef70f79-a8e3-4bda-9fe7-7c31cf8d6371"
      },
      "outputs": [
        {
          "output_type": "display_data",
          "data": {
            "text/plain": [
              "VBox(children=(HTML(value='<center> <img\\nsrc=https://huggingface.co/front/assets/huggingface_logo-noborder.sv\u2026"
            ],
            "application/vnd.jupyter.widget-view+json": {
              "version_major": 2,
              "version_minor": 0,
              "model_id": "bda788bf04c04dd593e6602e943706ab"
            }
          },
          "metadata": {}
        }
      ],
      "source": [
        "from huggingface_hub import login\n",
        "login()\n"
      ]
    },
    {
      "cell_type": "code",
      "execution_count": 13,
      "metadata": {
        "colab": {
          "base_uri": "https://localhost:8080/",
          "height": 269,
          "referenced_widgets": [
            "6d1c11facb7c446d8f66b547247bfcd0",
            "920b8bae60bc434ba33346b0b7b3087b",
            "8dabfe820a404605b7ef1e76252f31e1",
            "f037ea423fea4fa6b6eb06f5b360049d",
            "69418a5aa7074b7681a13d57bffbb1ea",
            "d02e5d388868431795785d30d246f4af",
            "998b50c4349e40159488fe6f85c5003f",
            "28a8f2b9a59c40d6aac11bdff4fbf425",
            "d9752ece9ed14b90b99406e4ba4b33a6",
            "8a0774d3dc374f56b464c5d5c7a506cc",
            "fd85a11110574816a7badb2a4b352a04",
            "dedbfd8ca5d94bf8a27d8e9663735d4f",
            "9680e25a866d4324b99a399ef0fc3185",
            "63a41c2202b54d77b5a53df43ad20f15",
            "2a8aee76a305420f91d4b07b19b15a6b",
            "e981340fd1f1404a940343634c0ea44b",
            "7ac6eda1f6b443a1846772a22d2de03a",
            "76e11da592ed4966b5c9c8af7c1fa6e8",
            "d3ca2684bc3f499385e73edb632973a8",
            "bdcdffa11e744c4dbd6dcb4f43e028e7",
            "9dc747088f484cb9bad7460befc87438",
            "466c2f9bd3d24fe3b73c9235b056ef14",
            "930c3c74498e4bc685426c1c5eb764db",
            "cfdc3289546d47de9189dff382e4d5f9",
            "ea377c955ca1408fb01ac2534a7bf177",
            "f192b7c3ae924735917ee2a024cc8be1",
            "283cbe6ba2f142c1a5629c19e7668f56",
            "eb20c1d6266e4f5ca800f2b935c7ea4e",
            "224bee86bdab47daa48943c73823e267",
            "34a043f755b6440a8e6a6affc7fe3cd5",
            "2d4f4e78c1354eadb8afaab44f14b417",
            "d51ff4b88696455ca22194ed4c995cd2",
            "cbba8f007d6849cea89abc4acff1c22a",
            "7db14d13f449437bba26db56233ed7b9",
            "28550c077f2549369fd2c2ad1acaee28",
            "5cb6f2f491ac46f7809bb35289530310",
            "0ca11f0a4b74425ebf632b2653c7399d",
            "5566e870c18a4dd2a6c8b9ff21a18ede",
            "2c3bb0e9534c42cca4a82782e27a1c00",
            "f0ddbc0031a1408588cf4348b9d6235d",
            "635aeadbb3d240f8aab7925df02e01c4",
            "0c148c23dafc41599c2caec38d2b1971",
            "8a825762f356402686595385e79bef1e",
            "7c73d488cdf44de5899f1674a7c3b0a1"
          ]
        },
        "id": "h9SqYZjLL1fl",
        "outputId": "4240972e-1ad0-4894-c8a4-9d5939540e81"
      },
      "outputs": [
        {
          "output_type": "stream",
          "name": "stderr",
          "text": [
            "/usr/local/lib/python3.11/dist-packages/huggingface_hub/utils/_auth.py:94: UserWarning: \n",
            "The secret `HF_TOKEN` does not exist in your Colab secrets.\n",
            "To authenticate with the Hugging Face Hub, create a token in your settings tab (https://huggingface.co/settings/tokens), set it as secret in your Google Colab and restart your session.\n",
            "You will be able to reuse this secret in all of your notebooks.\n",
            "Please note that authentication is recommended but still optional to access public models or datasets.\n",
            "  warnings.warn(\n"
          ]
        },
        {
          "output_type": "display_data",
          "data": {
            "text/plain": [
              "tokenizer_config.json:   0%|          | 0.00/1.20k [00:00<?, ?B/s]"
            ],
            "application/vnd.jupyter.widget-view+json": {
              "version_major": 2,
              "version_minor": 0,
              "model_id": "6d1c11facb7c446d8f66b547247bfcd0"
            }
          },
          "metadata": {}
        },
        {
          "output_type": "display_data",
          "data": {
            "text/plain": [
              "sentencepiece.bpe.model:   0%|          | 0.00/5.07M [00:00<?, ?B/s]"
            ],
            "application/vnd.jupyter.widget-view+json": {
              "version_major": 2,
              "version_minor": 0,
              "model_id": "dedbfd8ca5d94bf8a27d8e9663735d4f"
            }
          },
          "metadata": {}
        },
        {
          "output_type": "display_data",
          "data": {
            "text/plain": [
              "tokenizer.json:   0%|          | 0.00/17.1M [00:00<?, ?B/s]"
            ],
            "application/vnd.jupyter.widget-view+json": {
              "version_major": 2,
              "version_minor": 0,
              "model_id": "930c3c74498e4bc685426c1c5eb764db"
            }
          },
          "metadata": {}
        },
        {
          "output_type": "display_data",
          "data": {
            "text/plain": [
              "special_tokens_map.json:   0%|          | 0.00/964 [00:00<?, ?B/s]"
            ],
            "application/vnd.jupyter.widget-view+json": {
              "version_major": 2,
              "version_minor": 0,
              "model_id": "7db14d13f449437bba26db56233ed7b9"
            }
          },
          "metadata": {}
        }
      ],
      "source": [
        "from langchain.text_splitter import RecursiveCharacterTextSplitter\n",
        "from transformers import AutoTokenizer\n",
        "\n",
        "EMBEDDING_MODEL_NAME = \"AITeamVN/Vietnamese_Embedding\"\n",
        "\n",
        "\n",
        "def split_documents(\n",
        "    chunk_size: int,\n",
        "    knowledge_base: List[LangchainDocument],\n",
        "    tokenizer_name: Optional[str] = EMBEDDING_MODEL_NAME,\n",
        ") -> List[LangchainDocument]:\n",
        "    \"\"\"\n",
        "    Split documents into chunks of maximum size `chunk_size` tokens and return a list of documents.\n",
        "    \"\"\"\n",
        "    text_splitter = RecursiveCharacterTextSplitter.from_huggingface_tokenizer(\n",
        "        AutoTokenizer.from_pretrained(tokenizer_name),\n",
        "        chunk_size=chunk_size,\n",
        "        chunk_overlap=int(chunk_size / 10),\n",
        "        add_start_index=True,\n",
        "        strip_whitespace=True,\n",
        "        separators=MARKDOWN_SEPARATORS,\n",
        "    )\n",
        "\n",
        "    docs_processed = []\n",
        "    for doc in knowledge_base:\n",
        "        docs_processed += text_splitter.split_documents([doc])\n",
        "\n",
        "    # Remove duplicates\n",
        "    unique_texts = {}\n",
        "    docs_processed_unique = []\n",
        "    for doc in docs_processed:\n",
        "        if doc.page_content not in unique_texts:\n",
        "            unique_texts[doc.page_content] = True\n",
        "            docs_processed_unique.append(doc)\n",
        "\n",
        "    return docs_processed_unique\n",
        "\n",
        "\n",
        "docs_processed = split_documents(\n",
        "    258,  # We choose a chunk size adapted to our model\n",
        "    RAW_KNOWLEDGE_BASE,\n",
        "    tokenizer_name=EMBEDDING_MODEL_NAME,\n",
        ")"
      ]
    },
    {
      "cell_type": "markdown",
      "metadata": {
        "id": "KJ8b7xebvXrz"
      },
      "source": [
        "# Vector Database \ud83d\udcc2"
      ]
    },
    {
      "cell_type": "code",
      "execution_count": 14,
      "metadata": {
        "colab": {
          "base_uri": "https://localhost:8080/",
          "height": 296,
          "referenced_widgets": [
            "a0567eba7fcd420db59783aebdca5bf9",
            "da5f268b9c4b4c1ead3005535bef87e7",
            "7dbc003449e54b9da364fe3b670ada0c",
            "418314e142d04324bd9a262c1928cb7c",
            "6064bfaf9f1f43c28c428be5d439b8c4",
            "6d0b4a93e312471f8ed6f5681235eab9",
            "a763a23ba4664af29e516de5a353ad5c",
            "1aed118e34a14dc6a5d99d2ca969846a",
            "fba02445dadb4e6b9e0194a59112bcea",
            "96e90d40c1934cb7b4ff8184dc68a49c",
            "d0d1410f65bf48ed8f580d1645216bda",
            "ab77dbc79e344524af5ddcbfd3a9a297",
            "3c818f494c754a1d92b49341e2c56f6b",
            "b03df823495c4ed7903fcfee4e84286c",
            "40131692704b4a2d80522a6237e3457b",
            "810becdd4c414a50aa61cb316071321d",
            "20b0d199a48f49c4a7830769b22d503f",
            "956d33eae099461081662682faa7f197",
            "452c7326d5fc4b0fb564695e5d09582b",
            "0fefd5ef20a148f2aeeb85b69147838e",
            "654404ff640a4a3b867d201c74dcd8ef",
            "f1ace39574d346289287cb89acb6c349",
            "e194c2433dc34b5aba5539be525cd891",
            "04dc0f4e2d3243a38fc461b526c8b13a",
            "a5aeada92558404da424576b3f8f26af",
            "d890a5b33cf443d2acba1afbf90f1a8a",
            "c9512e81d708424f968468207f7d55dc",
            "09ccfcb09f764bd7963f1556a1311db3",
            "0f9315e7e11b421c8746da0b878d2939",
            "98e6a3410ab84c4da29c4bee26773df9",
            "78217eb879144f04a1f282b5a83862e7",
            "b101d505b5ab45b29e216fc537faf77e",
            "3350b3b2bb124399b6ca4c707c1a2e80",
            "944270e32dde44d7ac592e813d6c46f3",
            "e652e15469ac42ed9d068f28bbae8787",
            "fc0a13077d7c42a6a6e3ed52a0e3624d",
            "094c89f0afec41118a8adec9701b2b37",
            "d08e6c9169bd4a48a7ea9a4046fe9185",
            "277a1053910946eb9ce51ead4b8079c3",
            "26906a5a56dd4e318e371715b6940f25",
            "7b76bd102d9e43a08531a031c169921f",
            "d13e8d57bba6465b82836d5bb50f7ae8",
            "391297ea6b714543bc6fe9c8dcbc4819",
            "9e39dfcfc2d0483d8ea9991fb3d8e9a8",
            "733b6f3c7a29416cbf5d6afaa5db54a9",
            "b23b6be7ab244f409c1b51d3d5aa2e14",
            "b610b3a96c734e109d470a455b383c97",
            "d92db8bede47441782317bb77c482648",
            "fe7ca2f2d93745698666374f63d4ccc6",
            "1d1cddbc1d054e86b86e34c41dff14a3",
            "bdf787fb49c7400c81888cc6b95630b6",
            "2d0d25bdda9d4134bd7597126e1eab46",
            "5068f140083d4e9eb3a57e47dd12c552",
            "cc5e54f7222c441a9fa8ed2514b706b0",
            "f1f57590e84447ceb0b9f76a3ccc4c71",
            "1b9ad9ac5a76493193e92a889a985b95",
            "4e29543f2ccd450481ef4e2c5b3815ff",
            "14622852c6364d60b5ba62d6870acb82",
            "db70358905fa4b7fbc134f1a7e563db9",
            "ddd0316ec7554cd9be95cd80ad917e99",
            "cb5443f6f4334c91a0f15e3bb8e87e84",
            "6526714de162422d834c852e1035189d",
            "00e485e7d4a14d5d85edaf1b01aaad3c",
            "f3d33a582c3b42d38dd53ef1ea0abfdb",
            "e526f9d98c3c41fbbde180b52af0ce1b",
            "04f5e44aab4d453f8b91141b7fcaf30a",
            "a1588fafdb084978b3409ec98a61bf83",
            "dc24affe6e804ea5910c750589b2ca8d",
            "dd00dfe3f2fa4593ae3a680ac575c2c1",
            "fb5e4e7d98044bcf8abdd84c64b0eba1",
            "5debbc273f2c4b02b6d647ef634f2f7a",
            "b6417d5b75a341c381d2d1bab24dc8c4",
            "ca3e4bbcffd349118c9b5cb6af5258fb",
            "ad5f6b13beb14b50ac96a1cb5bca566d",
            "7e614515c23c452f9f0b27d19ec4601d",
            "241e507c547f4a4f82daa086213fabcd",
            "ad0a521608054fc78138348ffe78ea5a"
          ]
        },
        "id": "D2sMpEQtMKzL",
        "outputId": "0191bd40-3fc2-4aba-82a1-0b098fbb9cf4"
      },
      "outputs": [
        {
          "output_type": "stream",
          "name": "stderr",
          "text": [
            "<ipython-input-14-a460f51192b9>:6: LangChainDeprecationWarning: The class `HuggingFaceEmbeddings` was deprecated in LangChain 0.2.2 and will be removed in 1.0. An updated version of the class exists in the :class:`~langchain-huggingface package and should be used instead. To use it run `pip install -U :class:`~langchain-huggingface` and import as `from :class:`~langchain_huggingface import HuggingFaceEmbeddings``.\n",
            "  embedding_model = HuggingFaceEmbeddings(\n"
          ]
        },
        {
          "output_type": "display_data",
          "data": {
            "text/plain": [
              "modules.json:   0%|          | 0.00/349 [00:00<?, ?B/s]"
            ],
            "application/vnd.jupyter.widget-view+json": {
              "version_major": 2,
              "version_minor": 0,
              "model_id": "a0567eba7fcd420db59783aebdca5bf9"
            }
          },
          "metadata": {}
        },
        {
          "output_type": "display_data",
          "data": {
            "text/plain": [
              "config_sentence_transformers.json:   0%|          | 0.00/171 [00:00<?, ?B/s]"
            ],
            "application/vnd.jupyter.widget-view+json": {
              "version_major": 2,
              "version_minor": 0,
              "model_id": "ab77dbc79e344524af5ddcbfd3a9a297"
            }
          },
          "metadata": {}
        },
        {
          "output_type": "display_data",
          "data": {
            "text/plain": [
              "README.md:   0%|          | 0.00/3.51k [00:00<?, ?B/s]"
            ],
            "application/vnd.jupyter.widget-view+json": {
              "version_major": 2,
              "version_minor": 0,
              "model_id": "e194c2433dc34b5aba5539be525cd891"
            }
          },
          "metadata": {}
        },
        {
          "output_type": "display_data",
          "data": {
            "text/plain": [
              "sentence_bert_config.json:   0%|          | 0.00/54.0 [00:00<?, ?B/s]"
            ],
            "application/vnd.jupyter.widget-view+json": {
              "version_major": 2,
              "version_minor": 0,
              "model_id": "944270e32dde44d7ac592e813d6c46f3"
            }
          },
          "metadata": {}
        },
        {
          "output_type": "display_data",
          "data": {
            "text/plain": [
              "config.json:   0%|          | 0.00/708 [00:00<?, ?B/s]"
            ],
            "application/vnd.jupyter.widget-view+json": {
              "version_major": 2,
              "version_minor": 0,
              "model_id": "733b6f3c7a29416cbf5d6afaa5db54a9"
            }
          },
          "metadata": {}
        },
        {
          "output_type": "display_data",
          "data": {
            "text/plain": [
              "model.safetensors:   0%|          | 0.00/2.27G [00:00<?, ?B/s]"
            ],
            "application/vnd.jupyter.widget-view+json": {
              "version_major": 2,
              "version_minor": 0,
              "model_id": "1b9ad9ac5a76493193e92a889a985b95"
            }
          },
          "metadata": {}
        },
        {
          "output_type": "display_data",
          "data": {
            "text/plain": [
              "config.json:   0%|          | 0.00/297 [00:00<?, ?B/s]"
            ],
            "application/vnd.jupyter.widget-view+json": {
              "version_major": 2,
              "version_minor": 0,
              "model_id": "a1588fafdb084978b3409ec98a61bf83"
            }
          },
          "metadata": {}
        }
      ],
      "source": [
        "import os\n",
        "from langchain.vectorstores import FAISS\n",
        "from langchain_community.embeddings import HuggingFaceEmbeddings\n",
        "from langchain_community.vectorstores.utils import DistanceStrategy\n",
        "\n",
        "embedding_model = HuggingFaceEmbeddings(\n",
        "    model_name=EMBEDDING_MODEL_NAME,\n",
        "    multi_process=True,\n",
        "    model_kwargs={\"device\": \"cuda\"},\n",
        "    encode_kwargs={\"normalize_embeddings\": True}\n",
        ")\n",
        "\n",
        "KNOWLEDGE_VECTOR_DATABASE = FAISS.from_documents(\n",
        "    docs_processed, embedding_model, distance_strategy=DistanceStrategy.COSINE\n",
        ")\n"
      ]
    },
    {
      "cell_type": "markdown",
      "metadata": {
        "id": "EuGgwbRvwgeJ"
      },
      "source": [
        "# L\u01b0u Vector Database \u0111\u01b0\u1ee3c x\u1eed l\u00fd v\u00e0o c\u00e1c th\u01b0 m\u1ee5c"
      ]
    },
    {
      "cell_type": "code",
      "execution_count": 15,
      "metadata": {
        "colab": {
          "base_uri": "https://localhost:8080/"
        },
        "id": "ehKDq37DMfrt",
        "outputId": "a162b843-314f-452f-beef-d48509318696"
      },
      "outputs": [
        {
          "output_type": "stream",
          "name": "stderr",
          "text": [
            "WARNING:langchain_community.vectorstores.faiss:`embedding_function` is expected to be an Embeddings object, support for passing in a function will soon be removed.\n"
          ]
        },
        {
          "output_type": "stream",
          "name": "stdout",
          "text": [
            "FAISS index saved to /content/vectordatabase/faiss_index.bin\n",
            "Document store saved to /content/vectordatabase/docstore.pkl\n",
            "Index to document store ID mapping saved to /content/vectordatabase/index_to_docstore_id.pkl\n",
            "Vector database loaded successfully.\n"
          ]
        }
      ],
      "source": [
        "import faiss  # Make sure to import FAISS\n",
        "import pickle\n",
        "\n",
        "# Save the FAISS index to a file\n",
        "faiss_file_path = os.path.join(VECTOR_DATABASE_PATH, 'faiss_index.bin')\n",
        "faiss.write_index(KNOWLEDGE_VECTOR_DATABASE.index, faiss_file_path)\n",
        "print(f\"FAISS index saved to {faiss_file_path}\")\n",
        "\n",
        "# Save the document store to a pickle file\n",
        "docstore_file_path = os.path.join(VECTOR_DATABASE_PATH, 'docstore.pkl')\n",
        "with open(docstore_file_path, 'wb') as f:\n",
        "    pickle.dump(KNOWLEDGE_VECTOR_DATABASE.docstore, f)\n",
        "print(f\"Document store saved to {docstore_file_path}\")\n",
        "\n",
        "# Save the index_to_docstore_id mapping\n",
        "mapping_file_path = os.path.join(VECTOR_DATABASE_PATH, 'index_to_docstore_id.pkl')\n",
        "with open(mapping_file_path, 'wb') as f:\n",
        "    pickle.dump(KNOWLEDGE_VECTOR_DATABASE.index_to_docstore_id, f)\n",
        "print(f\"Index to document store ID mapping saved to {mapping_file_path}\")\n",
        "\n",
        "# Load the FAISS index from the file\n",
        "loaded_index = faiss.read_index(faiss_file_path)\n",
        "\n",
        "# Load the document store from the pickle file\n",
        "with open(docstore_file_path, 'rb') as f:\n",
        "    loaded_docstore = pickle.load(f)\n",
        "\n",
        "# Load the index_to_docstore_id mapping\n",
        "with open(mapping_file_path, 'rb') as f:\n",
        "    index_to_docstore_id = pickle.load(f)\n",
        "\n",
        "# Create the FAISS vector store using the loaded index and document store\n",
        "loaded_vector_database = FAISS(\n",
        "    index=loaded_index,\n",
        "    docstore=loaded_docstore,\n",
        "    index_to_docstore_id=index_to_docstore_id,\n",
        "    embedding_function=embedding_model.embed_query\n",
        ")\n",
        "print(\"Vector database loaded successfully.\")"
      ]
    },
    {
      "cell_type": "markdown",
      "metadata": {
        "id": "qcRAMGk7wwjK"
      },
      "source": [
        "# Chain v\u1edbi th\u01b0 m\u1ee5c \u0111\u00e3 l\u01b0u"
      ]
    },
    {
      "cell_type": "code",
      "execution_count": 16,
      "metadata": {
        "id": "x72vDcblMr4w"
      },
      "outputs": [],
      "source": [
        "# Embed a user query in the same space\n",
        "user_query = \"Quy \u0111\u1ecbnh v\u1ec1 \u0111\u1ed9 tu\u1ed5i l\u00e1i xe m\u00f4 t\u00f4 hai b\u00e1nh?\"\n",
        "query_vector = embedding_model.embed_query(user_query)"
      ]
    },
    {
      "cell_type": "code",
      "execution_count": 17,
      "metadata": {
        "colab": {
          "base_uri": "https://localhost:8080/"
        },
        "id": "9tVUVC5_M6B6",
        "outputId": "7525b90b-84ec-4637-ecf0-e461b9ab8959"
      },
      "outputs": [
        {
          "output_type": "stream",
          "name": "stdout",
          "text": [
            "\n",
            "Starting retrieval for user_query='Quy \u0111\u1ecbnh v\u1ec1 \u0111\u1ed9 tu\u1ed5i l\u00e1i xe m\u00f4 t\u00f4 hai b\u00e1nh?'...\n",
            "\n",
            "==================================Top document==================================\n",
            "Giao th\u00f4ng \u0111\u01b0\u1eddng b\u1ed9n\u0103m 1968 c\u1ea5p (tr\u1eebgi\u1ea5y ph\u00e9p l\u00e1i xe qu\u1ed1c t\u1ebfdo Vi\u1ec7t Nam c\u1ea5p)\n",
            "nh\u01b0ng kh\u00f4ng mang theo gi\u1ea5y ph\u00e9p l\u00e1i xe qu\u1ed1c gia ph\u00f9 h\u1ee3p v\u1edbi lo\u1ea1i xe \u0111\u01b0\u1ee3c ph\u00e9p \u0111i\u1ec1u\n",
            "khi\u1ec3n;\n",
            "c) S\u1eedd\u1ee5ng gi\u1ea5y ph\u00e9p l\u00e1i xe kh\u00f4ng h\u1ee3p l\u1ec7(gi\u1ea5y ph\u00e9p l\u00e1i xe c\u00f3 s\u1ed1ph\u00f4i ghi \u1edfm\u1eb7t sau\n",
            "kh\u00f4ng tr\u00f9ng v\u1edbi s\u1ed1ph\u00f4i \u0111\u01b0\u1ee3c c\u1ea5p m\u1edbi nh\u1ea5t trong h\u1ec7th\u1ed1ng th\u00f4ng tin qu\u1ea3n l\u00fd gi\u1ea5y ph\u00e9p l\u00e1i\n",
            "xe).\n",
            "6. Ph\u1ea1t ti\u1ec1n t\u1eeb4.000.000 \u0111\u1ed3ng \u0111\u1ebfn 6.000.000 \u0111\u1ed3ng \u0111\u1ed1i v\u1edbi ng\u01b0\u1eddi t\u1eeb\u0111\u1ee716 tu\u1ed5i \u0111\u1ebfn d\u01b0\u1edbi\n",
            "18 tu\u1ed5i \u0111i\u1ec1u khi\u1ec3n xe \u00f4 t\u00f4, xe ch\u1edfng\u01b0\u1eddi b\u1ed1n b\u00e1nh c\u00f3 g\u1eafn \u0111\u1ed9ng c\u01a1, xe ch\u1edfh\u00e0ng b\u1ed1n b\u00e1nh\n",
            "c\u00f3 g\u1eafn \u0111\u1ed9ng c\u01a1 v\u00e0 c\u00e1c lo\u1ea1i xe t\u01b0\u01a1ng t\u1ef1xe \u00f4 t\u00f4.\n",
            "7. Ph\u1ea1t ti\u1ec1n t\u1eeb6.000.000 \u0111\u1ed3ng \u0111\u1ebfn 8.000.000 \u0111\u1ed3ng \u0111\u1ed1i v\u1edbi ng\u01b0\u1eddi \u0111i\u1ec1u khi\u1ec3n xe m\u00f4 t\u00f4 hai\n",
            "b\u00e1nh c\u00f3 dung t\u00edch xi-lanh tr\u00ean 125 cm3 tr\u1edfl\u00ean ho\u1eb7c c\u00f3 c\u00f4ng su\u1ea5t \u0111\u1ed9ng c\u01a1 \u0111i\u1ec7n tr\u00ean 11\n",
            "kW, xe m\u00f4 t\u00f4 ba b\u00e1nh th\u1ef1c hi\u1ec7n m\u1ed9t trong c\u00e1c h\u00e0nh vi vi ph\u1ea1m sau \u0111\u00e2y:\n",
            "a) C\u00f3 gi\u1ea5y ph\u00e9p l\u00e1i xe nh\u01b0ng kh\u00f4ng ph\u00f9 h\u1ee3p v\u1edbi lo\u1ea1i xe \u0111ang \u0111i\u1ec1u khi\u1ec3n;\n",
            "==================================Metadata==================================\n",
            "{'source': '/content/luatgt.pdf', 'start_index': 99502}\n"
          ]
        }
      ],
      "source": [
        "print(f\"\\nStarting retrieval for {user_query=}...\")\n",
        "# retrieved_docs = KNOWLEDGE_VECTOR_DATABASE.similarity_search(query=user_query, k=5)\n",
        "\n",
        "retrieved_docs = loaded_vector_database.similarity_search(query=user_query, k=5)\n",
        "\n",
        "print(\n",
        "    \"\\n==================================Top document==================================\"\n",
        ")\n",
        "print(retrieved_docs[0].page_content)\n",
        "print(\"==================================Metadata==================================\")\n",
        "print(retrieved_docs[0].metadata)"
      ]
    },
    {
      "cell_type": "markdown",
      "metadata": {
        "id": "cEvU27LIxcTM"
      },
      "source": [
        "# \u0110\u01b0a LLM \u0111\u1ec3 t\u1ea1o sinh c\u00e2u tr\u1ea3 l\u1eddi v\u1edbi d\u1eef li\u1ec7u \u0111\u01b0\u1ee3c chain"
      ]
    },
    {
      "cell_type": "code",
      "execution_count": 18,
      "metadata": {
        "colab": {
          "base_uri": "https://localhost:8080/",
          "height": 943,
          "referenced_widgets": [
            "cc575827e185417780901e021aa332e3",
            "97e5b0ca91e149dead67d1ebdc3be364",
            "1d3b1d01afa649829800d531c57ed946",
            "dd6015a231d94e4dbd1937a644289140",
            "8c94fc72d8ab47c58ee04efb3b897e4d",
            "4b46216b12c8453dbc2f264a93a83077",
            "05e088d0d0d74b058cf2cbb54b2d0335",
            "8f4cd32f6ecf4b5db8a4458dadf47767",
            "c9fb764787a940b7b09b87a00bc9372d",
            "17f453728cb144ad814509252662f6f1",
            "e36fda993e4143ddb3076b8862d9402a",
            "958b79467036444f99b16abaa9390c9a",
            "e3b4c43f6af347188d2ec47a0814bf3e",
            "078ee0e687fb429cb44c66ff4cb4e7b2",
            "7d60d11c7fad4949a82350814bc49c3e",
            "0eb154fa9bff4367b1f893c77ec73c2b",
            "09e215a932be45e2b6dafea6ce6b4ace",
            "da29ea5a3860451cbdeb52ce2d1ac446",
            "e30147daa258466a8fd8e077fe989630",
            "02fa1f4c1f074cd6b3b0b1c4c64c487d",
            "643d3caf890e4dbaadbc9051c12d36fb",
            "9404112ccce14b4c9394d94001ef3d83",
            "a9cc67278b3149f9a3997cd0724e95e3",
            "8eb950b793f646259d01e283e4f04a3c",
            "66cbd68c43e64153998afd2cf2e6029e",
            "b221aebf0c7b401fae603712b0dc3494",
            "cfe2d55780e144ef9fcca827088b9338",
            "c50ea3020d704dea998ce60f977bdf3b",
            "88e714a681d24c36b039adbfb18a41d5",
            "6f07188f403e43bca2bee1d85c2ea18f",
            "1aca79c8af3a4b199c8ac54208ae1cb8",
            "67c0d36eec154564918da555479c12ea",
            "2b368a2337184a14ba2b2a38e0297979",
            "660768fd84864ac780be888f3b3035d1",
            "427982c2348340669101b135b6080220",
            "bc88be81a79344908c30c477d58917c6",
            "36ff61018e0b44fa845e3e9c91b6abb6",
            "2ae456c145b946fb81bd459e945d148d",
            "5cafd2f57e654b47822fa3bf4eef97c5",
            "f7417214d8234b1598bbc6d1b7626c2d",
            "46257a116dbd4b849fcee74e9030dae1",
            "89c37e7a71154591b02061f13b24ccea",
            "1b754db2e72b4607b24a92c2f533e8a4",
            "9f693e444d214e8e944b4964d1cd7171",
            "75a664d4a995490488fcf76c814f985a",
            "5225a1023a2f41e0937a2c2c62a41461",
            "192c6983388b40e796fa623c6933d415",
            "c50d0a127d674d3c9274b4e26b7740c7",
            "7f6ed6868db94129a0aadaf9d4b61343",
            "d454a3ada80f4492b4025911b8b6dc3c",
            "6f7c6e7b80db4b49b6e194af9250a350",
            "52468805e3eb4b9ca72ba3cfa2f00246",
            "0bf1c078c1724b8da885ccb4e43765cc",
            "075c3e2a9da34904a9d366009c5ff08c",
            "f48f458e5f43488f8379cc5c7e146afa",
            "15692748ee0e40009bd0462ceeb40538",
            "24c523d82ad445248d3ec916f2219e42",
            "4c9e134b0a3c46d8aac81230632dc241",
            "2a580018fb2940f08fad63d302091b19",
            "181e417cabcf4b5cb9197a564a600833",
            "14fc2238a85940bbb62e81614345ec17",
            "90b22fc360244aad8bbcdbb407ec3ddc",
            "e4eaf0347fc247d4a79a7d0be2e9a6da",
            "ab408eff7d8e418380a16e5aea2106ce",
            "8f45346c431a4de9b40f8d95bd0cf914",
            "7373848d93e04c1c928e8e2be77827b0",
            "ab8d3759d71c40e18df406d939f7c6b6",
            "b1d7ccb0084e423088f01c6a4b08456d",
            "11669bacc373465a9c80e6de2d1913de",
            "69ccf2f7ce754651885ef3869384a81a",
            "39cf25cf577d4ebca8455cd095395169",
            "41ac4160b140450a865117907ab06ab7",
            "25bcd07911a640ffb60f0f5506f901e9",
            "d0a391764ff248c0b5755d1d03dee165",
            "f9b72784500944b99c2e90b7b45240dd",
            "b7d8d4541ac8419599742364f300a2c3",
            "6fda4ef9f19341909ea7e21b7662167d",
            "c39a754fcd9d4ccc96ee4a03b5e717c0",
            "048a1e4511ad48d981ada0678d729a0b",
            "414cac2b00c84a62ae5f7c814bb6fec9",
            "cdb266f18fa845879b19b59e739d21c3",
            "8529f3f37fcb4f859e6a0c317b06afe5",
            "f646bce7ddf1456d915eff73793d1f3f",
            "10fd11836d1644ef98def5e05a813274",
            "b2785920748543ec9ba15fb309a7163a",
            "52ffa03fb58e46dd9ba3edc3a71002e9",
            "9e2fbe6d400c4597892024b1c27b9e1f",
            "f0d16a37a87c466296d6435c99b7f04b",
            "9fdec49a059e44f1bb4eed2fb7504354",
            "a2618015d10242c38e9be4a8e3e1091c",
            "1e884893b7cd4fb0b931776a0a7213ca",
            "4a3b2f7a2dcb48ffada72bb589e8b577",
            "c167e50cf1d04bb3bbc28c95ab2d22df",
            "0d18531d4f724b8fa4551dc61482bec0",
            "e8f4499a4e4c421389ab1093a4809148",
            "74b56c6cd1de4e4fbeb82bab14d60885",
            "aac3f9be4a1c4a76abc13200691ca8de",
            "600232b99f274a3ea20ea0525a96a953",
            "0a18fb52f298400ea32cad3fbf70ac96",
            "6cdf3619f3a14c669a02170ab9c42bcc",
            "006bc15712f74747b8c431c782f75d93",
            "bf02d76fb63a41a784fdbfd7edb89539",
            "ae263ff103b74308b9c10950fe0347ce",
            "1d769590f468484787bac09552332cc0",
            "24f5202237724c3b933713ec6e3f6ebc",
            "94ecc1ae58054b5d92d6137827b38f05",
            "0bc22d8280214ad386cacd79c325930d",
            "dba7af758bc24f19901820cf49d07f5c",
            "7b0c3e952cca4abd928368c1f1863ae3",
            "6b0c52ac333b48b89d189ccbf9d1f583",
            "ddd287a8aeef45299c0f01c2a4432837",
            "6408d1c9b447441681ce58bb836e1e3d",
            "455cd05ef9fd4291bf19d6afad383514",
            "82af227953684c54beada0b624a5a95a",
            "c64ddc76bb774999858845ec16ee5804",
            "d3da123f62274eac8edeb89d1adb7d6b",
            "700309e825d14a289c69dfa209556e4e",
            "1739db6501444949a049f5f387a6ecd8",
            "58e145bbff044c709ae16ec91b08475f",
            "2aeebaed8f6b458ab375abe41ef4d617",
            "7d20760840244a919f059c4d069caf2d",
            "1f00a3295410442baadba209ae36a30f",
            "ff57c97f7f1e4e139c8081fc6d4c1749",
            "a177849a2bd4476cb700c252e700d916",
            "1b38ae729cc040e38d4427499cce3afb",
            "6cea698f20294d07b3d0c10f13a8efb8",
            "9188995662084854ad4ebb16e7252222",
            "26045ff26a2c4b5b8242d093ac26ab47",
            "aef3cfce2f314797b85a6446041a157e",
            "ebe3b3fd3f16444f9070ad32d6ecd52b",
            "e8c30ea574c440369b5c6de9e818886d",
            "a3a7fafa6da945e5add84d2f61ce8410",
            "912cbff4df8e46cdad60fb8078c53499",
            "9a6ef84f066549c1be71a9bebeb003da",
            "d49068d72f384ce1a0377efa81e5b657",
            "d8772d2ee8d94bb3b279632af04f00f7",
            "c3abc40e0a704194835232f0543fad9c",
            "216048a9f22e45088031963afba21524",
            "d5466666e9404345ac3ad074b0ae290f",
            "628582d2fffd40838cf2ec47fe9c5098",
            "8bbbd21cf45545cea2663c22e7a29fe6",
            "a93ceae5924f45febe63e1aae293990e",
            "7a05931cb62d4f058e6b800ec9504da1",
            "f5a25ca9047546708735c6a562d13e00",
            "65ca95a727da467f8a3c90b1e56c0ffd",
            "96dde4be040044ec8ce05adf0ad64bfa",
            "079bdb46589d4a5a98e91d9734aa249d",
            "07f3bf1d30c24c0db0453d53398834aa",
            "5bafdbcf148a481182c1643756f5a1ce",
            "8bedaf141d7c40b0a9697eea968b8e3c",
            "6555ed01c09c410ea5e84b2828b203aa",
            "c1f0800baba64efd910792be7076f5ff",
            "97cba4b546a34ea0a3d719ca984f648a",
            "ea0ce86ef947454ebdc249d212cec1da",
            "3d1c8900ce1d442dbcb380225f6ee8e2",
            "2fe7994d7ef94e2c8cc436ee1d74015f",
            "326ff0bc2f1645049d495a72fec8e228",
            "85c719139a584cbea16201930a69abda",
            "535736d390a34ea8ac731a7d16e427d6",
            "25c6c8f0e7c64869afe44d94e2f137b2",
            "456537264dd64cd0a5f6dc8f53be3ae5",
            "246eaef5501148149291f3879322a830",
            "7aac616ddbf44a03a0462b950680b12c",
            "58b993b4900245b58654f2652b6e4eab",
            "98812de0d6f94200ae8a221f12692401",
            "0e302918e3304340b04a5a41bcbc9b63",
            "6e8cf1ee0fdb4e09ae7e532d658aa004",
            "e0bf1d0eaedd4d36b4bdb9ef3e9530e1",
            "89c49bf8ce92495eb873503470288f51",
            "e0941312f0644219a0ddcf5f10a53ec6",
            "4bb944481e3a448e9eb171eddaa8c656",
            "be91b0ca50f847f593337fe12cdaac35",
            "2c55097778b0476d8ddff5e1d3d4e3e0",
            "70a61137f7a244ec88ca4b7c3b09ccb0",
            "0446dea7e71d4a859fe69d73d46ed9ab",
            "9f2b25c9b16f49d6a69369c6919a3c27",
            "7171b1a8e8d7482584b5a529829ac687",
            "5f8cf85e4d0e4ca4b68b93b0793b14f5",
            "0d763c5aa7324f1383d9ee916330feea",
            "58fb1ee7c0f9411da854e99ba789844b",
            "f7f15f7ad44d4c26b2faf515bef32683",
            "6d1a3cf0d0ef4cec81e1bfd70c182fea",
            "6107a53773ea45a596e4fa60f4fd46c4",
            "1f9632af983a41b690677fb7467d1b1a",
            "21c11193d573437597d070e3dc9c77a9",
            "8dfc103d3e9b4752ad61095faea1ad9b",
            "92faa3956ffd490caa5f84abde25fd35",
            "2fb4b75f09f142a79e65069e6e6d56ce",
            "6abd1ff5d08942868cfa64b17eaf4ea8",
            "14edaec7ed064cae9781ed1d8f16d844",
            "af641c2e4d7f4dccb09f6e5014c28e57",
            "723fde1a3199433582c4e56bfb5ba8f8",
            "192439d27b574652bd557fe95c0e5a29",
            "d4fa433feea84d22830473bcd5e8e2ec",
            "2637a9ba9d2d4c08bf57d61aa47262e8",
            "d0e9badb590249329aa87f68fd661951",
            "a28b9dbc98af4a86b0ad89ad06de2623",
            "0095b1a3edff45c499ce7c99a176c626"
          ]
        },
        "id": "ZIju0plfNAjW",
        "outputId": "6c6afa41-6654-4c63-ec50-cf24b644473f"
      },
      "outputs": [
        {
          "output_type": "display_data",
          "data": {
            "text/plain": [
              "config.json:   0%|          | 0.00/638 [00:00<?, ?B/s]"
            ],
            "application/vnd.jupyter.widget-view+json": {
              "version_major": 2,
              "version_minor": 0,
              "model_id": "cc575827e185417780901e021aa332e3"
            }
          },
          "metadata": {}
        },
        {
          "output_type": "display_data",
          "data": {
            "text/plain": [
              "model.safetensors.index.json:   0%|          | 0.00/23.9k [00:00<?, ?B/s]"
            ],
            "application/vnd.jupyter.widget-view+json": {
              "version_major": 2,
              "version_minor": 0,
              "model_id": "958b79467036444f99b16abaa9390c9a"
            }
          },
          "metadata": {}
        },
        {
          "output_type": "display_data",
          "data": {
            "text/plain": [
              "Fetching 8 files:   0%|          | 0/8 [00:00<?, ?it/s]"
            ],
            "application/vnd.jupyter.widget-view+json": {
              "version_major": 2,
              "version_minor": 0,
              "model_id": "a9cc67278b3149f9a3997cd0724e95e3"
            }
          },
          "metadata": {}
        },
        {
          "output_type": "stream",
          "name": "stderr",
          "text": [
            "Xet Storage is enabled for this repo, but the 'hf_xet' package is not installed. Falling back to regular HTTP download. For better performance, install the package with: `pip install huggingface_hub[hf_xet]` or `pip install hf_xet`\n",
            "WARNING:huggingface_hub.file_download:Xet Storage is enabled for this repo, but the 'hf_xet' package is not installed. Falling back to regular HTTP download. For better performance, install the package with: `pip install huggingface_hub[hf_xet]` or `pip install hf_xet`\n",
            "Xet Storage is enabled for this repo, but the 'hf_xet' package is not installed. Falling back to regular HTTP download. For better performance, install the package with: `pip install huggingface_hub[hf_xet]` or `pip install hf_xet`\n",
            "WARNING:huggingface_hub.file_download:Xet Storage is enabled for this repo, but the 'hf_xet' package is not installed. Falling back to regular HTTP download. For better performance, install the package with: `pip install huggingface_hub[hf_xet]` or `pip install hf_xet`\n",
            "Xet Storage is enabled for this repo, but the 'hf_xet' package is not installed. Falling back to regular HTTP download. For better performance, install the package with: `pip install huggingface_hub[hf_xet]` or `pip install hf_xet`\n",
            "WARNING:huggingface_hub.file_download:Xet Storage is enabled for this repo, but the 'hf_xet' package is not installed. Falling back to regular HTTP download. For better performance, install the package with: `pip install huggingface_hub[hf_xet]` or `pip install hf_xet`\n",
            "Xet Storage is enabled for this repo, but the 'hf_xet' package is not installed. Falling back to regular HTTP download. For better performance, install the package with: `pip install huggingface_hub[hf_xet]` or `pip install hf_xet`\n",
            "WARNING:huggingface_hub.file_download:Xet Storage is enabled for this repo, but the 'hf_xet' package is not installed. Falling back to regular HTTP download. For better performance, install the package with: `pip install huggingface_hub[hf_xet]` or `pip install hf_xet`\n",
            "Xet Storage is enabled for this repo, but the 'hf_xet' package is not installed. Falling back to regular HTTP download. For better performance, install the package with: `pip install huggingface_hub[hf_xet]` or `pip install hf_xet`\n",
            "Xet Storage is enabled for this repo, but the 'hf_xet' package is not installed. Falling back to regular HTTP download. For better performance, install the package with: `pip install huggingface_hub[hf_xet]` or `pip install hf_xet`\n",
            "Xet Storage is enabled for this repo, but the 'hf_xet' package is not installed. Falling back to regular HTTP download. For better performance, install the package with: `pip install huggingface_hub[hf_xet]` or `pip install hf_xet`\n",
            "WARNING:huggingface_hub.file_download:Xet Storage is enabled for this repo, but the 'hf_xet' package is not installed. Falling back to regular HTTP download. For better performance, install the package with: `pip install huggingface_hub[hf_xet]` or `pip install hf_xet`\n",
            "Xet Storage is enabled for this repo, but the 'hf_xet' package is not installed. Falling back to regular HTTP download. For better performance, install the package with: `pip install huggingface_hub[hf_xet]` or `pip install hf_xet`\n",
            "WARNING:huggingface_hub.file_download:Xet Storage is enabled for this repo, but the 'hf_xet' package is not installed. Falling back to regular HTTP download. For better performance, install the package with: `pip install huggingface_hub[hf_xet]` or `pip install hf_xet`\n",
            "WARNING:huggingface_hub.file_download:Xet Storage is enabled for this repo, but the 'hf_xet' package is not installed. Falling back to regular HTTP download. For better performance, install the package with: `pip install huggingface_hub[hf_xet]` or `pip install hf_xet`\n",
            "WARNING:huggingface_hub.file_download:Xet Storage is enabled for this repo, but the 'hf_xet' package is not installed. Falling back to regular HTTP download. For better performance, install the package with: `pip install huggingface_hub[hf_xet]` or `pip install hf_xet`\n"
          ]
        },
        {
          "output_type": "display_data",
          "data": {
            "text/plain": [
              "model-00004-of-00008.safetensors:   0%|          | 0.00/1.95G [00:00<?, ?B/s]"
            ],
            "application/vnd.jupyter.widget-view+json": {
              "version_major": 2,
              "version_minor": 0,
              "model_id": "660768fd84864ac780be888f3b3035d1"
            }
          },
          "metadata": {}
        },
        {
          "output_type": "display_data",
          "data": {
            "text/plain": [
              "model-00003-of-00008.safetensors:   0%|          | 0.00/1.98G [00:00<?, ?B/s]"
            ],
            "application/vnd.jupyter.widget-view+json": {
              "version_major": 2,
              "version_minor": 0,
              "model_id": "75a664d4a995490488fcf76c814f985a"
            }
          },
          "metadata": {}
        },
        {
          "output_type": "display_data",
          "data": {
            "text/plain": [
              "model-00001-of-00008.safetensors:   0%|          | 0.00/1.89G [00:00<?, ?B/s]"
            ],
            "application/vnd.jupyter.widget-view+json": {
              "version_major": 2,
              "version_minor": 0,
              "model_id": "15692748ee0e40009bd0462ceeb40538"
            }
          },
          "metadata": {}
        },
        {
          "output_type": "display_data",
          "data": {
            "text/plain": [
              "model-00006-of-00008.safetensors:   0%|          | 0.00/1.95G [00:00<?, ?B/s]"
            ],
            "application/vnd.jupyter.widget-view+json": {
              "version_major": 2,
              "version_minor": 0,
              "model_id": "ab8d3759d71c40e18df406d939f7c6b6"
            }
          },
          "metadata": {}
        },
        {
          "output_type": "display_data",
          "data": {
            "text/plain": [
              "model-00005-of-00008.safetensors:   0%|          | 0.00/1.98G [00:00<?, ?B/s]"
            ],
            "application/vnd.jupyter.widget-view+json": {
              "version_major": 2,
              "version_minor": 0,
              "model_id": "c39a754fcd9d4ccc96ee4a03b5e717c0"
            }
          },
          "metadata": {}
        },
        {
          "output_type": "display_data",
          "data": {
            "text/plain": [
              "model-00007-of-00008.safetensors:   0%|          | 0.00/1.98G [00:00<?, ?B/s]"
            ],
            "application/vnd.jupyter.widget-view+json": {
              "version_major": 2,
              "version_minor": 0,
              "model_id": "9fdec49a059e44f1bb4eed2fb7504354"
            }
          },
          "metadata": {}
        },
        {
          "output_type": "display_data",
          "data": {
            "text/plain": [
              "model-00008-of-00008.safetensors:   0%|          | 0.00/816M [00:00<?, ?B/s]"
            ],
            "application/vnd.jupyter.widget-view+json": {
              "version_major": 2,
              "version_minor": 0,
              "model_id": "6cdf3619f3a14c669a02170ab9c42bcc"
            }
          },
          "metadata": {}
        },
        {
          "output_type": "display_data",
          "data": {
            "text/plain": [
              "model-00002-of-00008.safetensors:   0%|          | 0.00/1.95G [00:00<?, ?B/s]"
            ],
            "application/vnd.jupyter.widget-view+json": {
              "version_major": 2,
              "version_minor": 0,
              "model_id": "ddd287a8aeef45299c0f01c2a4432837"
            }
          },
          "metadata": {}
        },
        {
          "output_type": "display_data",
          "data": {
            "text/plain": [
              "Loading checkpoint shards:   0%|          | 0/8 [00:00<?, ?it/s]"
            ],
            "application/vnd.jupyter.widget-view+json": {
              "version_major": 2,
              "version_minor": 0,
              "model_id": "1f00a3295410442baadba209ae36a30f"
            }
          },
          "metadata": {}
        },
        {
          "output_type": "display_data",
          "data": {
            "text/plain": [
              "generation_config.json:   0%|          | 0.00/111 [00:00<?, ?B/s]"
            ],
            "application/vnd.jupyter.widget-view+json": {
              "version_major": 2,
              "version_minor": 0,
              "model_id": "912cbff4df8e46cdad60fb8078c53499"
            }
          },
          "metadata": {}
        },
        {
          "output_type": "display_data",
          "data": {
            "text/plain": [
              "tokenizer_config.json:   0%|          | 0.00/1.43k [00:00<?, ?B/s]"
            ],
            "application/vnd.jupyter.widget-view+json": {
              "version_major": 2,
              "version_minor": 0,
              "model_id": "f5a25ca9047546708735c6a562d13e00"
            }
          },
          "metadata": {}
        },
        {
          "output_type": "stream",
          "name": "stderr",
          "text": [
            "Xet Storage is enabled for this repo, but the 'hf_xet' package is not installed. Falling back to regular HTTP download. For better performance, install the package with: `pip install huggingface_hub[hf_xet]` or `pip install hf_xet`\n",
            "WARNING:huggingface_hub.file_download:Xet Storage is enabled for this repo, but the 'hf_xet' package is not installed. Falling back to regular HTTP download. For better performance, install the package with: `pip install huggingface_hub[hf_xet]` or `pip install hf_xet`\n"
          ]
        },
        {
          "output_type": "display_data",
          "data": {
            "text/plain": [
              "tokenizer.model:   0%|          | 0.00/493k [00:00<?, ?B/s]"
            ],
            "application/vnd.jupyter.widget-view+json": {
              "version_major": 2,
              "version_minor": 0,
              "model_id": "3d1c8900ce1d442dbcb380225f6ee8e2"
            }
          },
          "metadata": {}
        },
        {
          "output_type": "display_data",
          "data": {
            "text/plain": [
              "tokenizer.json:   0%|          | 0.00/1.80M [00:00<?, ?B/s]"
            ],
            "application/vnd.jupyter.widget-view+json": {
              "version_major": 2,
              "version_minor": 0,
              "model_id": "0e302918e3304340b04a5a41bcbc9b63"
            }
          },
          "metadata": {}
        },
        {
          "output_type": "display_data",
          "data": {
            "text/plain": [
              "added_tokens.json:   0%|          | 0.00/42.0 [00:00<?, ?B/s]"
            ],
            "application/vnd.jupyter.widget-view+json": {
              "version_major": 2,
              "version_minor": 0,
              "model_id": "7171b1a8e8d7482584b5a529829ac687"
            }
          },
          "metadata": {}
        },
        {
          "output_type": "display_data",
          "data": {
            "text/plain": [
              "special_tokens_map.json:   0%|          | 0.00/168 [00:00<?, ?B/s]"
            ],
            "application/vnd.jupyter.widget-view+json": {
              "version_major": 2,
              "version_minor": 0,
              "model_id": "2fb4b75f09f142a79e65069e6e6d56ce"
            }
          },
          "metadata": {}
        },
        {
          "output_type": "stream",
          "name": "stderr",
          "text": [
            "Device set to use cuda:0\n"
          ]
        }
      ],
      "source": [
        "from transformers import pipeline, AutoTokenizer, AutoModelForCausalLM, BitsAndBytesConfig\n",
        "import torch\n",
        "\n",
        "READER_MODEL_NAME = \"HuggingFaceH4/zephyr-7b-beta\"\n",
        "\n",
        "# C\u1ea5u h\u00ecnh bitsandbytes \u0111\u1ec3 t\u1ea3i m\u00f4 h\u00ecnh \u1edf \u0111\u1ecbnh d\u1ea1ng 4-bit ti\u1ebft ki\u1ec7m RAM\n",
        "bnb_config = BitsAndBytesConfig(\n",
        "    load_in_4bit=True,\n",
        "    bnb_4bit_use_double_quant=True,\n",
        "    bnb_4bit_quant_type=\"nf4\",\n",
        "    bnb_4bit_compute_dtype=torch.float16,  # \u0110\u1ed5i sang float16 n\u1ebfu bfloat16 kh\u00f4ng \u0111\u01b0\u1ee3c h\u1ed7 tr\u1ee3\n",
        ")\n",
        "\n",
        "# Load m\u00f4 h\u00ecnh v\u1edbi c\u1ea5u h\u00ecnh nh\u1eb9, t\u1ef1 \u0111\u1ed9ng ph\u00e2n b\u1ed5 thi\u1ebft b\u1ecb (GPU/CPU)\n",
        "model = AutoModelForCausalLM.from_pretrained(\n",
        "    READER_MODEL_NAME,\n",
        "    quantization_config=bnb_config,\n",
        "    device_map=\"auto\",\n",
        "    trust_remote_code=True\n",
        ")\n",
        "\n",
        "# Load tokenizer\n",
        "tokenizer = AutoTokenizer.from_pretrained(READER_MODEL_NAME)\n",
        "\n",
        "# T\u1ea1o pipeline \u0111\u1ec3 d\u00f9ng m\u00f4 h\u00ecnh nh\u01b0 1 RAG Reader\n",
        "READER_LLM = pipeline(\n",
        "    model=model,\n",
        "    tokenizer=tokenizer,\n",
        "    task=\"text-generation\",\n",
        "    do_sample=True,\n",
        "    temperature=0.2,\n",
        "    repetition_penalty=1.1,\n",
        "    return_full_text=False,\n",
        "    max_new_tokens=500,\n",
        ")\n"
      ]
    },
    {
      "cell_type": "code",
      "execution_count": 19,
      "metadata": {
        "colab": {
          "base_uri": "https://localhost:8080/"
        },
        "id": "8du24nceNRgB",
        "outputId": "1a99996a-94c3-442c-b458-9a6f8801e8f6"
      },
      "outputs": [
        {
          "output_type": "stream",
          "name": "stdout",
          "text": [
            "\u001b[?25l     \u001b[90m\u2501\u2501\u2501\u2501\u2501\u2501\u2501\u2501\u2501\u2501\u2501\u2501\u2501\u2501\u2501\u2501\u2501\u2501\u2501\u2501\u2501\u2501\u2501\u2501\u2501\u2501\u2501\u2501\u2501\u2501\u2501\u2501\u2501\u2501\u2501\u2501\u2501\u2501\u2501\u2501\u001b[0m \u001b[32m0.0/981.5 kB\u001b[0m \u001b[31m?\u001b[0m eta \u001b[36m-:--:--\u001b[0m\r\u001b[2K     \u001b[91m\u2501\u2501\u2501\u2501\u2501\u2501\u2501\u2501\u2501\u2501\u2501\u2501\u2501\u2501\u2501\u2501\u2501\u2501\u2501\u2501\u2501\u2501\u001b[0m\u001b[91m\u2578\u001b[0m\u001b[90m\u2501\u2501\u2501\u2501\u2501\u2501\u2501\u2501\u2501\u2501\u2501\u2501\u2501\u2501\u2501\u001b[0m \u001b[32m583.7/981.5 kB\u001b[0m \u001b[31m18.6 MB/s\u001b[0m eta \u001b[36m0:00:01\u001b[0m\r\u001b[2K     \u001b[90m\u2501\u2501\u2501\u2501\u2501\u2501\u2501\u2501\u2501\u2501\u2501\u2501\u2501\u2501\u2501\u2501\u2501\u2501\u2501\u2501\u2501\u2501\u2501\u2501\u2501\u2501\u2501\u2501\u2501\u2501\u2501\u2501\u2501\u2501\u2501\u2501\u2501\u2501\u001b[0m \u001b[32m981.5/981.5 kB\u001b[0m \u001b[31m19.2 MB/s\u001b[0m eta \u001b[36m0:00:00\u001b[0m\n",
            "\u001b[?25h  Preparing metadata (setup.py) ... \u001b[?25l\u001b[?25hdone\n",
            "  Building wheel for langdetect (setup.py) ... \u001b[?25l\u001b[?25hdone\n"
          ]
        }
      ],
      "source": [
        "!pip -q install langdetect"
      ]
    },
    {
      "cell_type": "code",
      "execution_count": 20,
      "metadata": {
        "colab": {
          "base_uri": "https://localhost:8080/"
        },
        "id": "h-XNwX-iOBcP",
        "outputId": "5f0a00fa-7a1a-4b7d-8b07-fdb44d15be6c"
      },
      "outputs": [
        {
          "output_type": "stream",
          "name": "stdout",
          "text": [
            "<|system|>\n",
            "S\u1eed d\u1ee5ng th\u00f4ng tin trong ng\u1eef c\u1ea3nh, h\u00e3y \u0111\u01b0a ra c\u00e2u tr\u1ea3 l\u1eddi \u0111\u1ea7y \u0111\u1ee7 cho c\u00e2u h\u1ecfi.\n",
            "Ch\u1ec9 tr\u1ea3 l\u1eddi c\u00e2u h\u1ecfi \u0111\u01b0\u1ee3c h\u1ecfi, c\u00e2u tr\u1ea3 l\u1eddi c\u1ea7n ng\u1eafn g\u1ecdn v\u00e0 ph\u00f9 h\u1ee3p v\u1edbi c\u00e2u h\u1ecfi.\n",
            "Cung c\u1ea5p s\u1ed1 c\u1ee7a t\u00e0i li\u1ec7u ngu\u1ed3n khi ph\u00f9 h\u1ee3p.\n",
            "N\u1ebfu c\u00e2u tr\u1ea3 l\u1eddi kh\u00f4ng th\u1ec3 suy ra t\u1eeb ng\u1eef c\u1ea3nh, kh\u00f4ng \u0111\u01b0a ra c\u00e2u tr\u1ea3 l\u1eddi.</s>\n",
            "<|user|>\n",
            "Ng\u1eef c\u1ea3nh:\n",
            "{context}\n",
            "---\n",
            "B\u00e2y gi\u1edd \u0111\u00e2y l\u00e0 c\u00e2u h\u1ecfi m\u00e0 b\u1ea1n c\u1ea7n tr\u1ea3 l\u1eddi.\n",
            "\n",
            "C\u00e2u h\u1ecfi: {question}</s>\n",
            "<|assistant|>\n",
            "\n"
          ]
        }
      ],
      "source": [
        "from langdetect import detect\n",
        "\n",
        "prompt_in_chat_format_en = [\n",
        "    {\n",
        "        \"role\": \"system\",\n",
        "        \"content\": \"\"\"Using the information contained in the context,\n",
        "give a comprehensive answer to the question.\n",
        "Respond only to the question asked, response should be concise and relevant to the question.\n",
        "Provide the number of the source document when relevant.\n",
        "If the answer cannot be deduced from the context, do not give an answer.\"\"\",\n",
        "    },\n",
        "    {\n",
        "        \"role\": \"user\",\n",
        "        \"content\": \"\"\"Context:\n",
        "{context}\n",
        "---\n",
        "Now here is the question you need to answer.\n",
        "\n",
        "Question: {question}\"\"\",\n",
        "    },\n",
        "]\n",
        "\n",
        "# Prompt template for Vietnamese\n",
        "prompt_in_chat_format_vi = [\n",
        "    {\n",
        "        \"role\": \"system\",\n",
        "        \"content\": \"\"\"S\u1eed d\u1ee5ng th\u00f4ng tin trong ng\u1eef c\u1ea3nh, h\u00e3y \u0111\u01b0a ra c\u00e2u tr\u1ea3 l\u1eddi \u0111\u1ea7y \u0111\u1ee7 cho c\u00e2u h\u1ecfi.\n",
        "Ch\u1ec9 tr\u1ea3 l\u1eddi c\u00e2u h\u1ecfi \u0111\u01b0\u1ee3c h\u1ecfi, c\u00e2u tr\u1ea3 l\u1eddi c\u1ea7n ng\u1eafn g\u1ecdn v\u00e0 ph\u00f9 h\u1ee3p v\u1edbi c\u00e2u h\u1ecfi.\n",
        "Cung c\u1ea5p s\u1ed1 c\u1ee7a t\u00e0i li\u1ec7u ngu\u1ed3n khi ph\u00f9 h\u1ee3p.\n",
        "N\u1ebfu c\u00e2u tr\u1ea3 l\u1eddi kh\u00f4ng th\u1ec3 suy ra t\u1eeb ng\u1eef c\u1ea3nh, kh\u00f4ng \u0111\u01b0a ra c\u00e2u tr\u1ea3 l\u1eddi.\"\"\",\n",
        "    },\n",
        "    {\n",
        "        \"role\": \"user\",\n",
        "        \"content\": \"\"\"Ng\u1eef c\u1ea3nh:\n",
        "{context}\n",
        "---\n",
        "B\u00e2y gi\u1edd \u0111\u00e2y l\u00e0 c\u00e2u h\u1ecfi m\u00e0 b\u1ea1n c\u1ea7n tr\u1ea3 l\u1eddi.\n",
        "\n",
        "C\u00e2u h\u1ecfi: {question}\"\"\",\n",
        "    },\n",
        "]\n",
        "\n",
        "def detect_language(query):\n",
        "    return detect(query)\n",
        "\n",
        "def create_prompt(question):\n",
        "\n",
        "    language = detect_language(question)\n",
        "\n",
        "    if language == 'vi':\n",
        "        RAG_PROMPT_TEMPLATE = tokenizer.apply_chat_template(\n",
        "            prompt_in_chat_format_vi, tokenize=False, add_generation_prompt=True\n",
        "        )\n",
        "    else:\n",
        "        RAG_PROMPT_TEMPLATE = tokenizer.apply_chat_template(\n",
        "            prompt_in_chat_format_en, tokenize=False, add_generation_prompt=True\n",
        "        )\n",
        "\n",
        "    return RAG_PROMPT_TEMPLATE\n",
        "\n",
        "#test prompt if the question is Vietnamese\n",
        "\n",
        "test_prompt = create_prompt(\"H\u00e0 N\u1ed9i l\u00e0 th\u1ee7 \u0111\u00f4 c\u1ee7a n\u01b0\u1edbc n\u00e0o?\")\n",
        "print(test_prompt)"
      ]
    },
    {
      "cell_type": "code",
      "execution_count": 21,
      "metadata": {
        "colab": {
          "base_uri": "https://localhost:8080/"
        },
        "id": "HhkV9GeSOMxi",
        "outputId": "192c0232-7911-4069-ff46-778fa81cdc6b"
      },
      "outputs": [
        {
          "output_type": "stream",
          "name": "stdout",
          "text": [
            "C\u00e2u tr\u1ea3 l\u1eddi: Ng\u01b0\u1eddi t\u1eeb 16 tu\u1ed5i \u0111\u1ebfn d\u01b0\u1edbi 18 tu\u1ed5i \u0111\u01b0\u1ee3c ph\u00e9p l\u00e1i xe m\u00f4 t\u00f4 hai b\u00e1nh c\u00f3 dung t\u00edch xi-lanh tr\u00ean 50 cm3 ho\u1eb7c c\u00f3 c\u00f4ng su\u1ea5t \u0111\u1ed9ng c\u01a1 \u0111i\u1ec7n t\u1eeb 04 kW tr\u1edf l\u00ean, nh\u01b0ng kh\u00f4ng mang theo gi\u1ea5y ch\u1ee9ng nh\u1eadn ki\u1ec3m \u0111\u1ecbnh an to\u00e0n k\u1ef9thu\u1eadt v\u00e0 b\u1ea3o v\u1ec7 m\u00f4i tr\u01b0\u1eddng c\u1ee7a lo\u1ea1i xe n\u00e0. Tuy nhi\u00ean, ph\u1ea3i ki\u1ec3m \u0111\u1ecbnh theo quy \u0111\u1ecbnh ph\u1ea3i ki\u1ec3m \u0111\u1ecbnh cho lo\u1ea1i xe c\u00f3 quy \u0111\u1ecbnh ph\u1ea3i ki\u1ec3m \u0111\u1ecbnh.\n"
          ]
        }
      ],
      "source": [
        "retrieved_docs_text = [\n",
        "    doc.page_content for doc in retrieved_docs\n",
        "]  # We only need the text of the documents\n",
        "context = \"\\nExtracted documents:\\n\"\n",
        "context += \"\".join(\n",
        "    [f\"Document {str(i)}:::\\n\" + doc for i, doc in enumerate(retrieved_docs_text)]\n",
        ")\n",
        "\n",
        "user_query=\"Quy \u0111\u1ecbnh v\u1ec1 \u0111\u1ed9 tu\u1ed5i l\u00e1i xe m\u00f4 t\u00f4 2 b\u00e1nh?\"\n",
        "\n",
        "rag_prompt = create_prompt(user_query)\n",
        "final_prompt = rag_prompt.format(\n",
        "    question=user_query, context=context\n",
        ")\n",
        "\n",
        "# Redact an answer\n",
        "answer = READER_LLM(final_prompt)[0][\"generated_text\"]\n",
        "print(answer)"
      ]
    },
    {
      "cell_type": "code",
      "execution_count": 22,
      "metadata": {
        "id": "CqoSJDAEORYK"
      },
      "outputs": [],
      "source": [
        "from transformers import pipeline, Pipeline\n",
        "\n",
        "def answer_with_rag(\n",
        "    question: str,\n",
        "    llm: Pipeline,\n",
        "    knowledge_index: FAISS,\n",
        "    num_retrieved_docs: int = 30,\n",
        "    num_docs_final: int = 5,\n",
        ") -> Tuple[str, List[LangchainDocument]]:\n",
        "\n",
        "    print(\"=> Retrieving documents...\")\n",
        "    relevant_docs = knowledge_index.similarity_search(query=question, k=num_retrieved_docs)\n",
        "\n",
        "    if not relevant_docs:\n",
        "        raise ValueError(\"No relevant documents retrieved.\")\n",
        "\n",
        "    # Gi\u1eef b\u1ea3n g\u1ed1c \u0111\u1ec3 return\n",
        "    retrieved_docs = relevant_docs[:num_docs_final]  # gi\u1eef l\u1ea1i LangchainDocument g\u1ed1c\n",
        "\n",
        "    # L\u1ea5y n\u1ed9i dung text \u0111\u1ec3 \u0111\u01b0a v\u00e0o prompt\n",
        "    docs_text = [doc.page_content for doc in retrieved_docs]\n",
        "\n",
        "    context = \"\\nExtracted documents:\\n\"\n",
        "    context += \"\".join(\n",
        "        [f\"Document {str(i)}:::\\n{doc}\" for i, doc in enumerate(docs_text)]\n",
        "    )\n",
        "\n",
        "    RAG_PROMPT_TEMPLATE = create_prompt(question)\n",
        "    final_prompt = RAG_PROMPT_TEMPLATE.format(question=question, context=context)\n",
        "\n",
        "    print(\"=> Generating answer...\")\n",
        "    answer = llm(final_prompt)[0][\"generated_text\"]\n",
        "\n",
        "    return answer, retrieved_docs"
      ]
    },
    {
      "cell_type": "code",
      "execution_count": 23,
      "metadata": {
        "id": "2HBvtBwSP-gd",
        "colab": {
          "base_uri": "https://localhost:8080/"
        },
        "outputId": "c1a2ca38-8c65-4b26-9082-27347c0cc1c9"
      },
      "outputs": [
        {
          "output_type": "stream",
          "name": "stdout",
          "text": [
            "=> Retrieving documents...\n",
            "=> Generating answer...\n"
          ]
        }
      ],
      "source": [
        "question = \"V\u01b0\u1ee3t \u0111\u00e8n \u0111\u1ecf ph\u1ea1t bao nhi\u00eau ti\u1ec1n\"\n",
        "\n",
        "answer, relevant_docs = answer_with_rag(\n",
        "    question, READER_LLM, loaded_vector_database)"
      ]
    },
    {
      "cell_type": "code",
      "execution_count": 24,
      "metadata": {
        "id": "jaj6DxnGQi4_",
        "colab": {
          "base_uri": "https://localhost:8080/"
        },
        "outputId": "b62e11ad-492d-4be4-a9ec-f16652ae30eb"
      },
      "outputs": [
        {
          "output_type": "stream",
          "name": "stdout",
          "text": [
            "==================================Answer==================================\n",
            "V\u01b0\u1ee3t qua bi\u1ec3n b\u00e1o hi\u1ec7u \"C\u1ef1 ly t\u1ed1i thi\u1ec3u gi\u1eefa hai xe\" kh\u00f4ng \u0111\u01b0\u1ee3c v\u01b0\u1ee3t, v\u01b0\u1ee3t xe trong tr\u01b0\u1eddng h\u1ee3p kh\u00f4ng \u0111\u01b0\u1ee3c v\u01b0\u1ee3t, v\u01b0\u1ee3t b\u00ean ph\u1ea3i xe kh\u00e1c trong tr\u01b0\u1eddng h\u1ee3p kh\u00f4ng \u0111\u01b0\u1ee3c ph\u00e9p, v\u01b0\u1ee3t xe tr\u00ean \u0111\u01b0\u1eddng m\u00e0 trong m\u00e1u ho\u1eb7t c\u00f3 n\u1ed3ng \u0111\u1ed9c\u1ed3n v\u01b0\u1ee3t qu\u00e1 50 miligam/100 milil\u00edt m\u00e1u ho\u1eb7c v\u01b0\u1ee3t qu\u00e1 0,25 miligam/1 l\u00edt kh\u00ed th\u1edf \u0111\u1ec1u ph\u1ea3i n\u1ed9p ph\u00ed ph\u1ea1t t\u1eeb 4.000.000 \u0111\u1ed3ng \u0111\u1ebfn 6.000.000 \u0111\u1ed3ng, theo ng\u01b0\u1eddi \u0111i\u1ec1u khi\u1ec3n xe. Ngo\u00e0i ra, kh\u00f4ng ch\u1ea5p h\u00e0nh hi\u1ec7u l\u1ec7nh, ch\u1ec9d\u1eabn c\u1ee7a bi\u1ec3n b\u00e1o hi\u1ec7u, v\u1ea1ch k\u1ebb\u0111\u01b0\u1eddng, tr\u1eebc\u00e1c h\u00e0nh vi vi ph\u1ea1m quy \u0111\u1ecbnh t\u1ea1i \u0111i\u1ec3m a, \u0111i\u1ec3m b, \u0111i\u1ec3m c, \u0111i\u1ec3m d, \u0111i\u1ec3m e kho\u1ea3n 2; \u0111i\u1ec3m a, \u0111i\u1ec3m c, \u0111i\u1ec3m d, \u0111i\u1ec3m h kho\u1ea3n 3; \u0111i\u1ec3m a, \u0111i\u1ec3m b, \u0111i\u1ec3m c, \u0111i\u1ec3m d kho\u1ea3n 4; \u0111i\u1ec3m b, \u0111i\u1ec3m d kho\u1ea3n 6; \u0111i\u1ec3m a, \u0111i\u1ec3m b, \u0111i\u1ec3m c kho\u1ea3n 7; \u0111i\u1ec3m a k\n",
            "==================================Source docs==================================\n",
            "Document 0------------------------------------------------------------\n",
            "page_content='gi\u1eefkho\u1ea3ng c\u00e1ch theo quy \u0111\u1ecbnh c\u1ee7a bi\u1ec3n b\u00e1o hi\u1ec7u \u201cC\u1ef1ly t\u1ed1i thi\u1ec3u gi\u1eefa hai xe\u201d, tr\u1eebc\u00e1c\n",
            "h\u00e0nh vi vi ph\u1ea1m quy \u0111\u1ecbnh t\u1ea1i \u0111i\u1ec3m d kho\u1ea3n 5 \u0110i\u1ec1u n\u00e0y.\n",
            "5. Ph\u1ea1t ti\u1ec1n t\u1eeb4.000.000 \u0111\u1ed3ng \u0111\u1ebfn 6.000.000 \u0111\u1ed3ng \u0111\u1ed1i v\u1edbi ng\u01b0\u1eddi \u0111i\u1ec1u khi\u1ec3n xe th\u1ef1c hi\u1ec7n\n",
            "m\u1ed9t trong c\u00e1c h\u00e0nh vi vi ph\u1ea1m sau \u0111\u00e2y:\n",
            "a) V\u01b0\u1ee3t xe trong nh\u1eefng tr\u01b0\u1eddng h\u1ee3p kh\u00f4ng \u0111\u01b0\u1ee3c v\u01b0\u1ee3t, v\u01b0\u1ee3t xe t\u1ea1i \u0111o\u1ea1n \u0111\u01b0\u1eddng c\u00f3 bi\u1ec3n b\u00e1o\n",
            "hi\u1ec7u c\u00f3 n\u1ed9i dung c\u1ea5m v\u01b0\u1ee3t (\u0111\u1ed1i v\u1edbi lo\u1ea1i ph\u01b0\u01a1ng ti\u1ec7n \u0111ang \u0111i\u1ec1u khi\u1ec3n); kh\u00f4ng c\u00f3 t\u00edn hi\u1ec7u\n",
            "tr\u01b0\u1edbc khi v\u01b0\u1ee3t ho\u1eb7c c\u00f3 t\u00edn hi\u1ec7u v\u01b0\u1ee3t xe nh\u01b0ng kh\u00f4ng s\u1eedd\u1ee5ng trong su\u1ed1t qu\u00e1 tr\u00ecnh v\u01b0\u1ee3t\n",
            "xe; v\u01b0\u1ee3t b\u00ean ph\u1ea3i xe kh\u00e1c trong tr\u01b0\u1eddng h\u1ee3p kh\u00f4ng \u0111\u01b0\u1ee3c ph\u00e9p;\n",
            "b) \u0110i\u1ec1u khi\u1ec3n xe kh\u00f4ng \u0111i b\u00ean ph\u1ea3i theo chi\u1ec1u \u0111i c\u1ee7a m\u00ecnh; \u0111i kh\u00f4ng \u0111\u00fang ph\u1ea7n \u0111\u01b0\u1eddng\n",
            "ho\u1eb7c l\u00e0n \u0111\u01b0\u1eddng quy \u0111\u1ecbnh (l\u00e0n c\u00f9ng chi\u1ec1u ho\u1eb7c l\u00e0n ng\u01b0\u1ee3c chi\u1ec1u) tr\u1eebh\u00e0nh vi quy \u0111\u1ecbnh t\u1ea1i\n",
            "\u0111i\u1ec3m a kho\u1ea3n 4 \u0110i\u1ec1u n\u00e0y; \u0111i\u1ec1u khi\u1ec3n xe \u0111i qua d\u1ea3i ph\u00e2n c\u00e1ch c\u1ed1\u0111\u1ecbnh \u1edfgi\u1eefa hai ph\u1ea7n\n",
            "\u0111\u01b0\u1eddng xe ch\u1ea1y;\n",
            "c) Tr\u00e1nh xe \u0111i ng\u01b0\u1ee3c chi\u1ec1u kh\u00f4ng \u0111\u00fang quy \u0111\u1ecbnh (tr\u1eebh\u00e0nh vi vi ph\u1ea1m s\u1eedd\u1ee5ng \u0111\u00e8n chi\u1ebfu' metadata={'source': '/content/luatgt.pdf', 'start_index': -1}\n",
            "Document 1------------------------------------------------------------\n",
            "page_content='c) Kh\u00f4ng ch\u1ea5p h\u00e0nh hi\u1ec7u l\u1ec7nh c\u1ee7a \u0111\u00e8n t\u00edn hi\u1ec7u giao th\u00f4ng;\n",
            "d) Kh\u00f4ng ch\u1ea5p h\u00e0nh hi\u1ec7u l\u1ec7nh, h\u01b0\u1edbng d\u1eabn c\u1ee7a ng\u01b0\u1eddi \u0111i\u1ec1u khi\u1ec3n giao th\u00f4ng ho\u1eb7c ng\u01b0\u1eddi\n",
            "ki\u1ec3m so\u00e1t giao th\u00f4ng;\n",
            "\u0111) Kh\u00f4ng nh\u01b0\u1eddng \u0111\u01b0\u1eddng ho\u1eb7c g\u00e2y c\u1ea3n tr\u1edfxe \u0111\u01b0\u1ee3c quy\u1ec1n \u01b0u ti\u00ean \u0111ang ph\u00e1t t\u00edn hi\u1ec7u \u01b0u\n",
            "ti\u00ean \u0111i l\u00e0m nhi\u1ec7m v\u1ee5.\n",
            "8. Ph\u1ea1t ti\u1ec1n t\u1eeb6.000.000 \u0111\u1ed3ng \u0111\u1ebfn 8.000.000 \u0111\u1ed3ng \u0111\u1ed1i v\u1edbi ng\u01b0\u1eddi \u0111i\u1ec1u khi\u1ec3n xe th\u1ef1c hi\u1ec7n\n",
            "m\u1ed9t trong c\u00e1c h\u00e0nh vi vi ph\u1ea1m sau \u0111\u00e2y:\n",
            "a) \u0110i\u1ec1u khi\u1ec3n xe ch\u1ea1y qu\u00e1 t\u1ed1c \u0111\u1ed9quy \u0111\u1ecbnh tr\u00ean 20 km/h;\n",
            "b) \u0110i\u1ec1u khi\u1ec3n xe tr\u00ean \u0111\u01b0\u1eddng m\u00e0 trong m\u00e1u ho\u1eb7c h\u01a1i th\u1edfc\u00f3 n\u1ed3ng \u0111\u1ed9c\u1ed3n v\u01b0\u1ee3t qu\u00e1 50\n",
            "miligam \u0111\u1ebfn 80 miligam/100 milil\u00edt m\u00e1u ho\u1eb7c v\u01b0\u1ee3t qu\u00e1 0,25 miligam \u0111\u1ebfn 0,4 miligam/1\n",
            "l\u00edt kh\u00ed th\u1edf.\n",
            "9. Ph\u1ea1t ti\u1ec1n t\u1eeb8.000.000 \u0111\u1ed3ng \u0111\u1ebfn 10.000.000 \u0111\u1ed3ng \u0111\u1ed1i v\u1edbi ng\u01b0\u1eddi \u0111i\u1ec1u khi\u1ec3n xe th\u1ef1c\n",
            "hi\u1ec7n m\u1ed9t trong c\u00e1c h\u00e0nh vi vi ph\u1ea1m sau \u0111\u00e2y:\n",
            "a) \u0110i\u1ec1u khi\u1ec3n xe l\u1ea1ng l\u00e1ch, \u0111\u00e1nh v\u00f5ng tr\u00ean \u0111\u01b0\u1eddng b\u1ed9; s\u1eedd\u1ee5ng ch\u00e2n ch\u1ed1ng ho\u1eb7c v\u1eadt kh\u00e1c\n",
            "qu\u1ec7t xu\u1ed1ng \u0111\u01b0\u1eddng khi xe \u0111ang ch\u1ea1y;\n",
            "b) \u0110i\u1ec1u khi\u1ec3n xe th\u00e0nh nh\u00f3m t\u1eeb02 xe tr\u1edfl\u00ean ch\u1ea1y qu\u00e1 t\u1ed1c \u0111\u1ed9quy \u0111\u1ecbnh;' metadata={'source': '/content/luatgt.pdf', 'start_index': 42855}\n",
            "Document 2------------------------------------------------------------\n",
            "page_content='\u0111\u01b0\u1eddng b\u1ed9\n",
            "1. Ph\u1ea1t ti\u1ec1n t\u1eeb400.000 \u0111\u1ed3ng \u0111\u1ebfn 600.000 \u0111\u1ed3ng \u0111\u1ed1i v\u1edbi ng\u01b0\u1eddi \u0111i\u1ec1u khi\u1ec3n xe th\u1ef1c hi\u1ec7n m\u1ed9t\n",
            "trong c\u00e1c h\u00e0nh vi vi ph\u1ea1m sau \u0111\u00e2y:\n",
            "a) Kh\u00f4ng ch\u1ea5p h\u00e0nh hi\u1ec7u l\u1ec7nh, ch\u1ec9d\u1eabn c\u1ee7a bi\u1ec3n b\u00e1o hi\u1ec7u, v\u1ea1ch k\u1ebb\u0111\u01b0\u1eddng, tr\u1eebc\u00e1c h\u00e0nh vi\n",
            "vi ph\u1ea1m quy \u0111\u1ecbnh t\u1ea1i \u0111i\u1ec3m a, \u0111i\u1ec3m b, \u0111i\u1ec3m c, \u0111i\u1ec3m \u0111 kho\u1ea3n 2; \u0111i\u1ec3m a, \u0111i\u1ec3m d, \u0111i\u1ec3m \u0111\n",
            "kho\u1ea3n 3; kho\u1ea3n 4; \u0111i\u1ec3m a, \u0111i\u1ec3m c kho\u1ea3n 5; \u0111i\u1ec3m a, \u0111i\u1ec3m b, \u0111i\u1ec3m d, \u0111i\u1ec3m \u0111, \u0111i\u1ec3m e, \u0111i\u1ec3m i\n",
            "kho\u1ea3n 6; \u0111i\u1ec3m c, \u0111i\u1ec3m d kho\u1ea3n 7; \u0111i\u1ec3m a, \u0111i\u1ec3m b kho\u1ea3n 8; \u0111i\u1ec3m \u0111 kho\u1ea3n 9 \u0110i\u1ec1u n\u00e0y;\n",
            "b) Kh\u00f4ng b\u00e1o hi\u1ec7u b\u1eb1ng \u0111\u00e8n kh\u1ea9n c\u1ea5p ho\u1eb7c kh\u00f4ng \u0111\u1eb7t bi\u1ec3n c\u1ea3nh b\u00e1o \u201cCh\u00fa \u00fd xe \u0111\u1ed7\u201d theo\n",
            "quy \u0111\u1ecbnh trong tr\u01b0\u1eddng h\u1ee3p g\u1eb7p s\u1ef1c\u1ed1k\u1ef9thu\u1eadt (ho\u1eb7c b\u1ea5t kh\u1ea3kh\u00e1ng kh\u00e1c) bu\u1ed9c ph\u1ea3i \u0111\u1ed7xe\n",
            "chi\u1ebfm m\u1ed9t ph\u1ea7n \u0111\u01b0\u1eddng xe ch\u1ea1y ho\u1eb7c t\u1ea1i n\u01a1i kh\u00f4ng \u0111\u01b0\u1ee3c ph\u00e9p \u0111\u1ed7xe, tr\u1eebh\u00e0nh vi vi ph\u1ea1m\n",
            "quy \u0111\u1ecbnh t\u1ea1i \u0111i\u1ec3m b kho\u1ea3n 6 \u0110i\u1ec1u n\u00e0y.\n",
            "2. Ph\u1ea1t ti\u1ec1n t\u1eeb600.000 \u0111\u1ed3ng \u0111\u1ebfn 800.000 \u0111\u1ed3ng \u0111\u1ed1i v\u1edbi ng\u01b0\u1eddi \u0111i\u1ec1u khi\u1ec3n xe th\u1ef1c hi\u1ec7n m\u1ed9t\n",
            "trong c\u00e1c h\u00e0nh vi vi ph\u1ea1m sau \u0111\u00e2y:' metadata={'source': '/content/luatgt.pdf', 'start_index': 47818}\n",
            "Document 3------------------------------------------------------------\n",
            "page_content='giao th\u00f4ng \u0111\u01b0\u1eddng b\u1ed9\n",
            "1. Ph\u1ea1t ti\u1ec1n t\u1eeb200.000 \u0111\u1ed3ng \u0111\u1ebfn 400.000 \u0111\u1ed3ng \u0111\u1ed1i v\u1edbi ng\u01b0\u1eddi \u0111i\u1ec1u khi\u1ec3n xe th\u1ef1c hi\u1ec7n m\u1ed9t\n",
            "trong c\u00e1c h\u00e0nh vi vi ph\u1ea1m sau \u0111\u00e2y:\n",
            "a) Kh\u00f4ng ch\u1ea5p h\u00e0nh hi\u1ec7u l\u1ec7nh, ch\u1ec9d\u1eabn c\u1ee7a bi\u1ec3n b\u00e1o hi\u1ec7u, v\u1ea1ch k\u1ebb\u0111\u01b0\u1eddng, tr\u1eebc\u00e1c h\u00e0nh vi\n",
            "vi ph\u1ea1m quy \u0111\u1ecbnh t\u1ea1i \u0111i\u1ec3m b, \u0111i\u1ec3m d, \u0111i\u1ec3m e kho\u1ea3n 2; \u0111i\u1ec3m a, \u0111i\u1ec3m c, \u0111i\u1ec3m d, \u0111i\u1ec3m h\n",
            "kho\u1ea3n 3; \u0111i\u1ec3m a, \u0111i\u1ec3m b, \u0111i\u1ec3m c, \u0111i\u1ec3m d kho\u1ea3n 4; \u0111i\u1ec3m b, \u0111i\u1ec3m d kho\u1ea3n 6; \u0111i\u1ec3m a, \u0111i\u1ec3m b,\n",
            "\u0111i\u1ec3m c kho\u1ea3n 7; \u0111i\u1ec3m a kho\u1ea3n 8; \u0111i\u1ec3m b kho\u1ea3n 9; \u0111i\u1ec3m a kho\u1ea3n 10 \u0110i\u1ec1u n\u00e0y;\n",
            "b) Kh\u00f4ng c\u00f3 t\u00edn hi\u1ec7u tr\u01b0\u1edbc khi v\u01b0\u1ee3t ho\u1eb7c c\u00f3 t\u00edn hi\u1ec7u v\u01b0\u1ee3t xe nh\u01b0ng kh\u00f4ng s\u1eedd\u1ee5ng trong\n",
            "su\u1ed1t qu\u00e1 tr\u00ecnh v\u01b0\u1ee3t xe;\n",
            "c) L\u00f9i xe m\u00f4 t\u00f4 ba b\u00e1nh kh\u00f4ng quan s\u00e1t hai b\u00ean, ph\u00eda sau xe ho\u1eb7c kh\u00f4ng c\u00f3 t\u00edn hi\u1ec7u l\u00f9i xe;\n",
            "d) Ch\u1edfng\u01b0\u1eddi ng\u1ed3i tr\u00ean xe s\u1eedd\u1ee5ng \u00f4 (d\u00f9);\n",
            "\u0111) Kh\u00f4ng tu\u00e2n th\u1ee7c\u00e1c quy \u0111\u1ecbnh v\u1ec1nh\u01b0\u1eddng \u0111\u01b0\u1eddng t\u1ea1i n\u01a1i \u0111\u01b0\u1eddng giao nhau, tr\u1eebc\u00e1c h\u00e0nh\n",
            "vi vi ph\u1ea1m quy \u0111\u1ecbnh t\u1ea1i \u0111i\u1ec3m c, \u0111i\u1ec3m d kho\u1ea3n 6 \u0110i\u1ec1u n\u00e0y;' metadata={'source': '/content/luatgt.pdf', 'start_index': -1}\n",
            "Document 4------------------------------------------------------------\n",
            "page_content='ho\u1eb7c \u0111i v\u00e0o \u0111\u01b0\u1eddng c\u00f3 bi\u1ec3n b\u00e1o hi\u1ec7u c\u00f3 n\u1ed9i dung c\u1ea5m \u0111i v\u00e0o \u0111\u1ed1i v\u1edbi lo\u1ea1i ph\u01b0\u01a1ng ti\u1ec7n \u0111ang\n",
            "\u0111i\u1ec1u khi\u1ec3n g\u00e2y tai n\u1ea1n giao th\u00f4ng, tr\u1eebc\u00e1c h\u00e0nh vi vi ph\u1ea1m quy \u0111\u1ecbnh t\u1ea1i \u0111i\u1ec3m \u0111 kho\u1ea3n 11\n",
            "\u0110i\u1ec1u n\u00e0y;\n",
            "b) Vi ph\u1ea1m quy \u0111\u1ecbnh t\u1ea1i m\u1ed9t trong c\u00e1c \u0111i\u1ec3m, kho\u1ea3n sau c\u1ee7a \u0110i\u1ec1u n\u00e0y m\u00e0 g\u00e2y tai n\u1ea1n giao\n",
            "th\u00f4ng: \u0111i\u1ec3m a, \u0111i\u1ec3m b, \u0111i\u1ec3m c, \u0111i\u1ec3m d, \u0111i\u1ec3m \u0111 kho\u1ea3n 1; \u0111i\u1ec3m c kho\u1ea3n 2; \u0111i\u1ec3m b, \u0111i\u1ec3m g,\n",
            "\u0111i\u1ec3m h, \u0111i\u1ec3m n, \u0111i\u1ec3m o, \u0111i\u1ec3m p, kho\u1ea3n 3; \u0111i\u1ec3m a, \u0111i\u1ec3m c, \u0111i\u1ec3m d kho\u1ea3n 4; \u0111i\u1ec3m c, \u0111i\u1ec3m d,\n",
            "\u0111i\u1ec3m e, \u0111i\u1ec3m h, \u0111i\u1ec3m n, \u0111i\u1ec3m o, \u0111i\u1ec3m q kho\u1ea3n 5; \u0111i\u1ec3m b kho\u1ea3n 7; \u0111i\u1ec3m b, \u0111i\u1ec3m c, \u0111i\u1ec3m d\n",
            "kho\u1ea3n 9 \u0110i\u1ec1u n\u00e0y.\n",
            "11. Ph\u1ea1t ti\u1ec1n t\u1eeb30.000.000 \u0111\u1ed3ng \u0111\u1ebfn 40.000.000 \u0111\u1ed3ng \u0111\u1ed1i v\u1edbi ng\u01b0\u1eddi \u0111i\u1ec1u khi\u1ec3n xe th\u1ef1c\n",
            "hi\u1ec7n m\u1ed9t trong c\u00e1c h\u00e0nh vi vi ph\u1ea1m sau \u0111\u00e2y:\n",
            "a) \u0110i\u1ec1u khi\u1ec3n xe tr\u00ean \u0111\u01b0\u1eddng m\u00e0 trong m\u00e1u ho\u1eb7c h\u01a1i th\u1edfc\u00f3 n\u1ed3ng \u0111\u1ed9c\u1ed3n v\u01b0\u1ee3t qu\u00e1 80\n",
            "miligam/100 milil\u00edt m\u00e1u ho\u1eb7c v\u01b0\u1ee3t qu\u00e1 0,4 miligam/1 l\u00edt kh\u00ed th\u1edf;\n",
            "b) Kh\u00f4ng ch\u1ea5p h\u00e0nh y\u00eau c\u1ea7u ki\u1ec3m tra v\u1ec1n\u1ed3ng \u0111\u1ed9c\u1ed3n c\u1ee7a ng\u01b0\u1eddi thi h\u00e0nh c\u00f4ng v\u1ee5;' metadata={'source': '/content/luatgt.pdf', 'start_index': 31313}\n"
          ]
        }
      ],
      "source": [
        "print(\"==================================Answer==================================\")\n",
        "print(f\"{answer}\")\n",
        "print(\"==================================Source docs==================================\")\n",
        "for i, doc in enumerate(relevant_docs):\n",
        "    print(f\"Document {i}------------------------------------------------------------\")\n",
        "    print(doc)"
      ]
    },
    {
      "cell_type": "code",
      "source": [],
      "metadata": {
        "id": "mC6fJGNAqXNA"
      },
      "execution_count": 24,
      "outputs": []
    },
    {
      "cell_type": "markdown",
      "metadata": {
        "id": "WgspLOvNi9dz"
      },
      "source": []
    }
  ],
  "metadata": {
    "accelerator": "GPU",
    "colab": {
      "gpuType": "T4",
      "provenance": []
    },
    "kernelspec": {
      "display_name": "Python 3",
      "name": "python3"
    },
    "language_info": {
      "name": "python"
    }
  },
  "nbformat": 4,
  "nbformat_minor": 0
}