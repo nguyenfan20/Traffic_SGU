{
  "nbformat": 4,
  "nbformat_minor": 0,
  "metadata": {
    "colab": {
      "provenance": [],
      "gpuType": "T4"
    },
    "kernelspec": {
      "name": "python3",
      "display_name": "Python 3"
    },
    "language_info": {
      "name": "python"
    },
    "accelerator": "GPU"
  },
  "cells": [
    {
      "cell_type": "markdown",
      "metadata": {
        "id": "view-in-github",
        "widgets": {
          "state": {}
        }
      },
      "source": [
        "<a href=\"https://colab.research.google.com/github/nguyenfan20/Traffic_SGU/blob/main/Vietnamese_Legal_Traffic_RAG.ipynb\" target=\"_parent\"><img src=\"https://colab.research.google.com/assets/colab-badge.svg\" alt=\"Open In Colab\"/></a>"
      ]
    },
    {
      "cell_type": "markdown",
      "source": [
        "# T\u1ed5ng quan d\u1ef1 \u00e1n \ud83e\udd16"
      ],
      "metadata": {
        "id": "If8uKmFJb7WP",
        "widgets": {
          "state": {}
        }
      }
    },
    {
      "cell_type": "markdown",
      "source": [
        "Notebook n\u00e0y tr\u00ecnh b\u00e0y c\u00e1ch t\u1ea1o m\u1ed9t chatbot b\u1eb1ng h\u1ec7 th\u1ed1ng RAG d\u1ef1a v\u00e0o th\u01b0 vi\u1ec7n LangChain v\u00e0 LLMs"
      ],
      "metadata": {
        "id": "C2YLtB01cSR-",
        "widgets": {
          "state": {}
        }
      }
    },
    {
      "cell_type": "code",
      "execution_count": 1,
      "metadata": {
        "colab": {
          "base_uri": "https://localhost:8080/"
        },
        "id": "n6fB8o1BHxf1",
        "outputId": "c9bca5e6-970c-4e25-88e8-daa6f03d4ddc",
        "widgets": {
          "state": {}
        }
      },
      "outputs": [
        {
          "output_type": "stream",
          "name": "stdout",
          "text": [
            "Found existing installation: fsspec 2025.3.2\n",
            "Uninstalling fsspec-2025.3.2:\n",
            "  Successfully uninstalled fsspec-2025.3.2\n",
            "Found existing installation: datasets 2.14.4\n",
            "Uninstalling datasets-2.14.4:\n",
            "  Successfully uninstalled datasets-2.14.4\n",
            "Found existing installation: gcsfs 2025.3.2\n",
            "Uninstalling gcsfs-2025.3.2:\n",
            "  Successfully uninstalled gcsfs-2025.3.2\n",
            "Collecting fsspec==2024.12.0\n",
            "  Downloading fsspec-2024.12.0-py3-none-any.whl.metadata (11 kB)\n",
            "Collecting datasets==3.5.0\n",
            "  Downloading datasets-3.5.0-py3-none-any.whl.metadata (19 kB)\n",
            "Collecting gcsfs==2024.12.0\n",
            "  Downloading gcsfs-2024.12.0-py2.py3-none-any.whl.metadata (1.6 kB)\n",
            "Requirement already satisfied: filelock in /usr/local/lib/python3.11/dist-packages (from datasets==3.5.0) (3.18.0)\n",
            "Requirement already satisfied: numpy>=1.17 in /usr/local/lib/python3.11/dist-packages (from datasets==3.5.0) (2.0.2)\n",
            "Requirement already satisfied: pyarrow>=15.0.0 in /usr/local/lib/python3.11/dist-packages (from datasets==3.5.0) (18.1.0)\n",
            "Requirement already satisfied: dill<0.3.9,>=0.3.0 in /usr/local/lib/python3.11/dist-packages (from datasets==3.5.0) (0.3.7)\n",
            "Requirement already satisfied: pandas in /usr/local/lib/python3.11/dist-packages (from datasets==3.5.0) (2.2.2)\n",
            "Requirement already satisfied: requests>=2.32.2 in /usr/local/lib/python3.11/dist-packages (from datasets==3.5.0) (2.32.3)\n",
            "Requirement already satisfied: tqdm>=4.66.3 in /usr/local/lib/python3.11/dist-packages (from datasets==3.5.0) (4.67.1)\n",
            "Requirement already satisfied: xxhash in /usr/local/lib/python3.11/dist-packages (from datasets==3.5.0) (3.5.0)\n",
            "Requirement already satisfied: multiprocess<0.70.17 in /usr/local/lib/python3.11/dist-packages (from datasets==3.5.0) (0.70.15)\n",
            "Requirement already satisfied: aiohttp in /usr/local/lib/python3.11/dist-packages (from datasets==3.5.0) (3.11.15)\n",
            "Requirement already satisfied: huggingface-hub>=0.24.0 in /usr/local/lib/python3.11/dist-packages (from datasets==3.5.0) (0.31.2)\n",
            "Requirement already satisfied: packaging in /usr/local/lib/python3.11/dist-packages (from datasets==3.5.0) (24.2)\n",
            "Requirement already satisfied: pyyaml>=5.1 in /usr/local/lib/python3.11/dist-packages (from datasets==3.5.0) (6.0.2)\n",
            "Requirement already satisfied: decorator>4.1.2 in /usr/local/lib/python3.11/dist-packages (from gcsfs==2024.12.0) (4.4.2)\n",
            "Requirement already satisfied: google-auth>=1.2 in /usr/local/lib/python3.11/dist-packages (from gcsfs==2024.12.0) (2.38.0)\n",
            "Requirement already satisfied: google-auth-oauthlib in /usr/local/lib/python3.11/dist-packages (from gcsfs==2024.12.0) (1.2.2)\n",
            "Requirement already satisfied: google-cloud-storage in /usr/local/lib/python3.11/dist-packages (from gcsfs==2024.12.0) (2.19.0)\n",
            "Requirement already satisfied: aiohappyeyeballs>=2.3.0 in /usr/local/lib/python3.11/dist-packages (from aiohttp->datasets==3.5.0) (2.6.1)\n",
            "Requirement already satisfied: aiosignal>=1.1.2 in /usr/local/lib/python3.11/dist-packages (from aiohttp->datasets==3.5.0) (1.3.2)\n",
            "Requirement already satisfied: attrs>=17.3.0 in /usr/local/lib/python3.11/dist-packages (from aiohttp->datasets==3.5.0) (25.3.0)\n",
            "Requirement already satisfied: frozenlist>=1.1.1 in /usr/local/lib/python3.11/dist-packages (from aiohttp->datasets==3.5.0) (1.6.0)\n",
            "Requirement already satisfied: multidict<7.0,>=4.5 in /usr/local/lib/python3.11/dist-packages (from aiohttp->datasets==3.5.0) (6.4.3)\n",
            "Requirement already satisfied: propcache>=0.2.0 in /usr/local/lib/python3.11/dist-packages (from aiohttp->datasets==3.5.0) (0.3.1)\n",
            "Requirement already satisfied: yarl<2.0,>=1.17.0 in /usr/local/lib/python3.11/dist-packages (from aiohttp->datasets==3.5.0) (1.20.0)\n",
            "Requirement already satisfied: cachetools<6.0,>=2.0.0 in /usr/local/lib/python3.11/dist-packages (from google-auth>=1.2->gcsfs==2024.12.0) (5.5.2)\n",
            "Requirement already satisfied: pyasn1-modules>=0.2.1 in /usr/local/lib/python3.11/dist-packages (from google-auth>=1.2->gcsfs==2024.12.0) (0.4.2)\n",
            "Requirement already satisfied: rsa<5,>=3.1.4 in /usr/local/lib/python3.11/dist-packages (from google-auth>=1.2->gcsfs==2024.12.0) (4.9.1)\n",
            "Requirement already satisfied: typing-extensions>=3.7.4.3 in /usr/local/lib/python3.11/dist-packages (from huggingface-hub>=0.24.0->datasets==3.5.0) (4.13.2)\n",
            "Requirement already satisfied: charset-normalizer<4,>=2 in /usr/local/lib/python3.11/dist-packages (from requests>=2.32.2->datasets==3.5.0) (3.4.2)\n",
            "Requirement already satisfied: idna<4,>=2.5 in /usr/local/lib/python3.11/dist-packages (from requests>=2.32.2->datasets==3.5.0) (3.10)\n",
            "Requirement already satisfied: urllib3<3,>=1.21.1 in /usr/local/lib/python3.11/dist-packages (from requests>=2.32.2->datasets==3.5.0) (2.4.0)\n",
            "Requirement already satisfied: certifi>=2017.4.17 in /usr/local/lib/python3.11/dist-packages (from requests>=2.32.2->datasets==3.5.0) (2025.4.26)\n",
            "Requirement already satisfied: requests-oauthlib>=0.7.0 in /usr/local/lib/python3.11/dist-packages (from google-auth-oauthlib->gcsfs==2024.12.0) (2.0.0)\n",
            "Requirement already satisfied: google-api-core<3.0.0dev,>=2.15.0 in /usr/local/lib/python3.11/dist-packages (from google-cloud-storage->gcsfs==2024.12.0) (2.24.2)\n",
            "Requirement already satisfied: google-cloud-core<3.0dev,>=2.3.0 in /usr/local/lib/python3.11/dist-packages (from google-cloud-storage->gcsfs==2024.12.0) (2.4.3)\n",
            "Requirement already satisfied: google-resumable-media>=2.7.2 in /usr/local/lib/python3.11/dist-packages (from google-cloud-storage->gcsfs==2024.12.0) (2.7.2)\n",
            "Requirement already satisfied: google-crc32c<2.0dev,>=1.0 in /usr/local/lib/python3.11/dist-packages (from google-cloud-storage->gcsfs==2024.12.0) (1.7.1)\n",
            "Requirement already satisfied: python-dateutil>=2.8.2 in /usr/local/lib/python3.11/dist-packages (from pandas->datasets==3.5.0) (2.9.0.post0)\n",
            "Requirement already satisfied: pytz>=2020.1 in /usr/local/lib/python3.11/dist-packages (from pandas->datasets==3.5.0) (2025.2)\n",
            "Requirement already satisfied: tzdata>=2022.7 in /usr/local/lib/python3.11/dist-packages (from pandas->datasets==3.5.0) (2025.2)\n",
            "Requirement already satisfied: googleapis-common-protos<2.0.0,>=1.56.2 in /usr/local/lib/python3.11/dist-packages (from google-api-core<3.0.0dev,>=2.15.0->google-cloud-storage->gcsfs==2024.12.0) (1.70.0)\n",
            "Requirement already satisfied: protobuf!=3.20.0,!=3.20.1,!=4.21.0,!=4.21.1,!=4.21.2,!=4.21.3,!=4.21.4,!=4.21.5,<7.0.0,>=3.19.5 in /usr/local/lib/python3.11/dist-packages (from google-api-core<3.0.0dev,>=2.15.0->google-cloud-storage->gcsfs==2024.12.0) (5.29.4)\n",
            "Requirement already satisfied: proto-plus<2.0.0,>=1.22.3 in /usr/local/lib/python3.11/dist-packages (from google-api-core<3.0.0dev,>=2.15.0->google-cloud-storage->gcsfs==2024.12.0) (1.26.1)\n",
            "Requirement already satisfied: pyasn1<0.7.0,>=0.6.1 in /usr/local/lib/python3.11/dist-packages (from pyasn1-modules>=0.2.1->google-auth>=1.2->gcsfs==2024.12.0) (0.6.1)\n",
            "Requirement already satisfied: six>=1.5 in /usr/local/lib/python3.11/dist-packages (from python-dateutil>=2.8.2->pandas->datasets==3.5.0) (1.17.0)\n",
            "Requirement already satisfied: oauthlib>=3.0.0 in /usr/local/lib/python3.11/dist-packages (from requests-oauthlib>=0.7.0->google-auth-oauthlib->gcsfs==2024.12.0) (3.2.2)\n",
            "Downloading fsspec-2024.12.0-py3-none-any.whl (183 kB)\n",
            "\u001b[2K   \u001b[90m\u2501\u2501\u2501\u2501\u2501\u2501\u2501\u2501\u2501\u2501\u2501\u2501\u2501\u2501\u2501\u2501\u2501\u2501\u2501\u2501\u2501\u2501\u2501\u2501\u2501\u2501\u2501\u2501\u2501\u2501\u2501\u2501\u2501\u2501\u2501\u2501\u2501\u2501\u2501\u2501\u001b[0m \u001b[32m183.9/183.9 kB\u001b[0m \u001b[31m16.6 MB/s\u001b[0m eta \u001b[36m0:00:00\u001b[0m\n",
            "\u001b[?25hDownloading datasets-3.5.0-py3-none-any.whl (491 kB)\n",
            "\u001b[2K   \u001b[90m\u2501\u2501\u2501\u2501\u2501\u2501\u2501\u2501\u2501\u2501\u2501\u2501\u2501\u2501\u2501\u2501\u2501\u2501\u2501\u2501\u2501\u2501\u2501\u2501\u2501\u2501\u2501\u2501\u2501\u2501\u2501\u2501\u2501\u2501\u2501\u2501\u2501\u2501\u2501\u2501\u001b[0m \u001b[32m491.2/491.2 kB\u001b[0m \u001b[31m40.5 MB/s\u001b[0m eta \u001b[36m0:00:00\u001b[0m\n",
            "\u001b[?25hDownloading gcsfs-2024.12.0-py2.py3-none-any.whl (35 kB)\n",
            "Installing collected packages: fsspec, datasets, gcsfs\n",
            "\u001b[31mERROR: pip's dependency resolver does not currently take into account all the packages that are installed. This behaviour is the source of the following dependency conflicts.\n",
            "torch 2.6.0+cu124 requires nvidia-cublas-cu12==12.4.5.8; platform_system == \"Linux\" and platform_machine == \"x86_64\", but you have nvidia-cublas-cu12 12.5.3.2 which is incompatible.\n",
            "torch 2.6.0+cu124 requires nvidia-cuda-cupti-cu12==12.4.127; platform_system == \"Linux\" and platform_machine == \"x86_64\", but you have nvidia-cuda-cupti-cu12 12.5.82 which is incompatible.\n",
            "torch 2.6.0+cu124 requires nvidia-cuda-nvrtc-cu12==12.4.127; platform_system == \"Linux\" and platform_machine == \"x86_64\", but you have nvidia-cuda-nvrtc-cu12 12.5.82 which is incompatible.\n",
            "torch 2.6.0+cu124 requires nvidia-cuda-runtime-cu12==12.4.127; platform_system == \"Linux\" and platform_machine == \"x86_64\", but you have nvidia-cuda-runtime-cu12 12.5.82 which is incompatible.\n",
            "torch 2.6.0+cu124 requires nvidia-cudnn-cu12==9.1.0.70; platform_system == \"Linux\" and platform_machine == \"x86_64\", but you have nvidia-cudnn-cu12 9.3.0.75 which is incompatible.\n",
            "torch 2.6.0+cu124 requires nvidia-cufft-cu12==11.2.1.3; platform_system == \"Linux\" and platform_machine == \"x86_64\", but you have nvidia-cufft-cu12 11.2.3.61 which is incompatible.\n",
            "torch 2.6.0+cu124 requires nvidia-curand-cu12==10.3.5.147; platform_system == \"Linux\" and platform_machine == \"x86_64\", but you have nvidia-curand-cu12 10.3.6.82 which is incompatible.\n",
            "torch 2.6.0+cu124 requires nvidia-cusolver-cu12==11.6.1.9; platform_system == \"Linux\" and platform_machine == \"x86_64\", but you have nvidia-cusolver-cu12 11.6.3.83 which is incompatible.\n",
            "torch 2.6.0+cu124 requires nvidia-cusparse-cu12==12.3.1.170; platform_system == \"Linux\" and platform_machine == \"x86_64\", but you have nvidia-cusparse-cu12 12.5.1.3 which is incompatible.\n",
            "torch 2.6.0+cu124 requires nvidia-nvjitlink-cu12==12.4.127; platform_system == \"Linux\" and platform_machine == \"x86_64\", but you have nvidia-nvjitlink-cu12 12.5.82 which is incompatible.\u001b[0m\u001b[31m\n",
            "\u001b[0mSuccessfully installed datasets-3.5.0 fsspec-2024.12.0 gcsfs-2024.12.0\n",
            "\u001b[2K     \u001b[90m\u2501\u2501\u2501\u2501\u2501\u2501\u2501\u2501\u2501\u2501\u2501\u2501\u2501\u2501\u2501\u2501\u2501\u2501\u2501\u2501\u2501\u2501\u2501\u2501\u2501\u2501\u2501\u2501\u2501\u2501\u2501\u2501\u2501\u2501\u2501\u2501\u2501\u2501\u001b[0m \u001b[32m647.5/647.5 kB\u001b[0m \u001b[31m40.5 MB/s\u001b[0m eta \u001b[36m0:00:00\u001b[0m\n",
            "\u001b[?25h  Preparing metadata (setup.py) ... \u001b[?25l\u001b[?25hdone\n",
            "\u001b[2K   \u001b[90m\u2501\u2501\u2501\u2501\u2501\u2501\u2501\u2501\u2501\u2501\u2501\u2501\u2501\u2501\u2501\u2501\u2501\u2501\u2501\u2501\u2501\u2501\u2501\u2501\u2501\u2501\u2501\u2501\u2501\u2501\u2501\u2501\u2501\u2501\u2501\u2501\u2501\u2501\u2501\u2501\u001b[0m \u001b[32m363.4/363.4 MB\u001b[0m \u001b[31m1.5 MB/s\u001b[0m eta \u001b[36m0:00:00\u001b[0m\n",
            "\u001b[2K   \u001b[90m\u2501\u2501\u2501\u2501\u2501\u2501\u2501\u2501\u2501\u2501\u2501\u2501\u2501\u2501\u2501\u2501\u2501\u2501\u2501\u2501\u2501\u2501\u2501\u2501\u2501\u2501\u2501\u2501\u2501\u2501\u2501\u2501\u2501\u2501\u2501\u2501\u2501\u2501\u2501\u2501\u001b[0m \u001b[32m13.8/13.8 MB\u001b[0m \u001b[31m116.6 MB/s\u001b[0m eta \u001b[36m0:00:00\u001b[0m\n",
            "\u001b[2K   \u001b[90m\u2501\u2501\u2501\u2501\u2501\u2501\u2501\u2501\u2501\u2501\u2501\u2501\u2501\u2501\u2501\u2501\u2501\u2501\u2501\u2501\u2501\u2501\u2501\u2501\u2501\u2501\u2501\u2501\u2501\u2501\u2501\u2501\u2501\u2501\u2501\u2501\u2501\u2501\u2501\u2501\u001b[0m \u001b[32m24.6/24.6 MB\u001b[0m \u001b[31m88.7 MB/s\u001b[0m eta \u001b[36m0:00:00\u001b[0m\n",
            "\u001b[2K   \u001b[90m\u2501\u2501\u2501\u2501\u2501\u2501\u2501\u2501\u2501\u2501\u2501\u2501\u2501\u2501\u2501\u2501\u2501\u2501\u2501\u2501\u2501\u2501\u2501\u2501\u2501\u2501\u2501\u2501\u2501\u2501\u2501\u2501\u2501\u2501\u2501\u2501\u2501\u2501\u2501\u2501\u001b[0m \u001b[32m883.7/883.7 kB\u001b[0m \u001b[31m45.3 MB/s\u001b[0m eta \u001b[36m0:00:00\u001b[0m\n",
            "\u001b[2K   \u001b[90m\u2501\u2501\u2501\u2501\u2501\u2501\u2501\u2501\u2501\u2501\u2501\u2501\u2501\u2501\u2501\u2501\u2501\u2501\u2501\u2501\u2501\u2501\u2501\u2501\u2501\u2501\u2501\u2501\u2501\u2501\u2501\u2501\u2501\u2501\u2501\u2501\u2501\u2501\u2501\u2501\u001b[0m \u001b[32m664.8/664.8 MB\u001b[0m \u001b[31m2.7 MB/s\u001b[0m eta \u001b[36m0:00:00\u001b[0m\n",
            "\u001b[2K   \u001b[90m\u2501\u2501\u2501\u2501\u2501\u2501\u2501\u2501\u2501\u2501\u2501\u2501\u2501\u2501\u2501\u2501\u2501\u2501\u2501\u2501\u2501\u2501\u2501\u2501\u2501\u2501\u2501\u2501\u2501\u2501\u2501\u2501\u2501\u2501\u2501\u2501\u2501\u2501\u2501\u2501\u001b[0m \u001b[32m211.5/211.5 MB\u001b[0m \u001b[31m6.0 MB/s\u001b[0m eta \u001b[36m0:00:00\u001b[0m\n",
            "\u001b[2K   \u001b[90m\u2501\u2501\u2501\u2501\u2501\u2501\u2501\u2501\u2501\u2501\u2501\u2501\u2501\u2501\u2501\u2501\u2501\u2501\u2501\u2501\u2501\u2501\u2501\u2501\u2501\u2501\u2501\u2501\u2501\u2501\u2501\u2501\u2501\u2501\u2501\u2501\u2501\u2501\u2501\u2501\u001b[0m \u001b[32m56.3/56.3 MB\u001b[0m \u001b[31m12.8 MB/s\u001b[0m eta \u001b[36m0:00:00\u001b[0m\n",
            "\u001b[2K   \u001b[90m\u2501\u2501\u2501\u2501\u2501\u2501\u2501\u2501\u2501\u2501\u2501\u2501\u2501\u2501\u2501\u2501\u2501\u2501\u2501\u2501\u2501\u2501\u2501\u2501\u2501\u2501\u2501\u2501\u2501\u2501\u2501\u2501\u2501\u2501\u2501\u2501\u2501\u2501\u2501\u2501\u001b[0m \u001b[32m127.9/127.9 MB\u001b[0m \u001b[31m7.5 MB/s\u001b[0m eta \u001b[36m0:00:00\u001b[0m\n",
            "\u001b[2K   \u001b[90m\u2501\u2501\u2501\u2501\u2501\u2501\u2501\u2501\u2501\u2501\u2501\u2501\u2501\u2501\u2501\u2501\u2501\u2501\u2501\u2501\u2501\u2501\u2501\u2501\u2501\u2501\u2501\u2501\u2501\u2501\u2501\u2501\u2501\u2501\u2501\u2501\u2501\u2501\u2501\u2501\u001b[0m \u001b[32m207.5/207.5 MB\u001b[0m \u001b[31m5.9 MB/s\u001b[0m eta \u001b[36m0:00:00\u001b[0m\n",
            "\u001b[2K   \u001b[90m\u2501\u2501\u2501\u2501\u2501\u2501\u2501\u2501\u2501\u2501\u2501\u2501\u2501\u2501\u2501\u2501\u2501\u2501\u2501\u2501\u2501\u2501\u2501\u2501\u2501\u2501\u2501\u2501\u2501\u2501\u2501\u2501\u2501\u2501\u2501\u2501\u2501\u2501\u2501\u2501\u001b[0m \u001b[32m21.1/21.1 MB\u001b[0m \u001b[31m95.9 MB/s\u001b[0m eta \u001b[36m0:00:00\u001b[0m\n",
            "\u001b[2K   \u001b[90m\u2501\u2501\u2501\u2501\u2501\u2501\u2501\u2501\u2501\u2501\u2501\u2501\u2501\u2501\u2501\u2501\u2501\u2501\u2501\u2501\u2501\u2501\u2501\u2501\u2501\u2501\u2501\u2501\u2501\u2501\u2501\u2501\u2501\u2501\u2501\u2501\u2501\u2501\u2501\u2501\u001b[0m \u001b[32m76.1/76.1 MB\u001b[0m \u001b[31m10.0 MB/s\u001b[0m eta \u001b[36m0:00:00\u001b[0m\n",
            "\u001b[2K   \u001b[90m\u2501\u2501\u2501\u2501\u2501\u2501\u2501\u2501\u2501\u2501\u2501\u2501\u2501\u2501\u2501\u2501\u2501\u2501\u2501\u2501\u2501\u2501\u2501\u2501\u2501\u2501\u2501\u2501\u2501\u2501\u2501\u2501\u2501\u2501\u2501\u2501\u2501\u2501\u2501\u2501\u001b[0m \u001b[32m31.3/31.3 MB\u001b[0m \u001b[31m66.4 MB/s\u001b[0m eta \u001b[36m0:00:00\u001b[0m\n",
            "\u001b[2K   \u001b[90m\u2501\u2501\u2501\u2501\u2501\u2501\u2501\u2501\u2501\u2501\u2501\u2501\u2501\u2501\u2501\u2501\u2501\u2501\u2501\u2501\u2501\u2501\u2501\u2501\u2501\u2501\u2501\u2501\u2501\u2501\u2501\u2501\u2501\u2501\u2501\u2501\u2501\u2501\u2501\u2501\u001b[0m \u001b[32m2.5/2.5 MB\u001b[0m \u001b[31m79.7 MB/s\u001b[0m eta \u001b[36m0:00:00\u001b[0m\n",
            "\u001b[2K   \u001b[90m\u2501\u2501\u2501\u2501\u2501\u2501\u2501\u2501\u2501\u2501\u2501\u2501\u2501\u2501\u2501\u2501\u2501\u2501\u2501\u2501\u2501\u2501\u2501\u2501\u2501\u2501\u2501\u2501\u2501\u2501\u2501\u2501\u2501\u2501\u2501\u2501\u2501\u2501\u2501\u2501\u001b[0m \u001b[32m45.7/45.7 kB\u001b[0m \u001b[31m3.6 MB/s\u001b[0m eta \u001b[36m0:00:00\u001b[0m\n",
            "\u001b[2K   \u001b[90m\u2501\u2501\u2501\u2501\u2501\u2501\u2501\u2501\u2501\u2501\u2501\u2501\u2501\u2501\u2501\u2501\u2501\u2501\u2501\u2501\u2501\u2501\u2501\u2501\u2501\u2501\u2501\u2501\u2501\u2501\u2501\u2501\u2501\u2501\u2501\u2501\u2501\u2501\u2501\u2501\u001b[0m \u001b[32m20.0/20.0 MB\u001b[0m \u001b[31m96.0 MB/s\u001b[0m eta \u001b[36m0:00:00\u001b[0m\n",
            "\u001b[2K   \u001b[90m\u2501\u2501\u2501\u2501\u2501\u2501\u2501\u2501\u2501\u2501\u2501\u2501\u2501\u2501\u2501\u2501\u2501\u2501\u2501\u2501\u2501\u2501\u2501\u2501\u2501\u2501\u2501\u2501\u2501\u2501\u2501\u2501\u2501\u2501\u2501\u2501\u2501\u2501\u2501\u2501\u001b[0m \u001b[32m244.3/244.3 kB\u001b[0m \u001b[31m20.0 MB/s\u001b[0m eta \u001b[36m0:00:00\u001b[0m\n",
            "\u001b[2K   \u001b[90m\u2501\u2501\u2501\u2501\u2501\u2501\u2501\u2501\u2501\u2501\u2501\u2501\u2501\u2501\u2501\u2501\u2501\u2501\u2501\u2501\u2501\u2501\u2501\u2501\u2501\u2501\u2501\u2501\u2501\u2501\u2501\u2501\u2501\u2501\u2501\u2501\u2501\u2501\u2501\u2501\u001b[0m \u001b[32m116.1/116.1 kB\u001b[0m \u001b[31m9.8 MB/s\u001b[0m eta \u001b[36m0:00:00\u001b[0m\n",
            "\u001b[2K   \u001b[90m\u2501\u2501\u2501\u2501\u2501\u2501\u2501\u2501\u2501\u2501\u2501\u2501\u2501\u2501\u2501\u2501\u2501\u2501\u2501\u2501\u2501\u2501\u2501\u2501\u2501\u2501\u2501\u2501\u2501\u2501\u2501\u2501\u2501\u2501\u2501\u2501\u2501\u2501\u2501\u2501\u001b[0m \u001b[32m44.4/44.4 kB\u001b[0m \u001b[31m3.6 MB/s\u001b[0m eta \u001b[36m0:00:00\u001b[0m\n",
            "\u001b[2K   \u001b[90m\u2501\u2501\u2501\u2501\u2501\u2501\u2501\u2501\u2501\u2501\u2501\u2501\u2501\u2501\u2501\u2501\u2501\u2501\u2501\u2501\u2501\u2501\u2501\u2501\u2501\u2501\u2501\u2501\u2501\u2501\u2501\u2501\u2501\u2501\u2501\u2501\u2501\u2501\u2501\u2501\u001b[0m \u001b[32m17.6/17.6 MB\u001b[0m \u001b[31m103.8 MB/s\u001b[0m eta \u001b[36m0:00:00\u001b[0m\n",
            "\u001b[2K   \u001b[90m\u2501\u2501\u2501\u2501\u2501\u2501\u2501\u2501\u2501\u2501\u2501\u2501\u2501\u2501\u2501\u2501\u2501\u2501\u2501\u2501\u2501\u2501\u2501\u2501\u2501\u2501\u2501\u2501\u2501\u2501\u2501\u2501\u2501\u2501\u2501\u2501\u2501\u2501\u2501\u2501\u001b[0m \u001b[32m4.4/4.4 MB\u001b[0m \u001b[31m98.9 MB/s\u001b[0m eta \u001b[36m0:00:00\u001b[0m\n",
            "\u001b[2K   \u001b[90m\u2501\u2501\u2501\u2501\u2501\u2501\u2501\u2501\u2501\u2501\u2501\u2501\u2501\u2501\u2501\u2501\u2501\u2501\u2501\u2501\u2501\u2501\u2501\u2501\u2501\u2501\u2501\u2501\u2501\u2501\u2501\u2501\u2501\u2501\u2501\u2501\u2501\u2501\u2501\u2501\u001b[0m \u001b[32m7.7/7.7 MB\u001b[0m \u001b[31m118.2 MB/s\u001b[0m eta \u001b[36m0:00:00\u001b[0m\n",
            "\u001b[2K   \u001b[90m\u2501\u2501\u2501\u2501\u2501\u2501\u2501\u2501\u2501\u2501\u2501\u2501\u2501\u2501\u2501\u2501\u2501\u2501\u2501\u2501\u2501\u2501\u2501\u2501\u2501\u2501\u2501\u2501\u2501\u2501\u2501\u2501\u2501\u2501\u2501\u2501\u2501\u2501\u2501\u2501\u001b[0m \u001b[32m40.8/40.8 kB\u001b[0m \u001b[31m3.6 MB/s\u001b[0m eta \u001b[36m0:00:00\u001b[0m\n",
            "\u001b[2K   \u001b[90m\u2501\u2501\u2501\u2501\u2501\u2501\u2501\u2501\u2501\u2501\u2501\u2501\u2501\u2501\u2501\u2501\u2501\u2501\u2501\u2501\u2501\u2501\u2501\u2501\u2501\u2501\u2501\u2501\u2501\u2501\u2501\u2501\u2501\u2501\u2501\u2501\u2501\u2501\u2501\u2501\u001b[0m \u001b[32m50.9/50.9 kB\u001b[0m \u001b[31m5.0 MB/s\u001b[0m eta \u001b[36m0:00:00\u001b[0m\n",
            "\u001b[2K   \u001b[90m\u2501\u2501\u2501\u2501\u2501\u2501\u2501\u2501\u2501\u2501\u2501\u2501\u2501\u2501\u2501\u2501\u2501\u2501\u2501\u2501\u2501\u2501\u2501\u2501\u2501\u2501\u2501\u2501\u2501\u2501\u2501\u2501\u2501\u2501\u2501\u2501\u2501\u2501\u2501\u2501\u001b[0m \u001b[32m313.7/313.7 kB\u001b[0m \u001b[31m26.7 MB/s\u001b[0m eta \u001b[36m0:00:00\u001b[0m\n",
            "\u001b[2K   \u001b[90m\u2501\u2501\u2501\u2501\u2501\u2501\u2501\u2501\u2501\u2501\u2501\u2501\u2501\u2501\u2501\u2501\u2501\u2501\u2501\u2501\u2501\u2501\u2501\u2501\u2501\u2501\u2501\u2501\u2501\u2501\u2501\u2501\u2501\u2501\u2501\u2501\u2501\u2501\u2501\u2501\u001b[0m \u001b[32m422.8/422.8 kB\u001b[0m \u001b[31m34.1 MB/s\u001b[0m eta \u001b[36m0:00:00\u001b[0m\n",
            "\u001b[2K   \u001b[90m\u2501\u2501\u2501\u2501\u2501\u2501\u2501\u2501\u2501\u2501\u2501\u2501\u2501\u2501\u2501\u2501\u2501\u2501\u2501\u2501\u2501\u2501\u2501\u2501\u2501\u2501\u2501\u2501\u2501\u2501\u2501\u2501\u2501\u2501\u2501\u2501\u2501\u2501\u2501\u2501\u001b[0m \u001b[32m53.6/53.6 kB\u001b[0m \u001b[31m4.8 MB/s\u001b[0m eta \u001b[36m0:00:00\u001b[0m\n",
            "\u001b[2K   \u001b[90m\u2501\u2501\u2501\u2501\u2501\u2501\u2501\u2501\u2501\u2501\u2501\u2501\u2501\u2501\u2501\u2501\u2501\u2501\u2501\u2501\u2501\u2501\u2501\u2501\u2501\u2501\u2501\u2501\u2501\u2501\u2501\u2501\u2501\u2501\u2501\u2501\u2501\u2501\u2501\u2501\u001b[0m \u001b[32m303.4/303.4 kB\u001b[0m \u001b[31m25.0 MB/s\u001b[0m eta \u001b[36m0:00:00\u001b[0m\n",
            "\u001b[2K   \u001b[90m\u2501\u2501\u2501\u2501\u2501\u2501\u2501\u2501\u2501\u2501\u2501\u2501\u2501\u2501\u2501\u2501\u2501\u2501\u2501\u2501\u2501\u2501\u2501\u2501\u2501\u2501\u2501\u2501\u2501\u2501\u2501\u2501\u2501\u2501\u2501\u2501\u2501\u2501\u2501\u2501\u001b[0m \u001b[32m263.6/263.6 kB\u001b[0m \u001b[31m25.9 MB/s\u001b[0m eta \u001b[36m0:00:00\u001b[0m\n",
            "\u001b[2K   \u001b[90m\u2501\u2501\u2501\u2501\u2501\u2501\u2501\u2501\u2501\u2501\u2501\u2501\u2501\u2501\u2501\u2501\u2501\u2501\u2501\u2501\u2501\u2501\u2501\u2501\u2501\u2501\u2501\u2501\u2501\u2501\u2501\u2501\u2501\u2501\u2501\u2501\u2501\u2501\u2501\u2501\u001b[0m \u001b[32m129.3/129.3 kB\u001b[0m \u001b[31m12.5 MB/s\u001b[0m eta \u001b[36m0:00:00\u001b[0m\n",
            "\u001b[?25h  Building wheel for annoy (setup.py) ... \u001b[?25l\u001b[?25hdone\n"
          ]
        }
      ],
      "source": [
        "!pip uninstall -y fsspec datasets gcsfs\n",
        "!pip install fsspec==2024.12.0 datasets==3.5.0 gcsfs==2024.12.0\n",
        "!pip install -q torch transformers accelerate bitsandbytes \\\n",
        "  langchain sentence-transformers faiss-cpu openpyxl pacmap datasets \\\n",
        "  langchain-community ragatouille tqdm pymupdf python-docx pandas"
      ]
    },
    {
      "cell_type": "code",
      "source": [
        "import os\n",
        "from tqdm.notebook import tqdm\n",
        "import pandas as pd\n",
        "from typing import Optional, List, Tuple\n",
        "\n",
        "FILE_01 = '/content/luatgt.pdf'\n",
        "\n",
        "\n",
        "VECTOR_DATABASE_PATH = '/content/vectordatabase'\n",
        "os.makedirs('/content/vectordatabase', exist_ok=True)"
      ],
      "metadata": {
        "id": "tDm7mOE_H7Xh",
        "widgets": {
          "state": {}
        }
      },
      "execution_count": 2,
      "outputs": []
    },
    {
      "cell_type": "markdown",
      "source": [
        "# Chunking \ud83d\udd2a"
      ],
      "metadata": {
        "id": "tRbi5bd0sjjf",
        "widgets": {
          "state": {}
        }
      }
    },
    {
      "cell_type": "code",
      "source": [
        "from langchain.docstore.document import Document as LangchainDocument\n",
        "from tqdm import tqdm\n",
        "from langchain.document_loaders import PyMuPDFLoader\n",
        "from docx import Document as DocxDocument\n",
        "import pandas as pd\n",
        "import os\n",
        "\n",
        "def load_pdf_file(file_path):\n",
        "    \"\"\"Loads a PDF file and returns its entire content using PyMuPDFLoader.\"\"\"\n",
        "    loader = PyMuPDFLoader(file_path)\n",
        "    documents = loader.load()\n",
        "    full_content = \"\"\n",
        "    for doc in documents:\n",
        "        full_content += doc.page_content + \"\\n\"  # Add a newline to separate pages\n",
        "    return full_content  # Return the entire content\n",
        "\n",
        "def load_txt_file(file_path):\n",
        "    \"\"\"Loads a TXT file and returns its content as a string.\"\"\"\n",
        "    with open(file_path, 'r', encoding='utf-8') as file:\n",
        "        return file.read()\n",
        "\n",
        "def load_docx_file(file_path):\n",
        "    \"\"\"Loads a DOCX file and returns its content as a string.\"\"\"\n",
        "    doc = DocxDocument(file_path)\n",
        "    full_text = []\n",
        "    for para in doc.paragraphs:\n",
        "        full_text.append(para.text)\n",
        "    return \"\\n\".join(full_text)\n",
        "\n",
        "def load_csv_file(file_path):\n",
        "    \"\"\"Loads a CSV file and concatenates all rows as a single string.\"\"\"\n",
        "    df = pd.read_csv(file_path)\n",
        "    return df.to_string(index=False)  # Converts the DataFrame to a string (without row indices)\n",
        "\n",
        "def load_file(file_path):\n",
        "    \"\"\"Determines the file type and loads the file content.\"\"\"\n",
        "    ext = os.path.splitext(file_path)[1].lower()\n",
        "    if ext == '.txt':\n",
        "        return load_txt_file(file_path)\n",
        "    elif ext in ['.doc', '.docx']:\n",
        "        return load_docx_file(file_path)\n",
        "    elif ext == '.pdf':\n",
        "        return load_pdf_file(file_path)\n",
        "    elif ext == '.csv':\n",
        "        return load_csv_file(file_path)\n",
        "    else:\n",
        "        raise ValueError(f\"Unsupported file type: {ext}\")"
      ],
      "metadata": {
        "id": "A1B1p27JLJ1P",
        "widgets": {
          "state": {}
        }
      },
      "execution_count": 3,
      "outputs": []
    },
    {
      "cell_type": "code",
      "source": [
        "# List of document file paths (PDF, DOCX, TXT, CSV)\n",
        "file_paths = [FILE_01] # Example file paths. It can be like: file_paths = [FILE_01, FILE_02,..]\n",
        "\n",
        "RAW_KNOWLEDGE_BASE = []\n",
        "for file_path in tqdm(file_paths):\n",
        "    try:\n",
        "        content = load_file(file_path)\n",
        "        RAW_KNOWLEDGE_BASE.append(\n",
        "            LangchainDocument(page_content=content, metadata={\"source\": file_path})\n",
        "        )\n",
        "    except Exception as e:\n",
        "        print(f\"Failed to process {file_path}: {e}\")"
      ],
      "metadata": {
        "colab": {
          "base_uri": "https://localhost:8080/"
        },
        "id": "YzuAON3ELhlo",
        "outputId": "8ea094e5-1d81-4e04-c716-6c7a221d5e50",
        "widgets": {
          "state": {}
        }
      },
      "execution_count": 4,
      "outputs": [
        {
          "output_type": "stream",
          "name": "stderr",
          "text": [
            "100%|\u2588\u2588\u2588\u2588\u2588\u2588\u2588\u2588\u2588\u2588| 1/1 [00:03<00:00,  3.07s/it]\n"
          ]
        }
      ]
    },
    {
      "cell_type": "code",
      "source": [
        "for doc in RAW_KNOWLEDGE_BASE:\n",
        "    print(f\"Source: {doc.metadata['source']}\")\n",
        "    print(f\"Content snippet: {doc.page_content[:500]}...\\n\")"
      ],
      "metadata": {
        "colab": {
          "base_uri": "https://localhost:8080/"
        },
        "id": "0mOxisvoLnZP",
        "outputId": "73922a6c-d12a-4926-d521-ea80b42928e6",
        "widgets": {
          "state": {}
        }
      },
      "execution_count": 5,
      "outputs": [
        {
          "output_type": "stream",
          "name": "stdout",
          "text": [
            "Source: /content/luatgt.pdf\n",
            "Content snippet: CH\u00cdNH PH\u1ee6\n",
            "--------\n",
            "C\u1ed8NG H\u00d2A X\u00c3 H\u1ed8I CH\u1ee6NGH\u0128A VI\u1ec6T NAM\n",
            "\u0110\u1ed9c l\u1eadp - T\u1ef1do - H\u1ea1nh ph\u00fac\n",
            "---------------\n",
            "S\u1ed1: 168/2024/N\u0110-CP\n",
            "H\u00e0 N\u1ed9i, ng\u00e0y 26 th\u00e1ng 12 n\u0103m 2024\n",
            "NGH\u1eca\u0110\u1ecaNH\n",
            "QUY \u0110\u1ecaNH X\u1eecPH\u1ea0T VI PH\u1ea0M H\u00c0NH CH\u00cdNH V\u1ec0TR\u1eacT T\u1ef0, AN TO\u00c0N GIAO\n",
            "TH\u00d4NG TRONG L\u0128NH V\u1ef0C GIAO TH\u00d4NG \u0110\u01af\u1edcNG B\u1ed8; TR\u1eea\u0110I\u1ec2M, PH\u1ee4C H\u1ed2I\n",
            "\u0110I\u1ec2M GI\u1ea4Y PH\u00c9P L\u00c1I XE\n",
            "C\u0103n c\u1ee9Lu\u1eadt T\u1ed5ch\u1ee9c Ch\u00ednh ph\u1ee7ng\u00e0y 19 th\u00e1ng 6 n\u0103m 2015; Lu\u1eadt s\u1eeda \u0111\u1ed5i, b\u1ed5sung m\u1ed9t\n",
            "s\u1ed1\u0111i\u1ec1u c\u1ee7a Lu\u1eadt T\u1ed5ch\u1ee9c Ch\u00ednh ph\u1ee7v\u00e0 Lu\u1eadt T\u1ed5ch\u1ee9c ch\u00ednh quy\u1ec1n \u0111\u1ecba ph\u01b0\u01a1ng ng\u00e0y 22\n",
            "th\u00e1ng 11 n\u0103m 2019;\n",
            "C\u0103n c\u1ee9Lu\u1eadt X\u1eedl\u00fd vi ph\u1ea1m h\u00e0...\n",
            "\n"
          ]
        }
      ]
    },
    {
      "cell_type": "code",
      "source": [
        "from langchain.text_splitter import RecursiveCharacterTextSplitter\n",
        "\n",
        "# We use a hierarchical list of separators specifically tailored for splitting Markdown documents\n",
        "# This list is taken from LangChain's MarkdownTextSplitter class\n",
        "MARKDOWN_SEPARATORS = [\n",
        "    \"\\n#{1,6} \",\n",
        "    \"```\\n\",\n",
        "    \"\\n\\\\*\\\\*\\\\*+\\n\",\n",
        "    \"\\n---+\\n\",\n",
        "    \"\\n___+\\n\",\n",
        "    \"\\n\\n\",\n",
        "    \"\\n\",\n",
        "    \" \",\n",
        "    \"\",\n",
        "]\n",
        "\n",
        "text_splitter = RecursiveCharacterTextSplitter(\n",
        "    chunk_size=1000,  # The maximum number of characters in a chunk: we selected this value arbitrarily\n",
        "    chunk_overlap=100,  # The number of characters to overlap between chunks\n",
        "    add_start_index=True,  # If `True`, includes chunk's start index in metadata\n",
        "    strip_whitespace=True,  # If `True`, strips whitespace from the start and end of every document\n",
        "    separators=MARKDOWN_SEPARATORS,\n",
        ")\n",
        "\n",
        "docs_processed = []\n",
        "for doc in RAW_KNOWLEDGE_BASE:\n",
        "    docs_processed += text_splitter.split_documents([doc])\n",
        "print(docs_processed[1])"
      ],
      "metadata": {
        "id": "XU34rNVHLrDP",
        "colab": {
          "base_uri": "https://localhost:8080/"
        },
        "outputId": "21c013b3-ed8d-402a-b005-1e1e51796926",
        "widgets": {
          "state": {}
        }
      },
      "execution_count": 6,
      "outputs": [
        {
          "output_type": "stream",
          "name": "stdout",
          "text": [
            "page_content='Ch\u01b0\u01a1ng I\n",
            "NH\u1eeeNG QUY \u0110\u1ecaNH CHUNG\n",
            "\u0110i\u1ec1u 1. Ph\u1ea1m vi \u0111i\u1ec1u ch\u1ec9nh\n",
            "1. Ngh\u1ecb\u0111\u1ecbnh n\u00e0y quy \u0111\u1ecbnh v\u1ec1:\n",
            "a) X\u1eedph\u1ea1t vi ph\u1ea1m h\u00e0nh ch\u00ednh v\u1ec1tr\u1eadt t\u1ef1, an to\u00e0n giao th\u00f4ng trong l\u0129nh v\u1ef1c giao th\u00f4ng\n",
            "\u0111\u01b0\u1eddng b\u1ed9bao g\u1ed3m: h\u00e0nh vi vi ph\u1ea1m h\u00e0nh ch\u00ednh; h\u00ecnh th\u1ee9c, m\u1ee9c x\u1eedph\u1ea1t, bi\u1ec7n ph\u00e1p kh\u1eafc\n",
            "ph\u1ee5c h\u1eadu qu\u1ea3\u0111\u1ed1i v\u1edbi t\u1eebng h\u00e0nh vi vi ph\u1ea1m h\u00e0nh ch\u00ednh; th\u1ea9m quy\u1ec1n l\u1eadp bi\u00ean b\u1ea3n, th\u1ea9m\n",
            "quy\u1ec1n x\u1eedph\u1ea1t, m\u1ee9c ph\u1ea1t ti\u1ec1n c\u1ee5th\u1ec3theo t\u1eebng ch\u1ee9c danh \u0111\u1ed1i v\u1edbi h\u00e0nh vi vi ph\u1ea1m h\u00e0nh\n",
            "ch\u00ednh v\u1ec1tr\u1eadt t\u1ef1, an to\u00e0n giao th\u00f4ng trong l\u0129nh v\u1ef1c giao th\u00f4ng \u0111\u01b0\u1eddng b\u1ed9;\n",
            "b) M\u1ee9c tr\u1eeb\u0111i\u1ec3m gi\u1ea5y ph\u00e9p l\u00e1i xe \u0111\u1ed1i v\u1edbi t\u1eebng h\u00e0nh vi vi ph\u1ea1m h\u00e0nh ch\u00ednh; tr\u00ecnh t\u1ef1, th\u1ee7\n",
            "t\u1ee5c, th\u1ea9m quy\u1ec1n tr\u1eeb\u0111i\u1ec3m, ph\u1ee5c h\u1ed3i \u0111i\u1ec3m gi\u1ea5y ph\u00e9p l\u00e1i xe \u0111\u1ec3qu\u1ea3n l\u00fd vi\u1ec7c ch\u1ea5p h\u00e0nh ph\u00e1p\n",
            "lu\u1eadt v\u1ec1tr\u1eadt t\u1ef1, an to\u00e0n giao th\u00f4ng \u0111\u01b0\u1eddng b\u1ed9c\u1ee7a ng\u01b0\u1eddi l\u00e1i xe.\n",
            "2. C\u00e1c h\u00e0nh vi vi ph\u1ea1m h\u00e0nh ch\u00ednh trong l\u0129nh v\u1ef1c qu\u1ea3n l\u00fd nh\u00e0 n\u01b0\u1edbc kh\u00e1c li\u00ean quan \u0111\u1ebfn\n",
            "tr\u1eadt t\u1ef1, an to\u00e0n giao th\u00f4ng trong l\u0129nh v\u1ef1c giao th\u00f4ng \u0111\u01b0\u1eddng b\u1ed9m\u00e0 kh\u00f4ng quy \u0111\u1ecbnh t\u1ea1i\n",
            "Ngh\u1ecb\u0111\u1ecbnh n\u00e0y th\u00ec \u00e1p d\u1ee5ng quy \u0111\u1ecbnh t\u1ea1i c\u00e1c Ngh\u1ecb\u0111\u1ecbnh quy \u0111\u1ecbnh v\u1ec1x\u1eedph\u1ea1t vi ph\u1ea1m h\u00e0nh' metadata={'source': '/content/luatgt.pdf', 'start_index': 904}\n"
          ]
        }
      ]
    },
    {
      "cell_type": "markdown",
      "source": [
        "# Embedding document \ud83d\udcc2"
      ],
      "metadata": {
        "id": "SXsfngHhuDnE",
        "widgets": {
          "state": {}
        }
      }
    },
    {
      "cell_type": "code",
      "source": [
        "from langchain.text_splitter import RecursiveCharacterTextSplitter\n",
        "from transformers import AutoTokenizer\n",
        "\n",
        "EMBEDDING_MODEL_NAME = \"AITeamVN/Vietnamese_Embedding\"\n",
        "\n",
        "\n",
        "def split_documents(\n",
        "    chunk_size: int,\n",
        "    knowledge_base: List[LangchainDocument],\n",
        "    tokenizer_name: Optional[str] = EMBEDDING_MODEL_NAME,\n",
        ") -> List[LangchainDocument]:\n",
        "    \"\"\"\n",
        "    Split documents into chunks of maximum size `chunk_size` tokens and return a list of documents.\n",
        "    \"\"\"\n",
        "    text_splitter = RecursiveCharacterTextSplitter.from_huggingface_tokenizer(\n",
        "        AutoTokenizer.from_pretrained(tokenizer_name),\n",
        "        chunk_size=chunk_size,\n",
        "        chunk_overlap=int(chunk_size / 10),\n",
        "        add_start_index=True,\n",
        "        strip_whitespace=True,\n",
        "        separators=MARKDOWN_SEPARATORS,\n",
        "    )\n",
        "\n",
        "    docs_processed = []\n",
        "    for doc in knowledge_base:\n",
        "        docs_processed += text_splitter.split_documents([doc])\n",
        "\n",
        "    # Remove duplicates\n",
        "    unique_texts = {}\n",
        "    docs_processed_unique = []\n",
        "    for doc in docs_processed:\n",
        "        if doc.page_content not in unique_texts:\n",
        "            unique_texts[doc.page_content] = True\n",
        "            docs_processed_unique.append(doc)\n",
        "\n",
        "    return docs_processed_unique\n",
        "\n",
        "\n",
        "docs_processed = split_documents(\n",
        "    258,  # We choose a chunk size adapted to our model\n",
        "    RAW_KNOWLEDGE_BASE,\n",
        "    tokenizer_name=EMBEDDING_MODEL_NAME,\n",
        ")"
      ],
      "metadata": {
        "id": "h9SqYZjLL1fl",
        "colab": {
          "base_uri": "https://localhost:8080/",
          "height": 269,
          "referenced_widgets": [
            "babd94ee4a5b4369bf3e541a97c9c896",
            "56b4a7cf169b4507b4f17d0b6008fcbe",
            "56f0e123c66c44eab690ec3c47a2944d",
            "dbc15ee1c18d49bfbcc5090494e4b922",
            "c2d350e263cb471e9ae7b297a6ed04e9",
            "e0acd5cd8b5a4a6abc341932b0000878",
            "ac6b5103fa9f46c2ac4660da8164ef61",
            "d4bb7da6de5f49e1a295ed68da08e441",
            "c641514dde174ca98cee14a3306ef938",
            "95440c3a0a9a45c5b5fb1b3e444ed90a",
            "96608758769d4879be5e4eb7febfc677",
            "81a7d42c53484024ab4fce76484dbf01",
            "7020b0914daa43d393eda3da7bc74539",
            "528d5ce6ec634c13b696e863ed0f0396",
            "e1df7919b7f6430591a2c56343582c81",
            "7c2174df46dd438bb7b77c07ae10ed35",
            "548d87ead8c54b4398e5296141371278",
            "4a589d8d335d45f385d49f6d335a8e4e",
            "51f79759cb014b57815da698906df89a",
            "34001da5509f4cbd9f3eb83eeb7266b3",
            "2cb5946ad86c48ecb49a5d9039d153b3",
            "02d8031b45a94436aadfb5a15c28de34",
            "d6a17359171f4279918789d9f52a76cf",
            "43a2a1c7c6f543d8b5c1e10972938744",
            "fc4a2f42f48f4812b4cb4d4f09700f33",
            "1dee3d1713384154b694fc2489cecb9b",
            "019a90b51b6041daa69a24fe2da35d00",
            "0fca2ae9e5e24e889b0c90b6120e829a",
            "9215cc10ee404b21ba19136df3e7e900",
            "f1185251af694d2dbd78c14f2bf69572",
            "33430a5317614165a35ecb9ad58d3cb3",
            "e8da68653d2d4c90988e94e841d22a50",
            "4c03357b3e2347e1881d6cbe86e4ccbd",
            "c6f8932a329a4e4980ee1eb436f76e4d",
            "cea4c9eb3b7e4a61a744fcc248f38c29",
            "56cf33eefd234a6eab25d7662c8f82f3",
            "7f049a410e874d559f906fcbbe25b74f",
            "a8ffad933ba54f81a97748c677fd66c9",
            "5ce7d950c86249a1acf081344c3aa708",
            "7a73e8a4b47547f4abdd1f3416ff4b44",
            "c11e032083b54523a75bbcd8583f2957",
            "1c1981497851436599409fc24a347553",
            "c7edf27be8c84d38a1f3ae125c4459db",
            "e9fd4c193b7243dfb483972ecb0635c6"
          ]
        },
        "outputId": "5e45205c-e7a0-4b6d-dbb6-5bde0056d395",
        "widgets": {
          "state": {}
        }
      },
      "execution_count": 7,
      "outputs": [
        {
          "output_type": "stream",
          "name": "stderr",
          "text": [
            "/usr/local/lib/python3.11/dist-packages/huggingface_hub/utils/_auth.py:94: UserWarning: \n",
            "The secret `HF_TOKEN` does not exist in your Colab secrets.\n",
            "To authenticate with the Hugging Face Hub, create a token in your settings tab (https://huggingface.co/settings/tokens), set it as secret in your Google Colab and restart your session.\n",
            "You will be able to reuse this secret in all of your notebooks.\n",
            "Please note that authentication is recommended but still optional to access public models or datasets.\n",
            "  warnings.warn(\n"
          ]
        },
        {
          "output_type": "display_data",
          "data": {
            "text/plain": [
              "tokenizer_config.json:   0%|          | 0.00/1.20k [00:00<?, ?B/s]"
            ],
            "application/vnd.jupyter.widget-view+json": {
              "version_major": 2,
              "version_minor": 0,
              "model_id": "babd94ee4a5b4369bf3e541a97c9c896"
            }
          },
          "metadata": {}
        },
        {
          "output_type": "display_data",
          "data": {
            "text/plain": [
              "sentencepiece.bpe.model:   0%|          | 0.00/5.07M [00:00<?, ?B/s]"
            ],
            "application/vnd.jupyter.widget-view+json": {
              "version_major": 2,
              "version_minor": 0,
              "model_id": "81a7d42c53484024ab4fce76484dbf01"
            }
          },
          "metadata": {}
        },
        {
          "output_type": "display_data",
          "data": {
            "text/plain": [
              "tokenizer.json:   0%|          | 0.00/17.1M [00:00<?, ?B/s]"
            ],
            "application/vnd.jupyter.widget-view+json": {
              "version_major": 2,
              "version_minor": 0,
              "model_id": "d6a17359171f4279918789d9f52a76cf"
            }
          },
          "metadata": {}
        },
        {
          "output_type": "display_data",
          "data": {
            "text/plain": [
              "special_tokens_map.json:   0%|          | 0.00/964 [00:00<?, ?B/s]"
            ],
            "application/vnd.jupyter.widget-view+json": {
              "version_major": 2,
              "version_minor": 0,
              "model_id": "c6f8932a329a4e4980ee1eb436f76e4d"
            }
          },
          "metadata": {}
        }
      ]
    },
    {
      "cell_type": "markdown",
      "source": [
        "# Vector Database \ud83d\udcc2"
      ],
      "metadata": {
        "id": "KJ8b7xebvXrz",
        "widgets": {
          "state": {}
        }
      }
    },
    {
      "cell_type": "code",
      "source": [
        "import os\n",
        "from langchain.vectorstores import FAISS\n",
        "from langchain_community.embeddings import HuggingFaceEmbeddings\n",
        "from langchain_community.vectorstores.utils import DistanceStrategy\n",
        "\n",
        "embedding_model = HuggingFaceEmbeddings(\n",
        "    model_name=EMBEDDING_MODEL_NAME,\n",
        "    multi_process=True,\n",
        "    model_kwargs={\"device\": \"cuda\"},\n",
        "    encode_kwargs={\"normalize_embeddings\": True}\n",
        ")\n",
        "\n",
        "KNOWLEDGE_VECTOR_DATABASE = FAISS.from_documents(\n",
        "    docs_processed, embedding_model, distance_strategy=DistanceStrategy.COSINE\n",
        ")\n"
      ],
      "metadata": {
        "id": "D2sMpEQtMKzL",
        "colab": {
          "base_uri": "https://localhost:8080/",
          "height": 296,
          "referenced_widgets": [
            "40e8f4b43d1d413aaec32ed9a5cc7d05",
            "9bf7ad630728447a99d3c4962e0123eb",
            "0fab70bee4cf4b33921ec95c1fe0046e",
            "af43b993ada341c3bb999e1246738493",
            "ec1b18e9dad44e5c97894c5d4293e818",
            "a3bcefecc23f4223b1fbe52a7a22dc07",
            "39b826c8b6d047c0aea6439e211957b0",
            "fd182a2d6f2446669a85a5ff9e269169",
            "f18b6d79426b4cccbfcc58fc80f921aa",
            "d6f731fdc0784f979eaeaed622c2b198",
            "2c4c757133c94ad5b83ba59f217ac967",
            "5f46abc310bd41faade282a36bff58a7",
            "197c59c70dc041bfa6c4a73da4306041",
            "afe3f850f10241bca56664d43bb97a18",
            "4eb964f851964d72b2b9b5c1fb555e6f",
            "e5d090c396954178a433b96810c316c7",
            "5ff4f554e7f34b43a0c492bcabad3275",
            "9d4d00328b374e6a88f6e9ea2f3d7548",
            "b24ffc1962c2425d80dda40a9a2e290b",
            "e104b2eebdf04bf8b546563565fb240e",
            "3ab8d5b8fbf444248e064832079a44d0",
            "f09e6e015bba4f27833289a46c5c674d",
            "decf46cbe6cd476ea827e97f9cc568c4",
            "ec51a953a1d4485fb5104a3f88f1dc1a",
            "3e4995f26d3e4227821b36a285f9a4ef",
            "c4c5e4e232ef432e872105f1c432908c",
            "91c52633dca541f1b50e7f2410787317",
            "08e06a65add44dbfb87945d83f3bea78",
            "551446c848ed49869eaf769153c76c82",
            "8c3eb291e4fc4109984109365abfa2db",
            "f3b6f6ffeb6444b79942c65d5d5f8ac5",
            "cf128b606ff04f1cae6e13c4fc6903b1",
            "468d71225ac2424aa05b6b9021b10458",
            "def3f9277482443ebcd7808c92bd40e7",
            "952d21560c77434bb2730a706c52aa2c",
            "8bd6b53ab7fd499b8925af2aa88641db",
            "cb770838d7534867acb1d827301486ff",
            "88b992b1186349a0a8fccf63d533ffee",
            "791621e3909c4d52a14055dab2838ded",
            "3e44bbb30ce041b2927b6b977c98a2e9",
            "7425fd1f6a044ccd8f3ad073a5e5b06b",
            "c81dc5b629c04cc3b1b528104c00cd39",
            "587b0d5102a94c3fa75d7b37e3a6307b",
            "c5092e613e6345d9a41d05109cc07f6b",
            "f4c3c98efad143edbd652aba38d12a21",
            "62b92b3796294c85be69816695fa9a73",
            "a1251e8880b14757a6e04ce3831eda78",
            "f2e8bb270a4a42439848a888ddbba6e1",
            "047f186b27414d9b8b96dd69503a9f7c",
            "6c2cc9d7feee4d02b9185ba27e6dd8d7",
            "1f49fe8cb8004aadb212410d1fdf902d",
            "f1080b28f42146b7af2f6171779d967a",
            "52cb66d553a841b68b1b61c6f6a21f4f",
            "902227a204ec44969bad7d23e25405d6",
            "a3e1e208e25d4bcc9fad248952e5a3ba",
            "2bbafa586ac142ef92cb1ed57ca49719",
            "acbbf8bfddec4195ba91d92a9e21aca0",
            "f31aac1be1ce46a2bda8c28bd088cdca",
            "62c3b6d46e4e42529013e90e93175a66",
            "b39f34e5c92c4935a34573674eb8aa54",
            "322e5cb3ae5c46ec89670165cdf47e95",
            "1a6de16e18b1470a8482ed837e650b75",
            "7f2c8670dd72419ca9acc2391c92d80a",
            "0b28dab4056c45acb6ad9a621758372a",
            "498cb5a2a30a47c7b54811dda1f4981f",
            "c0618f9e182241f1a2ab36440559d48c",
            "5cbafdd1a81d45879bd6a20c365c12b4",
            "2e72bfdf987a4d3589d3e1a35669835f",
            "89a0a65d87394196bbdc20076d68cffc",
            "bf2b3c9f65b94ddba06ce7dc173c3ede",
            "eb477b2436f94bfd8bdb24fc548cb2a5",
            "6ce6368b38854f8686f221d589b21026",
            "88bbb61bfc174b13a9b0376237aa49b5",
            "bff8b8c8d7054491a828bf887bcb0dbd",
            "e68a629f67a244d7935635aba0870c5e",
            "2ee31f5dd01447c9a2096dfc47b5a021",
            "50c3087b87ae4f858e6031043388a882"
          ]
        },
        "outputId": "e9146db8-9596-4a8b-ac6b-a4a610b9e2ae",
        "widgets": {
          "state": {}
        }
      },
      "execution_count": 8,
      "outputs": [
        {
          "output_type": "stream",
          "name": "stderr",
          "text": [
            "<ipython-input-8-a460f51192b9>:6: LangChainDeprecationWarning: The class `HuggingFaceEmbeddings` was deprecated in LangChain 0.2.2 and will be removed in 1.0. An updated version of the class exists in the :class:`~langchain-huggingface package and should be used instead. To use it run `pip install -U :class:`~langchain-huggingface` and import as `from :class:`~langchain_huggingface import HuggingFaceEmbeddings``.\n",
            "  embedding_model = HuggingFaceEmbeddings(\n"
          ]
        },
        {
          "output_type": "display_data",
          "data": {
            "text/plain": [
              "modules.json:   0%|          | 0.00/349 [00:00<?, ?B/s]"
            ],
            "application/vnd.jupyter.widget-view+json": {
              "version_major": 2,
              "version_minor": 0,
              "model_id": "40e8f4b43d1d413aaec32ed9a5cc7d05"
            }
          },
          "metadata": {}
        },
        {
          "output_type": "display_data",
          "data": {
            "text/plain": [
              "config_sentence_transformers.json:   0%|          | 0.00/171 [00:00<?, ?B/s]"
            ],
            "application/vnd.jupyter.widget-view+json": {
              "version_major": 2,
              "version_minor": 0,
              "model_id": "5f46abc310bd41faade282a36bff58a7"
            }
          },
          "metadata": {}
        },
        {
          "output_type": "display_data",
          "data": {
            "text/plain": [
              "README.md:   0%|          | 0.00/3.51k [00:00<?, ?B/s]"
            ],
            "application/vnd.jupyter.widget-view+json": {
              "version_major": 2,
              "version_minor": 0,
              "model_id": "decf46cbe6cd476ea827e97f9cc568c4"
            }
          },
          "metadata": {}
        },
        {
          "output_type": "display_data",
          "data": {
            "text/plain": [
              "sentence_bert_config.json:   0%|          | 0.00/54.0 [00:00<?, ?B/s]"
            ],
            "application/vnd.jupyter.widget-view+json": {
              "version_major": 2,
              "version_minor": 0,
              "model_id": "def3f9277482443ebcd7808c92bd40e7"
            }
          },
          "metadata": {}
        },
        {
          "output_type": "display_data",
          "data": {
            "text/plain": [
              "config.json:   0%|          | 0.00/708 [00:00<?, ?B/s]"
            ],
            "application/vnd.jupyter.widget-view+json": {
              "version_major": 2,
              "version_minor": 0,
              "model_id": "f4c3c98efad143edbd652aba38d12a21"
            }
          },
          "metadata": {}
        },
        {
          "output_type": "display_data",
          "data": {
            "text/plain": [
              "model.safetensors:   0%|          | 0.00/2.27G [00:00<?, ?B/s]"
            ],
            "application/vnd.jupyter.widget-view+json": {
              "version_major": 2,
              "version_minor": 0,
              "model_id": "2bbafa586ac142ef92cb1ed57ca49719"
            }
          },
          "metadata": {}
        },
        {
          "output_type": "display_data",
          "data": {
            "text/plain": [
              "config.json:   0%|          | 0.00/297 [00:00<?, ?B/s]"
            ],
            "application/vnd.jupyter.widget-view+json": {
              "version_major": 2,
              "version_minor": 0,
              "model_id": "5cbafdd1a81d45879bd6a20c365c12b4"
            }
          },
          "metadata": {}
        }
      ]
    },
    {
      "cell_type": "markdown",
      "source": [
        "# L\u01b0u Vector Database \u0111\u01b0\u1ee3c x\u1eed l\u00fd v\u00e0o c\u00e1c th\u01b0 m\u1ee5c"
      ],
      "metadata": {
        "id": "EuGgwbRvwgeJ",
        "widgets": {
          "state": {}
        }
      }
    },
    {
      "cell_type": "code",
      "source": [
        "import faiss  # Make sure to import FAISS\n",
        "import pickle\n",
        "\n",
        "# Save the FAISS index to a file\n",
        "faiss_file_path = os.path.join(VECTOR_DATABASE_PATH, 'faiss_index.bin')\n",
        "faiss.write_index(KNOWLEDGE_VECTOR_DATABASE.index, faiss_file_path)\n",
        "print(f\"FAISS index saved to {faiss_file_path}\")\n",
        "\n",
        "# Save the document store to a pickle file\n",
        "docstore_file_path = os.path.join(VECTOR_DATABASE_PATH, 'docstore.pkl')\n",
        "with open(docstore_file_path, 'wb') as f:\n",
        "    pickle.dump(KNOWLEDGE_VECTOR_DATABASE.docstore, f)\n",
        "print(f\"Document store saved to {docstore_file_path}\")\n",
        "\n",
        "# Save the index_to_docstore_id mapping\n",
        "mapping_file_path = os.path.join(VECTOR_DATABASE_PATH, 'index_to_docstore_id.pkl')\n",
        "with open(mapping_file_path, 'wb') as f:\n",
        "    pickle.dump(KNOWLEDGE_VECTOR_DATABASE.index_to_docstore_id, f)\n",
        "print(f\"Index to document store ID mapping saved to {mapping_file_path}\")\n",
        "\n",
        "# Load the FAISS index from the file\n",
        "loaded_index = faiss.read_index(faiss_file_path)\n",
        "\n",
        "# Load the document store from the pickle file\n",
        "with open(docstore_file_path, 'rb') as f:\n",
        "    loaded_docstore = pickle.load(f)\n",
        "\n",
        "# Load the index_to_docstore_id mapping\n",
        "with open(mapping_file_path, 'rb') as f:\n",
        "    index_to_docstore_id = pickle.load(f)\n",
        "\n",
        "# Create the FAISS vector store using the loaded index and document store\n",
        "loaded_vector_database = FAISS(\n",
        "    index=loaded_index,\n",
        "    docstore=loaded_docstore,\n",
        "    index_to_docstore_id=index_to_docstore_id,\n",
        "    embedding_function=embedding_model.embed_query\n",
        ")\n",
        "print(\"Vector database loaded successfully.\")"
      ],
      "metadata": {
        "colab": {
          "base_uri": "https://localhost:8080/"
        },
        "id": "ehKDq37DMfrt",
        "outputId": "a741823b-357c-4dff-a328-b680eee2ebda",
        "widgets": {
          "state": {}
        }
      },
      "execution_count": 9,
      "outputs": [
        {
          "output_type": "stream",
          "name": "stderr",
          "text": [
            "WARNING:langchain_community.vectorstores.faiss:`embedding_function` is expected to be an Embeddings object, support for passing in a function will soon be removed.\n"
          ]
        },
        {
          "output_type": "stream",
          "name": "stdout",
          "text": [
            "FAISS index saved to /content/vectordatabase/faiss_index.bin\n",
            "Document store saved to /content/vectordatabase/docstore.pkl\n",
            "Index to document store ID mapping saved to /content/vectordatabase/index_to_docstore_id.pkl\n",
            "Vector database loaded successfully.\n"
          ]
        }
      ]
    },
    {
      "cell_type": "markdown",
      "source": [
        "# Chain v\u1edbi th\u01b0 m\u1ee5c \u0111\u00e3 l\u01b0u"
      ],
      "metadata": {
        "id": "qcRAMGk7wwjK",
        "widgets": {
          "state": {}
        }
      }
    },
    {
      "cell_type": "code",
      "source": [
        "# Embed a user query in the same space\n",
        "user_query = \"Quy \u0111\u1ecbnh v\u1ec1 \u0111\u1ed9 tu\u1ed5i l\u00e1i xe m\u00f4 t\u00f4 hai b\u00e1nh?\"\n",
        "query_vector = embedding_model.embed_query(user_query)"
      ],
      "metadata": {
        "id": "x72vDcblMr4w",
        "widgets": {
          "state": {}
        }
      },
      "execution_count": 10,
      "outputs": []
    },
    {
      "cell_type": "code",
      "source": [
        "print(f\"\\nStarting retrieval for {user_query=}...\")\n",
        "# retrieved_docs = KNOWLEDGE_VECTOR_DATABASE.similarity_search(query=user_query, k=5)\n",
        "\n",
        "retrieved_docs = loaded_vector_database.similarity_search(query=user_query, k=5)\n",
        "\n",
        "print(\n",
        "    \"\\n==================================Top document==================================\"\n",
        ")\n",
        "print(retrieved_docs[0].page_content)\n",
        "print(\"==================================Metadata==================================\")\n",
        "print(retrieved_docs[0].metadata)"
      ],
      "metadata": {
        "colab": {
          "base_uri": "https://localhost:8080/"
        },
        "id": "9tVUVC5_M6B6",
        "outputId": "8cf417af-d23c-40b5-d564-780c37881081",
        "widgets": {
          "state": {}
        }
      },
      "execution_count": 11,
      "outputs": [
        {
          "output_type": "stream",
          "name": "stdout",
          "text": [
            "\n",
            "Starting retrieval for user_query='Quy \u0111\u1ecbnh v\u1ec1 \u0111\u1ed9 tu\u1ed5i l\u00e1i xe m\u00f4 t\u00f4 hai b\u00e1nh?'...\n",
            "\n",
            "==================================Top document==================================\n",
            "Giao th\u00f4ng \u0111\u01b0\u1eddng b\u1ed9n\u0103m 1968 c\u1ea5p (tr\u1eebgi\u1ea5y ph\u00e9p l\u00e1i xe qu\u1ed1c t\u1ebfdo Vi\u1ec7t Nam c\u1ea5p)\n",
            "nh\u01b0ng kh\u00f4ng mang theo gi\u1ea5y ph\u00e9p l\u00e1i xe qu\u1ed1c gia ph\u00f9 h\u1ee3p v\u1edbi lo\u1ea1i xe \u0111\u01b0\u1ee3c ph\u00e9p \u0111i\u1ec1u\n",
            "khi\u1ec3n;\n",
            "c) S\u1eedd\u1ee5ng gi\u1ea5y ph\u00e9p l\u00e1i xe kh\u00f4ng h\u1ee3p l\u1ec7(gi\u1ea5y ph\u00e9p l\u00e1i xe c\u00f3 s\u1ed1ph\u00f4i ghi \u1edfm\u1eb7t sau\n",
            "kh\u00f4ng tr\u00f9ng v\u1edbi s\u1ed1ph\u00f4i \u0111\u01b0\u1ee3c c\u1ea5p m\u1edbi nh\u1ea5t trong h\u1ec7th\u1ed1ng th\u00f4ng tin qu\u1ea3n l\u00fd gi\u1ea5y ph\u00e9p l\u00e1i\n",
            "xe).\n",
            "6. Ph\u1ea1t ti\u1ec1n t\u1eeb4.000.000 \u0111\u1ed3ng \u0111\u1ebfn 6.000.000 \u0111\u1ed3ng \u0111\u1ed1i v\u1edbi ng\u01b0\u1eddi t\u1eeb\u0111\u1ee716 tu\u1ed5i \u0111\u1ebfn d\u01b0\u1edbi\n",
            "18 tu\u1ed5i \u0111i\u1ec1u khi\u1ec3n xe \u00f4 t\u00f4, xe ch\u1edfng\u01b0\u1eddi b\u1ed1n b\u00e1nh c\u00f3 g\u1eafn \u0111\u1ed9ng c\u01a1, xe ch\u1edfh\u00e0ng b\u1ed1n b\u00e1nh\n",
            "c\u00f3 g\u1eafn \u0111\u1ed9ng c\u01a1 v\u00e0 c\u00e1c lo\u1ea1i xe t\u01b0\u01a1ng t\u1ef1xe \u00f4 t\u00f4.\n",
            "7. Ph\u1ea1t ti\u1ec1n t\u1eeb6.000.000 \u0111\u1ed3ng \u0111\u1ebfn 8.000.000 \u0111\u1ed3ng \u0111\u1ed1i v\u1edbi ng\u01b0\u1eddi \u0111i\u1ec1u khi\u1ec3n xe m\u00f4 t\u00f4 hai\n",
            "b\u00e1nh c\u00f3 dung t\u00edch xi-lanh tr\u00ean 125 cm3 tr\u1edfl\u00ean ho\u1eb7c c\u00f3 c\u00f4ng su\u1ea5t \u0111\u1ed9ng c\u01a1 \u0111i\u1ec7n tr\u00ean 11\n",
            "kW, xe m\u00f4 t\u00f4 ba b\u00e1nh th\u1ef1c hi\u1ec7n m\u1ed9t trong c\u00e1c h\u00e0nh vi vi ph\u1ea1m sau \u0111\u00e2y:\n",
            "a) C\u00f3 gi\u1ea5y ph\u00e9p l\u00e1i xe nh\u01b0ng kh\u00f4ng ph\u00f9 h\u1ee3p v\u1edbi lo\u1ea1i xe \u0111ang \u0111i\u1ec1u khi\u1ec3n;\n",
            "==================================Metadata==================================\n",
            "{'source': '/content/luatgt.pdf', 'start_index': 99502}\n"
          ]
        }
      ]
    },
    {
      "cell_type": "markdown",
      "source": [
        "# \u0110\u01b0a LLM \u0111\u1ec3 t\u1ea1o sinh c\u00e2u tr\u1ea3 l\u1eddi v\u1edbi d\u1eef li\u1ec7u \u0111\u01b0\u1ee3c chain"
      ],
      "metadata": {
        "id": "cEvU27LIxcTM",
        "widgets": {
          "state": {}
        }
      }
    },
    {
      "cell_type": "code",
      "source": [
        "from huggingface_hub import login\n",
        "login()\n"
      ],
      "metadata": {
        "colab": {
          "base_uri": "https://localhost:8080/",
          "height": 359,
          "referenced_widgets": [
            "6600a2ca8df54d6ab84db7cb011fe773",
            "1065326aa1934dbba6e67c35e8c4239a",
            "a899d0472531457bbe9ed93d6f346871",
            "d817786b239f4dd5821d785f5693e3f6",
            "f5fa5c647525458a85d6a6e056c7fa25",
            "c9eceac851b046489289969225a9a79a",
            "247c3ca320b14dde84d0ab56e0c075da",
            "953a04325cd34b0f812c8ab4fda81ba5",
            "85726ecc688240579dbadc8d56d5a256",
            "5f762442a73a478b9ed94ec0d55c956d",
            "46f6e3067f7b4931bd6cca084809ccb3",
            "24d54a6237484009b02eceabf1009715",
            "f90d28505dac46b7930beef9489d8d85",
            "f445c546767f49acbb0efa43ee5cf553",
            "a2b5127ce9b94accb88abb35bd5d3ea1",
            "61206f0536024380891ce06cd4fd998e",
            "00e1a3919cb64bd392bfccee7fb4247d"
          ]
        },
        "id": "1aGj5ZE0Ij7f",
        "outputId": "4f661a2a-c066-482a-9c04-9ea9af903369",
        "widgets": {
          "state": {}
        }
      },
      "execution_count": 12,
      "outputs": [
        {
          "output_type": "display_data",
          "data": {
            "text/plain": [
              "VBox(children=(HTML(value='<center> <img\\nsrc=https://huggingface.co/front/assets/huggingface_logo-noborder.sv\u2026"
            ],
            "application/vnd.jupyter.widget-view+json": {
              "version_major": 2,
              "version_minor": 0,
              "model_id": "6600a2ca8df54d6ab84db7cb011fe773"
            }
          },
          "metadata": {}
        }
      ]
    },
    {
      "cell_type": "code",
      "source": [
        "from transformers import pipeline, AutoTokenizer, AutoModelForCausalLM, BitsAndBytesConfig\n",
        "import torch\n",
        "\n",
        "READER_MODEL_NAME = \"HuggingFaceH4/zephyr-7b-beta\"\n",
        "\n",
        "# C\u1ea5u h\u00ecnh bitsandbytes \u0111\u1ec3 t\u1ea3i m\u00f4 h\u00ecnh \u1edf \u0111\u1ecbnh d\u1ea1ng 4-bit ti\u1ebft ki\u1ec7m RAM\n",
        "bnb_config = BitsAndBytesConfig(\n",
        "    load_in_4bit=True,\n",
        "    bnb_4bit_use_double_quant=True,\n",
        "    bnb_4bit_quant_type=\"nf4\",\n",
        "    bnb_4bit_compute_dtype=torch.float16,  # \u0110\u1ed5i sang float16 n\u1ebfu bfloat16 kh\u00f4ng \u0111\u01b0\u1ee3c h\u1ed7 tr\u1ee3\n",
        ")\n",
        "\n",
        "# Load m\u00f4 h\u00ecnh v\u1edbi c\u1ea5u h\u00ecnh nh\u1eb9, t\u1ef1 \u0111\u1ed9ng ph\u00e2n b\u1ed5 thi\u1ebft b\u1ecb (GPU/CPU)\n",
        "model = AutoModelForCausalLM.from_pretrained(\n",
        "    READER_MODEL_NAME,\n",
        "    quantization_config=bnb_config,\n",
        "    device_map=\"auto\",\n",
        "    trust_remote_code=True\n",
        ")\n",
        "\n",
        "# Load tokenizer\n",
        "tokenizer = AutoTokenizer.from_pretrained(READER_MODEL_NAME)\n",
        "\n",
        "# T\u1ea1o pipeline \u0111\u1ec3 d\u00f9ng m\u00f4 h\u00ecnh nh\u01b0 1 RAG Reader\n",
        "READER_LLM = pipeline(\n",
        "    model=model,\n",
        "    tokenizer=tokenizer,\n",
        "    task=\"text-generation\",\n",
        "    do_sample=True,\n",
        "    temperature=0.2,\n",
        "    repetition_penalty=1.1,\n",
        "    return_full_text=False,\n",
        "    max_new_tokens=500,\n",
        ")\n"
      ],
      "metadata": {
        "colab": {
          "base_uri": "https://localhost:8080/",
          "height": 943,
          "referenced_widgets": [
            "483328a00c414aab98a6d27e927b63fb",
            "be30496251f14f97ba9194f52325a97d",
            "ccdabb2a5d3b45789bb68e2804fd90ac",
            "5efd5ef26e86482484b412347d933755",
            "765e186b2c854f419d42613850e27c38",
            "13ad53ef960942e9a107a8f205500654",
            "1fcde98133db4af48b13f8ee8b1acfaf",
            "201d8eb592a7484ca4a41f7847ccd5c2",
            "2c928f02c20549d8905ffc0458f4100a",
            "44358d7cecae489ab7fe2345972ba872",
            "83b9c0dac57144cdab19a1da92ffab3b",
            "474e2a3681684bfa8f108a4b4812f48b",
            "6815b72f74734e879139486a186a4a0d",
            "69966ff8989245bb9bf62fa62165009d",
            "fecd4a33851342f8ba7543b9e692fe05",
            "a8ce56d0d6094009bbe3a4ed09c377ac",
            "fe8b48adcdbe441f868d8ea480c0a57e",
            "0e21229710c149ef85776af14ec8b0d2",
            "6caf323995994f98a946109f90a3fccd",
            "85dc6cd82c374f00a8a6fe4b4b93fffe",
            "83bfadaec1b546d3a72f96f35a6805b9",
            "822ce3eba64746bda2a9aa63fc97fc5a",
            "b87146eb420a4667a0b00697e9c7af73",
            "745396dc3f1f436f9df7a2b9d5b19cca",
            "e497110c0b8048f0af257b2f91eab7ac",
            "eef50ed0ff82423fbc71b141c913568f",
            "f72301faac7e4ac7a7d99770fdb2e394",
            "9db923f92b01449380ba09a8d5671812",
            "296b0464a0cb46c29ed1125c3ea4593e",
            "30f86ab695054a29acfdd246e5097e33",
            "ef78ac41a38b4801913debbeae065b6c",
            "64c32d2fd5a14de29871a32b5fa64d3e",
            "da5724d4373348939b6b50eecfceaa68",
            "1810aa7daed2454495d5dd1ececd52d2",
            "c83b0f356cf24653b66e875f202ec78f",
            "686de537c4ad4fe48269c445a81343a7",
            "5debbdbef1d44bdf9d48daf79bb1e89b",
            "2d1a7044c85b4fc8a8865b29995b8a6e",
            "bf8fc31182454f6b81a1670556798ebc",
            "1fce81bb6fcb4b58abe2c3ae8bae55b5",
            "474cb8afd8af4689a07ca6ed918bcb8d",
            "693f75db284c44729252b43271fc9d8d",
            "a34af9078f3249449847912b7a93e6fe",
            "9b6ffe570c2d4b8c90a25e1d77b97c41",
            "61956ed33d154f3b9baf83ab6fb67227",
            "743060ced7aa44f991f706c64e7837a2",
            "03f385e6dfd642269d55cca3b02798ac",
            "ef701c07b53b46f0a6c12ee269fab87d",
            "9a1d65d4dc264c19a3ed269c44752f84",
            "e3f7e35bae5e4b70ab3e441939eba4e0",
            "a9f9450b108a4baf85c25e44efccef1a",
            "f772822988ec4f058790ae754e8d0f9c",
            "92cba905bc18421ab06099004e6cc0a9",
            "4e59ff77f48a4ede9e8a3f7566fe9d98",
            "2c752dd4588b49a9bafdfd6626735106",
            "631d399640dc457aaf28b9cfc85cd8b7",
            "6518fe5271c1476c9b49fec11cd16bc8",
            "6b9bb63cd1994357a4cd8ae2f7e3108e",
            "9f8446d014164995a4665281f4624c43",
            "36edddf6ca2742ce811379766984a7ea",
            "9958ca71c7794bfbb1c69b934e145b6b",
            "c5a89307b3b744949c87f9752e09dd8d",
            "140d3087e51748c8a19a64ac47bfe56c",
            "19aab80a52994576885bc458d4d8a22f",
            "c2d7fcaa2aa84a2eadde7717a6acd2f8",
            "32f6bc3f181c4a9c8a6f11616cb0d265",
            "04577346b4c449249f44b70b9f3fa9d6",
            "241b17cf14504bd6b1fe420db50bbc7f",
            "2295d3db718f4fc1861088fb12f59ce1",
            "729f91f666b544b9b7086d5dad67657e",
            "ecb3a17e08394a69911425f8fb890596",
            "6000579c5024410fa588f8f449a83da3",
            "e06cc25847244511a59ae5b0bee69e73",
            "f9408876b9da4d60a4f1b4b9b2ff1737",
            "1450fd3d5d114b5ba688ee0abfa3ae81",
            "006c95436918494c9b1a77b66310a058",
            "250c86d64ffa47959726ef64d31ad8fb",
            "9cd5a4a5958a4d3691e314f404536b2e",
            "b6ffc953986c47ebb69f3b54aa15b3e3",
            "c8034f77d3db42218deeae0b870c0c50",
            "8b4f7768a5674869b1d41359dc205990",
            "e867f7dbe2d84e32b87c40737cbb8d88",
            "7e7f0b6bc905493ea4f17488039949c3",
            "ff57c9de47614967bcc12df8ac614e1c",
            "823ae3909dd246278e7229134fe35ac1",
            "a49ea84ed21146de84e16bf5a4f3ea9d",
            "6ae29878837c40f6a725b6689a46d173",
            "a4865a6735d14e67b42d288b2e6ea008",
            "9fe39c938d2b4504b2aa5387643d4508",
            "239f42d9de264884a6ca3721609408c0",
            "0c45e585c7c5424db60fa9b15930b830",
            "78b88a1c158a4e678d779958bf02715c",
            "d97d85d8f02544b483cca0c62f72ea7e",
            "e90d75cbc6d64708a1789d7bb36287d0",
            "140e060e31394453ad615c0c6f76a825",
            "0b0b962f07994c47bf06705cfd58a865",
            "23f09313adef438dab529ad20e149d58",
            "1188e3ed74d84c7fbb83ae9bec3462bc",
            "fffd81a838b44d8098de3147c7354d74",
            "52bdeb9781004451b6eef62006fff8f7",
            "c02bc1838d704ceaa589e5d3af5ac310",
            "23b45234680b4e0ea7b4146b0bd5aca7",
            "443f50895cf2420ebc1bceb08da199e3",
            "2c8e4957094147b0be43ef0f67d9e53b",
            "3362d279512549b29a9eec305b316144",
            "0c33740c3f2447478bf29878c1367376",
            "b5bd39a9912446a78339f131c023ceb2",
            "fe3d7fb207734909b8fab8bbfa9280d0",
            "b7a06aa354e34022ba3ddfe4242aafa9",
            "b41edf6aeea945c183698f0bf5fec7c5",
            "e03f1cc711a9477ba881da300eed66c0",
            "db9d398132e94bc1bc9376c9f433eb20",
            "cc4a4b17d49644e6ab608de6e29920af",
            "a9a18c95bca84dc28c53514d696702ce",
            "365d975c2d4b44709927d6a453bed306",
            "854aabd99fe84974a8a3224a0ad136ad",
            "aa97a0378caf4b34ab61f9e535f24a0e",
            "7b15098c492d4260a8970c7896a5b2f8",
            "f9ac4122df004519b437593f6946b144",
            "eea2f52c26984d6ab73154eefbd3202c",
            "b407e24824a5492e9efb8ca8e655f3ad",
            "5375a28586384b969476ab36126a3ce8",
            "1d3360b003ab4f5294e7bcf620ddc04d",
            "e6bfbabdb61e46d5aa7a659eb4221f0a",
            "a8bbe5de47cd48e2aa635086db4d483b",
            "b8ad3ee1326e4c5b815ebd8428642504",
            "f70f3543c7e445c0a288eb43c249d96a",
            "d6b5ec99d5824fd7b50d97978b10ea4a",
            "5ec8488ee4604568b764f39442cfbf52",
            "7bd93bca706a468eb74cdc527596e5d4",
            "62f20b99d481478ebb32838eed641232",
            "ec3a25b04029411683368fa1c46fafbf",
            "1ff4cce403ef4c62994183a4bf1b6af4",
            "9c9dfac22fd1442daa40607780511e8e",
            "e0d3b40794dc4e6e955cbd0f14a145c5",
            "97964bc6761e46889bf408617314b055",
            "e9a1e98f51264af0887b7cebdcca2b5e",
            "e0d6f63ba10b49268b58269b7fb6e5f1",
            "7100d2fc00474fe8b7fd7334e42bb33f",
            "2963d91f85a94ae4881785ae1883fbba",
            "a1bf54eb2763444d86cd24bc9737d6a6",
            "f2cc91ea92ac43dd94cad3f46d822004",
            "90d0cdd97145403dbed3c7090e4e32ee",
            "c53a79f364d54aa2b8adb885dd8c5f10",
            "8317418a546a4536b0bce585c353e173",
            "642391d1a12d49d49da7945bc3a26bb8",
            "1e81f1c603ec407e97f68082690e1c03",
            "5c95eae4b7564ffdbeb5108f6c131189",
            "c1a969339c71490b8624b5b707e819a6",
            "496ae1479f54413b8632d6af0ee17292",
            "b99940ec3fef463981b3c1cdaaf416a9",
            "e8bf535bfbf94f8da6a0657d78af8d9d",
            "a0b9711a38d34721b0013942f54d8f78",
            "bef94a025ca841d6b7e8ba94854c074a",
            "3a04bf933d81404185ce33d251f370e9",
            "d2987919412a481a898bc585fecad1d5",
            "8a11ffe6ce70462681099491ab8142de",
            "e689191fd45c43b18d2dfca4ca78b0fc",
            "163cdb81d72f44ddb27696cf4cf8d59c",
            "bce290da85a048a08e47fb4075bca717",
            "f223a7bb21774701b30a3a613337d5f5",
            "3d7a555afe7841ae930ffd8615a7a3c9",
            "acd3f0d7ec874e64a429ad4535493816",
            "aa2f2848a14446a4a901a058f208dc3e",
            "e30a96d0bfb04edc8e45b1a04fc0a830",
            "699d47695ecc4e70aa878b55fd9ca4f3",
            "602807f96fb444348512536a5ab5fa46",
            "ec721edb58574a5392607b96cc46dcb2",
            "d3f13546be4243e88a3dca846f5918bd",
            "9e8c83f7911d45dcbc0cb818c0cd1aab",
            "4fd3b7288345412fbca4712b7d2bec18",
            "1d56ee973d08432f9d1d10de48d5c0ec",
            "b3dab00e0f1e4afeb96f5fadde90e2c9",
            "79278000787142719e26cf60e3f873ce",
            "7cdb6dc0bf674087a3b32c85b7e544bb",
            "ebbebf53dbbb47269856bfa6a3cc3a2f",
            "c24e448e42b84e43ad8bea2268537a84",
            "35148eb3c3214bb08373316fd0608bbd",
            "5f40f23e32354a93ab1e6e1c7f405fe2",
            "3c53992a840b49f4b9159114a8cb4ba2",
            "9bd9d6b413f040819cce16813ef34eb5",
            "f9ae2703421b4482be2cb514d238e07e",
            "2c2d90b90b7240d59b37e0bb23500eec",
            "87a166fbecd44e91a0cc1c0d2bf5cbcf",
            "db6dd6888a70428bbe44c4971b82ba40",
            "c3bd2200b4a34813955876c33f07196b",
            "637b42c0917d4b03be386fa475a30f88",
            "f90604e021d146a787c5a342c5027e77",
            "e799b643f2414b919e2902b149ebd301",
            "0ca2710da011445480080afa4ced8192",
            "972c36df925c42129fd8807465a6367e",
            "5c5288e0876341ef87d1a1ee6338d300",
            "eca214e0b939476cadc002e4a947911d",
            "8d4df2c74fa4430a912141dc94a8f253",
            "6de1739c690445a4a7362fcbb1de900d",
            "23086750585c46899ecaf65e51e34daf",
            "ad3b7198608a48ad83c92b663a4e7362",
            "c4387576adcf4d83b775048d9c91e97a"
          ]
        },
        "id": "ZIju0plfNAjW",
        "outputId": "1ee48d51-5472-48cf-92f4-dce62078c3ef",
        "widgets": {
          "state": {}
        }
      },
      "execution_count": 13,
      "outputs": [
        {
          "output_type": "display_data",
          "data": {
            "text/plain": [
              "config.json:   0%|          | 0.00/638 [00:00<?, ?B/s]"
            ],
            "application/vnd.jupyter.widget-view+json": {
              "version_major": 2,
              "version_minor": 0,
              "model_id": "483328a00c414aab98a6d27e927b63fb"
            }
          },
          "metadata": {}
        },
        {
          "output_type": "display_data",
          "data": {
            "text/plain": [
              "model.safetensors.index.json:   0%|          | 0.00/23.9k [00:00<?, ?B/s]"
            ],
            "application/vnd.jupyter.widget-view+json": {
              "version_major": 2,
              "version_minor": 0,
              "model_id": "474e2a3681684bfa8f108a4b4812f48b"
            }
          },
          "metadata": {}
        },
        {
          "output_type": "display_data",
          "data": {
            "text/plain": [
              "Fetching 8 files:   0%|          | 0/8 [00:00<?, ?it/s]"
            ],
            "application/vnd.jupyter.widget-view+json": {
              "version_major": 2,
              "version_minor": 0,
              "model_id": "b87146eb420a4667a0b00697e9c7af73"
            }
          },
          "metadata": {}
        },
        {
          "output_type": "stream",
          "name": "stderr",
          "text": [
            "Xet Storage is enabled for this repo, but the 'hf_xet' package is not installed. Falling back to regular HTTP download. For better performance, install the package with: `pip install huggingface_hub[hf_xet]` or `pip install hf_xet`\n",
            "WARNING:huggingface_hub.file_download:Xet Storage is enabled for this repo, but the 'hf_xet' package is not installed. Falling back to regular HTTP download. For better performance, install the package with: `pip install huggingface_hub[hf_xet]` or `pip install hf_xet`\n",
            "Xet Storage is enabled for this repo, but the 'hf_xet' package is not installed. Falling back to regular HTTP download. For better performance, install the package with: `pip install huggingface_hub[hf_xet]` or `pip install hf_xet`\n",
            "WARNING:huggingface_hub.file_download:Xet Storage is enabled for this repo, but the 'hf_xet' package is not installed. Falling back to regular HTTP download. For better performance, install the package with: `pip install huggingface_hub[hf_xet]` or `pip install hf_xet`\n",
            "Xet Storage is enabled for this repo, but the 'hf_xet' package is not installed. Falling back to regular HTTP download. For better performance, install the package with: `pip install huggingface_hub[hf_xet]` or `pip install hf_xet`\n",
            "WARNING:huggingface_hub.file_download:Xet Storage is enabled for this repo, but the 'hf_xet' package is not installed. Falling back to regular HTTP download. For better performance, install the package with: `pip install huggingface_hub[hf_xet]` or `pip install hf_xet`\n",
            "Xet Storage is enabled for this repo, but the 'hf_xet' package is not installed. Falling back to regular HTTP download. For better performance, install the package with: `pip install huggingface_hub[hf_xet]` or `pip install hf_xet`\n",
            "WARNING:huggingface_hub.file_download:Xet Storage is enabled for this repo, but the 'hf_xet' package is not installed. Falling back to regular HTTP download. For better performance, install the package with: `pip install huggingface_hub[hf_xet]` or `pip install hf_xet`\n",
            "Xet Storage is enabled for this repo, but the 'hf_xet' package is not installed. Falling back to regular HTTP download. For better performance, install the package with: `pip install huggingface_hub[hf_xet]` or `pip install hf_xet`\n",
            "WARNING:huggingface_hub.file_download:Xet Storage is enabled for this repo, but the 'hf_xet' package is not installed. Falling back to regular HTTP download. For better performance, install the package with: `pip install huggingface_hub[hf_xet]` or `pip install hf_xet`\n",
            "Xet Storage is enabled for this repo, but the 'hf_xet' package is not installed. Falling back to regular HTTP download. For better performance, install the package with: `pip install huggingface_hub[hf_xet]` or `pip install hf_xet`\n",
            "WARNING:huggingface_hub.file_download:Xet Storage is enabled for this repo, but the 'hf_xet' package is not installed. Falling back to regular HTTP download. For better performance, install the package with: `pip install huggingface_hub[hf_xet]` or `pip install hf_xet`\n",
            "Xet Storage is enabled for this repo, but the 'hf_xet' package is not installed. Falling back to regular HTTP download. For better performance, install the package with: `pip install huggingface_hub[hf_xet]` or `pip install hf_xet`\n",
            "WARNING:huggingface_hub.file_download:Xet Storage is enabled for this repo, but the 'hf_xet' package is not installed. Falling back to regular HTTP download. For better performance, install the package with: `pip install huggingface_hub[hf_xet]` or `pip install hf_xet`\n",
            "Xet Storage is enabled for this repo, but the 'hf_xet' package is not installed. Falling back to regular HTTP download. For better performance, install the package with: `pip install huggingface_hub[hf_xet]` or `pip install hf_xet`\n",
            "WARNING:huggingface_hub.file_download:Xet Storage is enabled for this repo, but the 'hf_xet' package is not installed. Falling back to regular HTTP download. For better performance, install the package with: `pip install huggingface_hub[hf_xet]` or `pip install hf_xet`\n"
          ]
        },
        {
          "output_type": "display_data",
          "data": {
            "text/plain": [
              "model-00002-of-00008.safetensors:   0%|          | 0.00/1.95G [00:00<?, ?B/s]"
            ],
            "application/vnd.jupyter.widget-view+json": {
              "version_major": 2,
              "version_minor": 0,
              "model_id": "1810aa7daed2454495d5dd1ececd52d2"
            }
          },
          "metadata": {}
        },
        {
          "output_type": "display_data",
          "data": {
            "text/plain": [
              "model-00004-of-00008.safetensors:   0%|          | 0.00/1.95G [00:00<?, ?B/s]"
            ],
            "application/vnd.jupyter.widget-view+json": {
              "version_major": 2,
              "version_minor": 0,
              "model_id": "61956ed33d154f3b9baf83ab6fb67227"
            }
          },
          "metadata": {}
        },
        {
          "output_type": "display_data",
          "data": {
            "text/plain": [
              "model-00003-of-00008.safetensors:   0%|          | 0.00/1.98G [00:00<?, ?B/s]"
            ],
            "application/vnd.jupyter.widget-view+json": {
              "version_major": 2,
              "version_minor": 0,
              "model_id": "631d399640dc457aaf28b9cfc85cd8b7"
            }
          },
          "metadata": {}
        },
        {
          "output_type": "display_data",
          "data": {
            "text/plain": [
              "model-00005-of-00008.safetensors:   0%|          | 0.00/1.98G [00:00<?, ?B/s]"
            ],
            "application/vnd.jupyter.widget-view+json": {
              "version_major": 2,
              "version_minor": 0,
              "model_id": "04577346b4c449249f44b70b9f3fa9d6"
            }
          },
          "metadata": {}
        },
        {
          "output_type": "display_data",
          "data": {
            "text/plain": [
              "model-00007-of-00008.safetensors:   0%|          | 0.00/1.98G [00:00<?, ?B/s]"
            ],
            "application/vnd.jupyter.widget-view+json": {
              "version_major": 2,
              "version_minor": 0,
              "model_id": "9cd5a4a5958a4d3691e314f404536b2e"
            }
          },
          "metadata": {}
        },
        {
          "output_type": "display_data",
          "data": {
            "text/plain": [
              "model-00001-of-00008.safetensors:   0%|          | 0.00/1.89G [00:00<?, ?B/s]"
            ],
            "application/vnd.jupyter.widget-view+json": {
              "version_major": 2,
              "version_minor": 0,
              "model_id": "9fe39c938d2b4504b2aa5387643d4508"
            }
          },
          "metadata": {}
        },
        {
          "output_type": "display_data",
          "data": {
            "text/plain": [
              "model-00008-of-00008.safetensors:   0%|          | 0.00/816M [00:00<?, ?B/s]"
            ],
            "application/vnd.jupyter.widget-view+json": {
              "version_major": 2,
              "version_minor": 0,
              "model_id": "52bdeb9781004451b6eef62006fff8f7"
            }
          },
          "metadata": {}
        },
        {
          "output_type": "display_data",
          "data": {
            "text/plain": [
              "model-00006-of-00008.safetensors:   0%|          | 0.00/1.95G [00:00<?, ?B/s]"
            ],
            "application/vnd.jupyter.widget-view+json": {
              "version_major": 2,
              "version_minor": 0,
              "model_id": "e03f1cc711a9477ba881da300eed66c0"
            }
          },
          "metadata": {}
        },
        {
          "output_type": "display_data",
          "data": {
            "text/plain": [
              "Loading checkpoint shards:   0%|          | 0/8 [00:00<?, ?it/s]"
            ],
            "application/vnd.jupyter.widget-view+json": {
              "version_major": 2,
              "version_minor": 0,
              "model_id": "5375a28586384b969476ab36126a3ce8"
            }
          },
          "metadata": {}
        },
        {
          "output_type": "display_data",
          "data": {
            "text/plain": [
              "generation_config.json:   0%|          | 0.00/111 [00:00<?, ?B/s]"
            ],
            "application/vnd.jupyter.widget-view+json": {
              "version_major": 2,
              "version_minor": 0,
              "model_id": "1ff4cce403ef4c62994183a4bf1b6af4"
            }
          },
          "metadata": {}
        },
        {
          "output_type": "display_data",
          "data": {
            "text/plain": [
              "tokenizer_config.json:   0%|          | 0.00/1.43k [00:00<?, ?B/s]"
            ],
            "application/vnd.jupyter.widget-view+json": {
              "version_major": 2,
              "version_minor": 0,
              "model_id": "c53a79f364d54aa2b8adb885dd8c5f10"
            }
          },
          "metadata": {}
        },
        {
          "output_type": "stream",
          "name": "stderr",
          "text": [
            "Xet Storage is enabled for this repo, but the 'hf_xet' package is not installed. Falling back to regular HTTP download. For better performance, install the package with: `pip install huggingface_hub[hf_xet]` or `pip install hf_xet`\n",
            "WARNING:huggingface_hub.file_download:Xet Storage is enabled for this repo, but the 'hf_xet' package is not installed. Falling back to regular HTTP download. For better performance, install the package with: `pip install huggingface_hub[hf_xet]` or `pip install hf_xet`\n"
          ]
        },
        {
          "output_type": "display_data",
          "data": {
            "text/plain": [
              "tokenizer.model:   0%|          | 0.00/493k [00:00<?, ?B/s]"
            ],
            "application/vnd.jupyter.widget-view+json": {
              "version_major": 2,
              "version_minor": 0,
              "model_id": "3a04bf933d81404185ce33d251f370e9"
            }
          },
          "metadata": {}
        },
        {
          "output_type": "display_data",
          "data": {
            "text/plain": [
              "tokenizer.json:   0%|          | 0.00/1.80M [00:00<?, ?B/s]"
            ],
            "application/vnd.jupyter.widget-view+json": {
              "version_major": 2,
              "version_minor": 0,
              "model_id": "699d47695ecc4e70aa878b55fd9ca4f3"
            }
          },
          "metadata": {}
        },
        {
          "output_type": "display_data",
          "data": {
            "text/plain": [
              "added_tokens.json:   0%|          | 0.00/42.0 [00:00<?, ?B/s]"
            ],
            "application/vnd.jupyter.widget-view+json": {
              "version_major": 2,
              "version_minor": 0,
              "model_id": "c24e448e42b84e43ad8bea2268537a84"
            }
          },
          "metadata": {}
        },
        {
          "output_type": "display_data",
          "data": {
            "text/plain": [
              "special_tokens_map.json:   0%|          | 0.00/168 [00:00<?, ?B/s]"
            ],
            "application/vnd.jupyter.widget-view+json": {
              "version_major": 2,
              "version_minor": 0,
              "model_id": "f90604e021d146a787c5a342c5027e77"
            }
          },
          "metadata": {}
        },
        {
          "output_type": "stream",
          "name": "stderr",
          "text": [
            "Device set to use cuda:0\n"
          ]
        }
      ]
    },
    {
      "cell_type": "code",
      "source": [
        "!pip -q install langdetect"
      ],
      "metadata": {
        "id": "8du24nceNRgB",
        "colab": {
          "base_uri": "https://localhost:8080/"
        },
        "outputId": "1cb7d23d-bccb-4e84-9c0d-0c905cb9eb19",
        "widgets": {
          "state": {}
        }
      },
      "execution_count": 14,
      "outputs": [
        {
          "output_type": "stream",
          "name": "stdout",
          "text": [
            "\u001b[?25l     \u001b[90m\u2501\u2501\u2501\u2501\u2501\u2501\u2501\u2501\u2501\u2501\u2501\u2501\u2501\u2501\u2501\u2501\u2501\u2501\u2501\u2501\u2501\u2501\u2501\u2501\u2501\u2501\u2501\u2501\u2501\u2501\u2501\u2501\u2501\u2501\u2501\u2501\u2501\u2501\u2501\u2501\u001b[0m \u001b[32m0.0/981.5 kB\u001b[0m \u001b[31m?\u001b[0m eta \u001b[36m-:--:--\u001b[0m\r\u001b[2K     \u001b[90m\u2501\u2501\u2501\u2501\u2501\u2501\u2501\u2501\u2501\u2501\u2501\u2501\u2501\u2501\u2501\u2501\u2501\u2501\u2501\u2501\u2501\u2501\u2501\u2501\u2501\u2501\u2501\u2501\u2501\u2501\u2501\u2501\u2501\u2501\u2501\u2501\u2501\u2501\u001b[0m \u001b[32m981.5/981.5 kB\u001b[0m \u001b[31m43.0 MB/s\u001b[0m eta \u001b[36m0:00:00\u001b[0m\n",
            "\u001b[?25h  Preparing metadata (setup.py) ... \u001b[?25l\u001b[?25hdone\n",
            "  Building wheel for langdetect (setup.py) ... \u001b[?25l\u001b[?25hdone\n"
          ]
        }
      ]
    },
    {
      "cell_type": "code",
      "source": [
        "from langdetect import detect\n",
        "\n",
        "prompt_in_chat_format_en = [\n",
        "    {\n",
        "        \"role\": \"system\",\n",
        "        \"content\": \"\"\"Using the information contained in the context,\n",
        "give a comprehensive answer to the question.\n",
        "Respond only to the question asked, response should be concise and relevant to the question.\n",
        "Provide the number of the source document when relevant.\n",
        "If the answer cannot be deduced from the context, do not give an answer.\"\"\",\n",
        "    },\n",
        "    {\n",
        "        \"role\": \"user\",\n",
        "        \"content\": \"\"\"Context:\n",
        "{context}\n",
        "---\n",
        "Now here is the question you need to answer.\n",
        "\n",
        "Question: {question}\"\"\",\n",
        "    },\n",
        "]\n",
        "\n",
        "# Prompt template for Vietnamese\n",
        "prompt_in_chat_format_vi = [\n",
        "    {\n",
        "        \"role\": \"system\",\n",
        "        \"content\": \"\"\"S\u1eed d\u1ee5ng th\u00f4ng tin trong ng\u1eef c\u1ea3nh, h\u00e3y \u0111\u01b0a ra c\u00e2u tr\u1ea3 l\u1eddi \u0111\u1ea7y \u0111\u1ee7 cho c\u00e2u h\u1ecfi.\n",
        "Ch\u1ec9 tr\u1ea3 l\u1eddi c\u00e2u h\u1ecfi \u0111\u01b0\u1ee3c h\u1ecfi, c\u00e2u tr\u1ea3 l\u1eddi c\u1ea7n ng\u1eafn g\u1ecdn v\u00e0 ph\u00f9 h\u1ee3p v\u1edbi c\u00e2u h\u1ecfi.\n",
        "Cung c\u1ea5p s\u1ed1 c\u1ee7a t\u00e0i li\u1ec7u ngu\u1ed3n khi ph\u00f9 h\u1ee3p.\n",
        "N\u1ebfu c\u00e2u tr\u1ea3 l\u1eddi kh\u00f4ng th\u1ec3 suy ra t\u1eeb ng\u1eef c\u1ea3nh, kh\u00f4ng \u0111\u01b0a ra c\u00e2u tr\u1ea3 l\u1eddi.\"\"\",\n",
        "    },\n",
        "    {\n",
        "        \"role\": \"user\",\n",
        "        \"content\": \"\"\"Ng\u1eef c\u1ea3nh:\n",
        "{context}\n",
        "---\n",
        "B\u00e2y gi\u1edd \u0111\u00e2y l\u00e0 c\u00e2u h\u1ecfi m\u00e0 b\u1ea1n c\u1ea7n tr\u1ea3 l\u1eddi.\n",
        "\n",
        "C\u00e2u h\u1ecfi: {question}\"\"\",\n",
        "    },\n",
        "]\n",
        "\n",
        "def detect_language(query):\n",
        "    return detect(query)\n",
        "\n",
        "def create_prompt(question):\n",
        "\n",
        "    language = detect_language(question)\n",
        "\n",
        "    if language == 'vi':\n",
        "        RAG_PROMPT_TEMPLATE = tokenizer.apply_chat_template(\n",
        "            prompt_in_chat_format_vi, tokenize=False, add_generation_prompt=True\n",
        "        )\n",
        "    else:\n",
        "        RAG_PROMPT_TEMPLATE = tokenizer.apply_chat_template(\n",
        "            prompt_in_chat_format_en, tokenize=False, add_generation_prompt=True\n",
        "        )\n",
        "\n",
        "    return RAG_PROMPT_TEMPLATE\n",
        "\n",
        "#test prompt if the question is Vietnamese\n",
        "\n",
        "test_prompt = create_prompt(\"H\u00e0 N\u1ed9i l\u00e0 th\u1ee7 \u0111\u00f4 c\u1ee7a n\u01b0\u1edbc n\u00e0o?\")\n",
        "print(test_prompt)"
      ],
      "metadata": {
        "colab": {
          "base_uri": "https://localhost:8080/"
        },
        "id": "h-XNwX-iOBcP",
        "outputId": "497a6019-d29a-41b1-f5e2-924b93fb7ea9",
        "widgets": {
          "state": {}
        }
      },
      "execution_count": 15,
      "outputs": [
        {
          "output_type": "stream",
          "name": "stdout",
          "text": [
            "<|system|>\n",
            "S\u1eed d\u1ee5ng th\u00f4ng tin trong ng\u1eef c\u1ea3nh, h\u00e3y \u0111\u01b0a ra c\u00e2u tr\u1ea3 l\u1eddi \u0111\u1ea7y \u0111\u1ee7 cho c\u00e2u h\u1ecfi.\n",
            "Ch\u1ec9 tr\u1ea3 l\u1eddi c\u00e2u h\u1ecfi \u0111\u01b0\u1ee3c h\u1ecfi, c\u00e2u tr\u1ea3 l\u1eddi c\u1ea7n ng\u1eafn g\u1ecdn v\u00e0 ph\u00f9 h\u1ee3p v\u1edbi c\u00e2u h\u1ecfi.\n",
            "Cung c\u1ea5p s\u1ed1 c\u1ee7a t\u00e0i li\u1ec7u ngu\u1ed3n khi ph\u00f9 h\u1ee3p.\n",
            "N\u1ebfu c\u00e2u tr\u1ea3 l\u1eddi kh\u00f4ng th\u1ec3 suy ra t\u1eeb ng\u1eef c\u1ea3nh, kh\u00f4ng \u0111\u01b0a ra c\u00e2u tr\u1ea3 l\u1eddi.</s>\n",
            "<|user|>\n",
            "Ng\u1eef c\u1ea3nh:\n",
            "{context}\n",
            "---\n",
            "B\u00e2y gi\u1edd \u0111\u00e2y l\u00e0 c\u00e2u h\u1ecfi m\u00e0 b\u1ea1n c\u1ea7n tr\u1ea3 l\u1eddi.\n",
            "\n",
            "C\u00e2u h\u1ecfi: {question}</s>\n",
            "<|assistant|>\n",
            "\n"
          ]
        }
      ]
    },
    {
      "cell_type": "code",
      "source": [
        "retrieved_docs_text = [\n",
        "    doc.page_content for doc in retrieved_docs\n",
        "]  # We only need the text of the documents\n",
        "context = \"\\nExtracted documents:\\n\"\n",
        "context += \"\".join(\n",
        "    [f\"Document {str(i)}:::\\n\" + doc for i, doc in enumerate(retrieved_docs_text)]\n",
        ")\n",
        "\n",
        "user_query=\"Quy \u0111\u1ecbnh v\u1ec1 \u0111\u1ed9 tu\u1ed5i l\u00e1i xe m\u00f4 t\u00f4 2 b\u00e1nh?\"\n",
        "\n",
        "rag_prompt = create_prompt(user_query)\n",
        "final_prompt = rag_prompt.format(\n",
        "    question=user_query, context=context\n",
        ")\n",
        "\n",
        "# Redact an answer\n",
        "answer = READER_LLM(final_prompt)[0][\"generated_text\"]\n",
        "print(answer)"
      ],
      "metadata": {
        "colab": {
          "base_uri": "https://localhost:8080/"
        },
        "id": "HhkV9GeSOMxi",
        "outputId": "46faba32-6c37-42d8-91ab-af4a65bfb03d",
        "widgets": {
          "state": {}
        }
      },
      "execution_count": 16,
      "outputs": [
        {
          "output_type": "stream",
          "name": "stdout",
          "text": [
            "C\u00e2u tr\u1ea3 l\u1eddi: Ng\u01b0\u1eddi d\u01b0\u1edbi 16 tu\u1ed5i kh\u00f4ng \u0111\u01b0\u1ee3c \u0111i\u1ec1u khi\u1ec3n xe m\u00f4 t\u00f4 2 b\u00e1nh, ngo\u00e0i tr\u01b0\u1eddng h\u1ee3p ng\u01b0\u1eddi \u0111\u01b0\u1ee3c gi\u1ea5y ph\u00e9p l\u00e1i xe m\u00f4 t\u00f4 2 b\u00e1nh ph\u00f9 h\u1ee3p v\u1edbi lo\u1ea1i xe \u0111ang \u0111i\u1ec1u khi\u1ec3n (Document 0). Ng\u01b0\u1eddi t\u1eeb 16 \u0111\u1ebfn 18 tu\u1ed5i c\u00f3 gi\u1ea5y ph\u00e9p l\u00e1i xe m\u00f4 t\u00f4 2 b\u00e1nh, nh\u01b0ng kh\u00f4ng mang theo gi\u1ea5y ph\u00e9p l\u00e1i xe c\u00f3 s\u1ed1ph\u00f4i ghi \u1edfm\u1eb7t sau kh\u00f4ng tr\u00f9ng v\u1edbi s\u1ed1ph\u00f4i \u0111\u01b0\u1ee3c c\u1ea5p m\u1edbi nh\u1ea5t trong h\u1ec7 th\u1ed1ng qu\u1ea3n l\u00fd gi\u1ea5y ph\u00e9p l\u00e1i xe (Document 0). Ph\u1ea1t ti\u1ec1n t\u1eeb 4.000.000 \u0111\u1ed3ng \u0111\u1ebfn 6.000.000 \u0111\u1ed3ng \u0111\u1ed1i v\u1edbi ng\u01b0\u1eddi t\u1eeb 16 \u0111\u1ebfn 18 tu\u1ed5i \u0111i\u1ec1u khi\u1ec3n xe m\u00f4 t\u00f4 2 b\u00e1nh (Document 1).\n"
          ]
        }
      ]
    },
    {
      "cell_type": "code",
      "source": [
        "from transformers import pipeline, Pipeline\n",
        "\n",
        "def answer_with_rag(\n",
        "    question: str,\n",
        "    llm: Pipeline,\n",
        "    knowledge_index: FAISS,\n",
        "    num_retrieved_docs: int = 30,\n",
        "    num_docs_final: int = 5,\n",
        ") -> Tuple[str, List[LangchainDocument]]:\n",
        "\n",
        "    print(\"=> Retrieving documents...\")\n",
        "    relevant_docs = knowledge_index.similarity_search(query=question, k=num_retrieved_docs)\n",
        "\n",
        "    if not relevant_docs:\n",
        "        raise ValueError(\"No relevant documents retrieved.\")\n",
        "\n",
        "    # Gi\u1eef b\u1ea3n g\u1ed1c \u0111\u1ec3 return\n",
        "    retrieved_docs = relevant_docs[:num_docs_final]  # gi\u1eef l\u1ea1i LangchainDocument g\u1ed1c\n",
        "\n",
        "    # L\u1ea5y n\u1ed9i dung text \u0111\u1ec3 \u0111\u01b0a v\u00e0o prompt\n",
        "    docs_text = [doc.page_content for doc in retrieved_docs]\n",
        "\n",
        "    context = \"\\nExtracted documents:\\n\"\n",
        "    context += \"\".join(\n",
        "        [f\"Document {str(i)}:::\\n{doc}\" for i, doc in enumerate(docs_text)]\n",
        "    )\n",
        "\n",
        "    RAG_PROMPT_TEMPLATE = create_prompt(question)\n",
        "    final_prompt = RAG_PROMPT_TEMPLATE.format(question=question, context=context)\n",
        "\n",
        "    print(\"=> Generating answer...\")\n",
        "    answer = llm(final_prompt)[0][\"generated_text\"]\n",
        "\n",
        "    return answer, retrieved_docs"
      ],
      "metadata": {
        "id": "CqoSJDAEORYK",
        "widgets": {
          "state": {}
        }
      },
      "execution_count": 17,
      "outputs": []
    },
    {
      "cell_type": "code",
      "source": [
        "question = \"Nguy\u00ean t\u1eafc tr\u1eeb \u0111i\u1ec3m gi\u1ea5y ph\u00e9p l\u00e1i xe v\u1edbi gi\u1ea5y ph\u00e9p l\u00e1i xe kh\u00f4ng gi\u1edbi h\u1ea1n?\"\n",
        "\n",
        "answer, relevant_docs = answer_with_rag(\n",
        "    question, READER_LLM, loaded_vector_database)"
      ],
      "metadata": {
        "colab": {
          "base_uri": "https://localhost:8080/"
        },
        "id": "2HBvtBwSP-gd",
        "outputId": "70cbd23f-8a6d-4654-8f90-3947bc870454",
        "widgets": {
          "state": {}
        }
      },
      "execution_count": 18,
      "outputs": [
        {
          "output_type": "stream",
          "name": "stdout",
          "text": [
            "=> Retrieving documents...\n",
            "=> Generating answer...\n"
          ]
        }
      ]
    },
    {
      "cell_type": "code",
      "source": [
        "print(\"==================================Answer==================================\")\n",
        "print(f\"{answer}\")\n",
        "print(\"==================================Source docs==================================\")\n",
        "for i, doc in enumerate(relevant_docs):\n",
        "    print(f\"Document {i}------------------------------------------------------------\")\n",
        "    print(doc)"
      ],
      "metadata": {
        "colab": {
          "base_uri": "https://localhost:8080/"
        },
        "id": "jaj6DxnGQi4_",
        "outputId": "6d18a732-ba37-4147-d936-0aba058b42dc",
        "widgets": {
          "state": {}
        }
      },
      "execution_count": 19,
      "outputs": [
        {
          "output_type": "stream",
          "name": "stdout",
          "text": [
            "==================================Answer==================================\n",
            "Nguy\u00ean t\u1eafc tr\u1eeb \u0111i\u1ec3m gi\u1ea5y ph\u00e9p l\u00e1i xe c\u00f3 \u00e1p d\u1ee5ng v\u1edbi gi\u1ea5y ph\u00e9p l\u00e1i xe kh\u00f4ng gi\u1edbi h\u1ea1n, nh\u01b0ng ch\u1ec9 \u00e1p d\u1ee5ng khi ng\u01b0\u1eddi \u0111i\u1ec1u khi\u1ec3n xe m\u00f4 t\u00f4, xe t\u01b0\u01a1ng t\u1ef1xe m\u00f4 t\u00f4 ho\u1eb7c tr\u1eeb \u0111i\u1ec3m gi\u1ea5y ph\u00e9p l\u00e1i xe c\u00f3 th\u1eddi h\u1ea1n (xe \u00f4 t\u00f4, xe t\u01b0\u01a1ng t\u1ef1xe \u00f4 t\u00f4, xe ch\u1edfng\u01b0\u1eddi b\u1ed1n b\u00e1nh c\u00f3 g\u1eafn \u0111\u1ed9ng c\u01a1, xe ch\u1edfh\u00e0ng b\u1ed1n b\u00e1nh c\u00f3 g\u1eafn \u0111\u1ed9ng c\u01a1) khi ng\u01b0\u1eddi \u0111i\u1ec1u khi\u1ec3n xe \u00f4 t\u00f4, xe t\u01b0\u01a1ng t\u1ef1xe \u00f4 t\u00f4, xe ch\u1edfng\u01b0\u1eddi b\u1ed1n b\u00e1nh c\u00f3 g\u1eafn \u0111\u1ed9ng c\u01a1, xe ch\u1edfh\u00e0ng b\u1ed1n b\u00e1nh c\u00f3 g\u1eafn \u0111\u1ed9ng c\u01a1 b\u1ecb x\u1eedph\u1ea1t vi ph\u1ea1m h\u00e0nh ch\u00ednh. N\u1ebfu ng\u01b0\u1eddi \u0111i\u1ec1u khi\u1ec3n xe m\u00f4 t\u00f4, xe t\u01b0\u01a1ng t\u1ef1xe m\u00f4 t\u00f4 b\u1ecb x\u1eedph\u1ea1t vi ph\u1ea1m h\u00e0nh ch\u00ednh, ch\u1ec9 \u00e1p d\u1ee5ng tr\u1eeb \u0111i\u1ec3m gi\u1ea5y ph\u00e9p l\u00e1i xe khi ng\u01b0\u1eddi \u0111i\u1ec1u khi\u1ec3n xe m\u00f4 t\u00f4, xe t\u01b0\u01a1ng t\u1ef1xe m\u00f4 t\u00f4 b\u1ecb x\u1eedph\u1ea1t vi ph\u1ea1m h\u00e0nh ch\u00ednh c\u00f3 quy \u0111\u1ecbnh tr\u1eeb \u0111i\u1ec3m gi\u1ea5y ph\u00e9p l\u00e1i xe. Nguy\u00ean t\u1eafc n\u00e0 \u0111\u01b0\u1ee3c quy \u0111\u1ecbnh t\u1ea1i \u0110i\u1ec1u 7 c\u1ee7a ng\u01b0\u1eddi \u0111i\u1ec1u khi\u1ec3n\n",
            "==================================Source docs==================================\n",
            "Document 0------------------------------------------------------------\n",
            "page_content='GI\u1ea4Y PH\u00c9P L\u00c1I XE\n",
            "\u0110i\u1ec1u 49. D\u1eefli\u1ec7u v\u1ec1\u0111i\u1ec3m, tr\u1eeb\u0111i\u1ec3m, ph\u1ee5c h\u1ed3i \u0111i\u1ec3m gi\u1ea5y ph\u00e9p l\u00e1i xe\n",
            "D\u1eefli\u1ec7u v\u1ec1\u0111i\u1ec3m, tr\u1eeb\u0111i\u1ec3m, ph\u1ee5c h\u1ed3i \u0111i\u1ec3m gi\u1ea5y ph\u00e9p l\u00e1i xe \u0111\u01b0\u1ee3c qu\u1ea3n l\u00fd, l\u01b0u tr\u1eeftr\u00ean m\u00f4i\n",
            "tr\u01b0\u1eddng \u0111i\u1ec7n t\u1eed, trong C\u01a1 s\u1edfd\u1eefli\u1ec7u v\u1ec1x\u1eedl\u00fd vi ph\u1ea1m h\u00e0nh ch\u00ednh v\u1ec1tr\u1eadt t\u1ef1, an to\u00e0n giao\n",
            "th\u00f4ng \u0111\u01b0\u1eddng b\u1ed9do B\u1ed9C\u00f4ng an x\u00e2y d\u1ef1ng, qu\u1ea3n l\u00fd, v\u1eadn h\u00e0nh.\n",
            "\u0110i\u1ec1u 50. Nguy\u00ean t\u1eafc, th\u1ea9m quy\u1ec1n, tr\u00ecnh t\u1ef1, th\u1ee7t\u1ee5c tr\u1eeb\u0111i\u1ec3m gi\u1ea5y ph\u00e9p l\u00e1i xe\n",
            "1. Nguy\u00ean t\u1eafc tr\u1eeb\u0111i\u1ec3m gi\u1ea5y ph\u00e9p l\u00e1i xe\n",
            "a) Vi\u1ec7c tr\u1eeb\u0111i\u1ec3m gi\u1ea5y ph\u00e9p l\u00e1i xe \u0111\u01b0\u1ee3c th\u1ef1c hi\u1ec7n ngay sau khi quy\u1ebft \u0111\u1ecbnh x\u1eedph\u1ea1t vi ph\u1ea1m\n",
            "h\u00e0nh ch\u00ednh \u0111\u1ed1i v\u1edbi h\u00e0nh vi vi ph\u1ea1m m\u00e0 theo quy \u0111\u1ecbnh c\u1ee7a Ngh\u1ecb\u0111\u1ecbnh n\u00e0y b\u1ecbtr\u1eeb\u0111i\u1ec3m gi\u1ea5y\n",
            "ph\u00e9p l\u00e1i xe c\u00f3 hi\u1ec7u l\u1ef1c thi h\u00e0nh;\n",
            "b) Tr\u01b0\u1eddng h\u1ee3p c\u00e1 nh\u00e2n th\u1ef1c hi\u1ec7n nhi\u1ec1u h\u00e0nh vi vi ph\u1ea1m h\u00e0nh ch\u00ednh ho\u1eb7c vi ph\u1ea1m h\u00e0nh\n",
            "ch\u00ednh nhi\u1ec1u l\u1ea7n m\u00e0 b\u1ecbx\u1eedph\u1ea1t trong c\u00f9ng m\u1ed9t l\u1ea7n, n\u1ebfu c\u00f3 t\u1eeb02 h\u00e0nh vi vi ph\u1ea1m tr\u1edfl\u00ean' metadata={'source': '/content/luatgt.pdf', 'start_index': 233490}\n",
            "Document 1------------------------------------------------------------\n",
            "page_content='\u0111i\u1ec3m \u0111, \u0111i\u1ec3m g kho\u1ea3n 4; \u0111i\u1ec3m a, \u0111i\u1ec3m b, \u0111i\u1ec3m c, \u0111i\u1ec3m d, \u0111i\u1ec3m \u0111, \u0111i\u1ec3m e, \u0111i\u1ec3m g, \u0111i\u1ec3m i,\n",
            "\u0111i\u1ec3m k, \u0111i\u1ec3m n, \u0111i\u1ec3m o kho\u1ea3n 5 \u0110i\u1ec1u n\u00e0y b\u1ecbtr\u1eeb\u0111i\u1ec3m gi\u1ea5y ph\u00e9p l\u00e1i xe 02 \u0111i\u1ec3m;\n",
            "b) Th\u1ef1c hi\u1ec7n h\u00e0nh vi quy \u0111\u1ecbnh t\u1ea1i \u0111i\u1ec3m h kho\u1ea3n 5; kho\u1ea3n 6; \u0111i\u1ec3m b kho\u1ea3n 7; \u0111i\u1ec3m b,\n",
            "\u0111i\u1ec3m c, \u0111i\u1ec3m d kho\u1ea3n 9 \u0110i\u1ec1u n\u00e0y b\u1ecbtr\u1eeb\u0111i\u1ec3m gi\u1ea5y ph\u00e9p l\u00e1i xe 04 \u0111i\u1ec3m;\n",
            "c) Th\u1ef1c hi\u1ec7n h\u00e0nh vi quy \u0111\u1ecbnh t\u1ea1i \u0111i\u1ec3m p kho\u1ea3n 5; \u0111i\u1ec3m a, \u0111i\u1ec3m c kho\u1ea3n 7; kho\u1ea3n 8 \u0110i\u1ec1u\n",
            "n\u00e0y b\u1ecbtr\u1eeb\u0111i\u1ec3m gi\u1ea5y ph\u00e9p l\u00e1i xe 06 \u0111i\u1ec3m;\n",
            "d) Th\u1ef1c hi\u1ec7n h\u00e0nh vi quy \u0111\u1ecbnh t\u1ea1i \u0111i\u1ec3m a kho\u1ea3n 9, kho\u1ea3n 10, \u0111i\u1ec3m \u0111 kho\u1ea3n 11 \u0110i\u1ec1u n\u00e0y\n",
            "b\u1ecbtr\u1eeb\u0111i\u1ec3m gi\u1ea5y ph\u00e9p l\u00e1i xe 10 \u0111i\u1ec3m.\n",
            "\u0110i\u1ec1u 7. X\u1eedph\u1ea1t, tr\u1eeb\u0111i\u1ec3m gi\u1ea5y ph\u00e9p l\u00e1i c\u1ee7a ng\u01b0\u1eddi \u0111i\u1ec1u khi\u1ec3n xe m\u00f4 t\u00f4, xe g\u1eafn m\u00e1y,\n",
            "c\u00e1c lo\u1ea1i xe t\u01b0\u01a1ng t\u1ef1xe m\u00f4 t\u00f4 v\u00e0 c\u00e1c lo\u1ea1i xe t\u01b0\u01a1ng t\u1ef1xe g\u1eafn m\u00e1y vi ph\u1ea1m quy t\u1eafc\n",
            "giao th\u00f4ng \u0111\u01b0\u1eddng b\u1ed9\n",
            "1. Ph\u1ea1t ti\u1ec1n t\u1eeb200.000 \u0111\u1ed3ng \u0111\u1ebfn 400.000 \u0111\u1ed3ng \u0111\u1ed1i v\u1edbi ng\u01b0\u1eddi \u0111i\u1ec1u khi\u1ec3n xe th\u1ef1c hi\u1ec7n m\u1ed9t' metadata={'source': '/content/luatgt.pdf', 'start_index': 33936}\n",
            "Document 2------------------------------------------------------------\n",
            "page_content='ch\u00ednh nhi\u1ec1u l\u1ea7n m\u00e0 b\u1ecbx\u1eedph\u1ea1t trong c\u00f9ng m\u1ed9t l\u1ea7n, n\u1ebfu c\u00f3 t\u1eeb02 h\u00e0nh vi vi ph\u1ea1m tr\u1edfl\u00ean\n",
            "theo quy \u0111\u1ecbnh b\u1ecbtr\u1eeb\u0111i\u1ec3m gi\u1ea5y ph\u00e9p l\u00e1i xe th\u00ec ch\u1ec9\u00e1p d\u1ee5ng tr\u1eeb\u0111i\u1ec3m \u0111\u1ed1i v\u1edbi h\u00e0nh vi vi\n",
            "ph\u1ea1m b\u1ecbtr\u1eebnhi\u1ec1u \u0111i\u1ec3m nh\u1ea5t;\n",
            "c) Tr\u01b0\u1eddng h\u1ee3p s\u1ed1\u0111i\u1ec3m c\u00f2n l\u1ea1i c\u1ee7a gi\u1ea5y ph\u00e9p l\u00e1i xe \u00edt h\u01a1n s\u1ed1\u0111i\u1ec3m b\u1ecbtr\u1eebth\u00ec \u00e1p d\u1ee5ng tr\u1eeb\n",
            "h\u1ebft s\u1ed1\u0111i\u1ec3m c\u00f2n l\u1ea1i c\u1ee7a gi\u1ea5y ph\u00e9p l\u00e1i xe \u0111\u00f3;\n",
            "d) Tr\u01b0\u1eddng h\u1ee3p gi\u1ea5y ph\u00e9p l\u00e1i xe t\u00edch h\u1ee3p gi\u1ea5y ph\u00e9p l\u00e1i xe kh\u00f4ng th\u1eddi h\u1ea1n (xe m\u00f4 t\u00f4, xe\n",
            "t\u01b0\u01a1ng t\u1ef1xe m\u00f4 t\u00f4) v\u00e0 gi\u1ea5y ph\u00e9p l\u00e1i xe c\u00f3 th\u1eddi h\u1ea1n (xe \u00f4 t\u00f4, xe t\u01b0\u01a1ng t\u1ef1xe \u00f4 t\u00f4, xe ch\u1edf\n",
            "ng\u01b0\u1eddi b\u1ed1n b\u00e1nh c\u00f3 g\u1eafn \u0111\u1ed9ng c\u01a1, xe ch\u1edfh\u00e0ng b\u1ed1n b\u00e1nh c\u00f3 g\u1eafn \u0111\u1ed9ng c\u01a1) th\u00ec ng\u01b0\u1eddi c\u00f3 th\u1ea9m\n",
            "quy\u1ec1n x\u1eedph\u1ea1t th\u1ef1c hi\u1ec7n tr\u1eeb\u0111i\u1ec3m \u0111\u1ed1i v\u1edbi gi\u1ea5y ph\u00e9p l\u00e1i xe kh\u00f4ng th\u1eddi h\u1ea1n khi ng\u01b0\u1eddi \u0111i\u1ec1u\n",
            "khi\u1ec3n xe m\u00f4 t\u00f4, xe t\u01b0\u01a1ng t\u1ef1xe m\u00f4 t\u00f4 ho\u1eb7c tr\u1eeb\u0111i\u1ec3m gi\u1ea5y ph\u00e9p l\u00e1i xe c\u00f3 th\u1eddi h\u1ea1n khi\n",
            "ng\u01b0\u1eddi \u0111i\u1ec1u khi\u1ec3n xe \u00f4 t\u00f4, xe t\u01b0\u01a1ng t\u1ef1xe \u00f4 t\u00f4, xe ch\u1edfng\u01b0\u1eddi b\u1ed1n b\u00e1nh c\u00f3 g\u1eafn \u0111\u1ed9ng c\u01a1, xe' metadata={'source': '/content/luatgt.pdf', 'start_index': -1}\n",
            "Document 3------------------------------------------------------------\n",
            "page_content='h\u00e0nh vi vi ph\u1ea1m c\u00f2n b\u1ecbtr\u1eeb\u0111i\u1ec3m gi\u1ea5y ph\u00e9p l\u00e1i xe nh\u01b0 sau:\n",
            "a) Th\u1ef1c hi\u1ec7n h\u00e0nh vi quy \u0111\u1ecbnh t\u1ea1i \u0111i\u1ec3m b, \u0111i\u1ec3m c, \u0111i\u1ec3m \u0111 kho\u1ea3n 2; \u0111i\u1ec3m a kho\u1ea3n 3; kho\u1ea3n\n",
            "4; kho\u1ea3n 5; \u0111i\u1ec3m c, \u0111i\u1ec3m d, \u0111i\u1ec3m \u0111 kho\u1ea3n 6 \u0110i\u1ec1u n\u00e0y b\u1ecbtr\u1eeb\u0111i\u1ec3m gi\u1ea5y ph\u00e9p l\u00e1i xe (khi\n",
            "\u0111i\u1ec1u khi\u1ec3n xe \u00f4 t\u00f4) 02 \u0111i\u1ec3m;\n",
            "b) Th\u1ef1c hi\u1ec7n h\u00e0nh vi quy \u0111\u1ecbnh t\u1ea1i \u0111i\u1ec3m a, \u0111i\u1ec3m b kho\u1ea3n 6; \u0111i\u1ec3m c, \u0111i\u1ec3m d, \u0111i\u1ec3m \u0111 kho\u1ea3n\n",
            "8; kho\u1ea3n 10 \u0110i\u1ec1u n\u00e0y b\u1ecbtr\u1eeb\u0111i\u1ec3m gi\u1ea5y ph\u00e9p l\u00e1i xe 04 \u0111i\u1ec3m;\n",
            "c) Th\u1ef1c hi\u1ec7n h\u00e0nh vi quy \u0111\u1ecbnh t\u1ea1i kho\u1ea3n 9 \u0110i\u1ec1u n\u00e0y b\u1ecbtr\u1eeb\u0111i\u1ec3m gi\u1ea5y ph\u00e9p l\u00e1i xe 06 \u0111i\u1ec3m;\n",
            "d) Th\u1ef1c hi\u1ec7n h\u00e0nh vi quy \u0111\u1ecbnh t\u1ea1i kho\u1ea3n 7 \u0110i\u1ec1u n\u00e0y b\u1ecbtr\u1eeb\u0111i\u1ec3m gi\u1ea5y ph\u00e9p l\u00e1i xe 08 \u0111i\u1ec3m;\n",
            "\u0111) Th\u1ef1c hi\u1ec7n h\u00e0nh vi quy \u0111\u1ecbnh t\u1ea1i \u0111i\u1ec3m a, \u0111i\u1ec3m b kho\u1ea3n 8; kho\u1ea3n 11 \u0110i\u1ec1u n\u00e0y b\u1ecbtr\u1eeb\u0111i\u1ec3m\n",
            "gi\u1ea5y ph\u00e9p l\u00e1i xe 10 \u0111i\u1ec3m.\n",
            "\u0110i\u1ec1u 22. X\u1eedph\u1ea1t, tr\u1eeb\u0111i\u1ec3m gi\u1ea5y ph\u00e9p l\u00e1i xe c\u1ee7a ng\u01b0\u1eddi \u0111i\u1ec1u khi\u1ec3n xe \u00f4 t\u00f4 th\u1ef1c hi\u1ec7n\n",
            "h\u00e0nh vi vi ph\u1ea1m quy \u0111\u1ecbnh v\u1ec1v\u1eadn chuy\u1ec3n h\u00e0ng si\u00eau tr\u01b0\u1eddng, si\u00eau tr\u1ecdng' metadata={'source': '/content/luatgt.pdf', 'start_index': -1}\n",
            "Document 4------------------------------------------------------------\n",
            "page_content='ch\u1edfh\u00e0ng b\u1ed1n b\u00e1nh c\u00f3 g\u1eafn \u0111\u1ed9ng c\u01a1 th\u1ef1c hi\u1ec7n h\u00e0nh vi vi ph\u1ea1m h\u00e0nh ch\u00ednh c\u00f3 quy \u0111\u1ecbnh b\u1ecb\n",
            "tr\u1eeb\u0111i\u1ec3m gi\u1ea5y ph\u00e9p l\u00e1i xe;\n",
            "\u0111) Kh\u00f4ng tr\u1eeb\u0111i\u1ec3m gi\u1ea5y ph\u00e9p l\u00e1i xe khi gi\u1ea5y ph\u00e9p l\u00e1i xe \u0111\u00f3 \u0111ang trong th\u1eddi h\u1ea1n b\u1ecbt\u01b0\u1edbc\n",
            "quy\u1ec1n s\u1eedd\u1ee5ng gi\u1ea5y ph\u00e9p l\u00e1i xe.\n",
            "2. Th\u1ea9m quy\u1ec1n tr\u1eeb\u0111i\u1ec3m gi\u1ea5y ph\u00e9p l\u00e1i xe\n",
            "Ng\u01b0\u1eddi c\u00f3 th\u1ea9m quy\u1ec1n \u00e1p d\u1ee5ng h\u00ecnh th\u1ee9c x\u1eedph\u1ea1t t\u01b0\u1edbc quy\u1ec1n s\u1eedd\u1ee5ng gi\u1ea5y ph\u00e9p, ch\u1ee9ng\n",
            "ch\u1ec9h\u00e0nh ngh\u1ec1c\u00f3 th\u1eddi h\u1ea1n ho\u1eb7c \u0111\u00ecnh ch\u1ec9ho\u1ea1t \u0111\u1ed9ng c\u00f3 th\u1eddi h\u1ea1n quy \u0111\u1ecbnh t\u1ea1i Ch\u01b0\u01a1ng II\n",
            "Ph\u1ea7n th\u1ee9hai c\u1ee7a Lu\u1eadt X\u1eedl\u00fd vi ph\u1ea1m h\u00e0nh ch\u00ednh, M\u1ee5c 1 Ch\u01b0\u01a1ng III c\u1ee7a Ngh\u1ecb\u0111\u1ecbnh n\u00e0y\n",
            "v\u00e0 c\u00f3 th\u1ea9m quy\u1ec1n x\u1eedph\u1ea1t vi ph\u1ea1m h\u00e0nh ch\u00ednh \u0111\u1ed1i v\u1edbi h\u00e0nh vi vi ph\u1ea1m c\u00f3 quy \u0111\u1ecbnh tr\u1eeb\n",
            "\u0111i\u1ec3m gi\u1ea5y ph\u00e9p l\u00e1i xe th\u00ec c\u00f3 th\u1ea9m quy\u1ec1n tr\u1eeb\u0111i\u1ec3m gi\u1ea5y ph\u00e9p l\u00e1i xe \u0111\u1ed1i v\u1edbi h\u00e0nh vi vi\n",
            "ph\u1ea1m \u0111\u00f3.\n",
            "3. Tr\u00ecnh t\u1ef1, th\u1ee7t\u1ee5c tr\u1eeb\u0111i\u1ec3m gi\u1ea5y ph\u00e9p l\u00e1i xe\n",
            "a) Ngay sau khi quy\u1ebft \u0111\u1ecbnh x\u1eedph\u1ea1t vi ph\u1ea1m h\u00e0nh ch\u00ednh c\u00f3 hi\u1ec7u l\u1ef1c thi h\u00e0nh, d\u1eefli\u1ec7u tr\u1eeb\n",
            "\u0111i\u1ec3m gi\u1ea5y ph\u00e9p l\u00e1i xe c\u1ee7a ng\u01b0\u1eddi b\u1ecbx\u1eedph\u1ea1t s\u1ebd\u0111\u01b0\u1ee3c c\u1eadp nh\u1eadt t\u1ef1\u0111\u1ed9ng v\u00e0o C\u01a1 s\u1edfd\u1eefli\u1ec7u v\u1ec1' metadata={'source': '/content/luatgt.pdf', 'start_index': 235032}\n"
          ]
        }
      ]
    },
    {
      "cell_type": "code",
      "source": [
        "!pip -q install gradio"
      ],
      "metadata": {
        "colab": {
          "base_uri": "https://localhost:8080/"
        },
        "id": "Aowy6CcCBGLB",
        "outputId": "69263b6b-8c94-4cfe-f5c1-4e01ec42871b",
        "widgets": {
          "state": {}
        }
      },
      "execution_count": 20,
      "outputs": [
        {
          "output_type": "stream",
          "name": "stdout",
          "text": [
            "\u001b[2K   \u001b[90m\u2501\u2501\u2501\u2501\u2501\u2501\u2501\u2501\u2501\u2501\u2501\u2501\u2501\u2501\u2501\u2501\u2501\u2501\u2501\u2501\u2501\u2501\u2501\u2501\u2501\u2501\u2501\u2501\u2501\u2501\u2501\u2501\u2501\u2501\u2501\u2501\u2501\u2501\u2501\u2501\u001b[0m \u001b[32m54.1/54.1 MB\u001b[0m \u001b[31m18.0 MB/s\u001b[0m eta \u001b[36m0:00:00\u001b[0m\n",
            "\u001b[2K   \u001b[90m\u2501\u2501\u2501\u2501\u2501\u2501\u2501\u2501\u2501\u2501\u2501\u2501\u2501\u2501\u2501\u2501\u2501\u2501\u2501\u2501\u2501\u2501\u2501\u2501\u2501\u2501\u2501\u2501\u2501\u2501\u2501\u2501\u2501\u2501\u2501\u2501\u2501\u2501\u2501\u2501\u001b[0m \u001b[32m323.1/323.1 kB\u001b[0m \u001b[31m21.3 MB/s\u001b[0m eta \u001b[36m0:00:00\u001b[0m\n",
            "\u001b[2K   \u001b[90m\u2501\u2501\u2501\u2501\u2501\u2501\u2501\u2501\u2501\u2501\u2501\u2501\u2501\u2501\u2501\u2501\u2501\u2501\u2501\u2501\u2501\u2501\u2501\u2501\u2501\u2501\u2501\u2501\u2501\u2501\u2501\u2501\u2501\u2501\u2501\u2501\u2501\u2501\u2501\u2501\u001b[0m \u001b[32m95.2/95.2 kB\u001b[0m \u001b[31m8.2 MB/s\u001b[0m eta \u001b[36m0:00:00\u001b[0m\n",
            "\u001b[2K   \u001b[90m\u2501\u2501\u2501\u2501\u2501\u2501\u2501\u2501\u2501\u2501\u2501\u2501\u2501\u2501\u2501\u2501\u2501\u2501\u2501\u2501\u2501\u2501\u2501\u2501\u2501\u2501\u2501\u2501\u2501\u2501\u2501\u2501\u2501\u2501\u2501\u2501\u2501\u2501\u2501\u2501\u001b[0m \u001b[32m11.6/11.6 MB\u001b[0m \u001b[31m86.7 MB/s\u001b[0m eta \u001b[36m0:00:00\u001b[0m\n",
            "\u001b[2K   \u001b[90m\u2501\u2501\u2501\u2501\u2501\u2501\u2501\u2501\u2501\u2501\u2501\u2501\u2501\u2501\u2501\u2501\u2501\u2501\u2501\u2501\u2501\u2501\u2501\u2501\u2501\u2501\u2501\u2501\u2501\u2501\u2501\u2501\u2501\u2501\u2501\u2501\u2501\u2501\u2501\u2501\u001b[0m \u001b[32m72.0/72.0 kB\u001b[0m \u001b[31m6.4 MB/s\u001b[0m eta \u001b[36m0:00:00\u001b[0m\n",
            "\u001b[2K   \u001b[90m\u2501\u2501\u2501\u2501\u2501\u2501\u2501\u2501\u2501\u2501\u2501\u2501\u2501\u2501\u2501\u2501\u2501\u2501\u2501\u2501\u2501\u2501\u2501\u2501\u2501\u2501\u2501\u2501\u2501\u2501\u2501\u2501\u2501\u2501\u2501\u2501\u2501\u2501\u2501\u2501\u001b[0m \u001b[32m62.5/62.5 kB\u001b[0m \u001b[31m5.5 MB/s\u001b[0m eta \u001b[36m0:00:00\u001b[0m\n",
            "\u001b[?25h"
          ]
        }
      ]
    },
    {
      "cell_type": "code",
      "source": [
        "import gradio as gr\n",
        "\n",
        "# H\u00e0m x\u1eed l\u00fd RAG trong giao di\u1ec7n chat\n",
        "def gr_rag_chat(question, history):\n",
        "    try:\n",
        "        # Truy xu\u1ea5t t\u00e0i li\u1ec7u li\u00ean quan\n",
        "        relevant_docs = loaded_vector_database.similarity_search(question, k=5)\n",
        "        if not relevant_docs:\n",
        "            return \"\", history + [(question, \"\u274c Kh\u00f4ng t\u00ecm th\u1ea5y t\u00e0i li\u1ec7u ph\u00f9 h\u1ee3p.\")]\n",
        "\n",
        "        # K\u1ebft h\u1ee3p n\u1ed9i dung c\u00e1c t\u00e0i li\u1ec7u\n",
        "        context = \"\\n\".join(\n",
        "            [f\"[T\u00e0i li\u1ec7u {i+1}]\\n\" + doc.page_content for i, doc in enumerate(relevant_docs)]\n",
        "        )\n",
        "\n",
        "        # T\u1ea1o prompt cho LLM\n",
        "        rag_prompt = create_prompt(question)\n",
        "        final_prompt = rag_prompt.format(question=question, context=context)\n",
        "\n",
        "        # Sinh c\u00e2u tr\u1ea3 l\u1eddi t\u1eeb m\u00f4 h\u00ecnh\n",
        "        answer = READER_LLM(final_prompt)[0][\"generated_text\"]\n",
        "\n",
        "        # Tr\u1ea3 v\u1ec1 k\u1ebft qu\u1ea3 v\u00e0 c\u1eadp nh\u1eadt l\u1ecbch s\u1eed chat\n",
        "        history.append((question, answer))\n",
        "        return \"\", history\n",
        "\n",
        "    except Exception as e:\n",
        "        return \"\", history + [(question, f\"\u26a0\ufe0f L\u1ed7i: {str(e)}\")]\n",
        "\n",
        "# Giao di\u1ec7n Gradio d\u1ea1ng Blocks\n",
        "with gr.Blocks() as demo:\n",
        "    gr.Markdown(\"## \ud83e\udd16 H\u1ec7 th\u1ed1ng H\u1ecfi - \u0110\u00e1p RAG v\u1ec1 Lu\u1eadt Giao Th\u00f4ng\")\n",
        "    chatbot = gr.Chatbot(label=\"\ud83d\udcda \u0110\u1ed1i tho\u1ea1i RAG\")\n",
        "    msg = gr.Textbox(label=\"\ud83d\udcac Nh\u1eadp c\u00e2u h\u1ecfi c\u1ee7a b\u1ea1n\", placeholder=\"V\u00ed d\u1ee5: Kh\u00f4ng \u0111\u1ed9i m\u0169 b\u1ea3o hi\u1ec3m b\u1ecb ph\u1ea1t bao nhi\u00eau?\")\n",
        "\n",
        "    msg.submit(fn=gr_rag_chat, inputs=[msg, chatbot], outputs=[msg, chatbot])\n",
        "\n",
        "# Kh\u1edfi ch\u1ea1y giao di\u1ec7n\n",
        "demo.launch(share=True)\n"
      ],
      "metadata": {
        "id": "JJKZEWBzVv4S",
        "widgets": {
          "state": {}
        },
        "colab": {
          "base_uri": "https://localhost:8080/",
          "height": 646
        },
        "outputId": "2a1af76b-6f4f-4bc6-a6fa-64d1ae0de5c2"
      },
      "execution_count": 21,
      "outputs": [
        {
          "output_type": "stream",
          "name": "stderr",
          "text": [
            "<ipython-input-21-027cea557b7e>:33: UserWarning: You have not specified a value for the `type` parameter. Defaulting to the 'tuples' format for chatbot messages, but this is deprecated and will be removed in a future version of Gradio. Please set type='messages' instead, which uses openai-style dictionaries with 'role' and 'content' keys.\n",
            "  chatbot = gr.Chatbot(label=\"\ud83d\udcda \u0110\u1ed1i tho\u1ea1i RAG\")\n"
          ]
        },
        {
          "output_type": "stream",
          "name": "stdout",
          "text": [
            "Colab notebook detected. To show errors in colab notebook, set debug=True in launch()\n",
            "* Running on public URL: https://9e3305eb8518e72186.gradio.live\n",
            "\n",
            "This share link expires in 1 week. For free permanent hosting and GPU upgrades, run `gradio deploy` from the terminal in the working directory to deploy to Hugging Face Spaces (https://huggingface.co/spaces)\n"
          ]
        },
        {
          "output_type": "display_data",
          "data": {
            "text/plain": [
              "<IPython.core.display.HTML object>"
            ],
            "text/html": [
              "<div><iframe src=\"https://9e3305eb8518e72186.gradio.live\" width=\"100%\" height=\"500\" allow=\"autoplay; camera; microphone; clipboard-read; clipboard-write;\" frameborder=\"0\" allowfullscreen></iframe></div>"
            ]
          },
          "metadata": {}
        },
        {
          "output_type": "execute_result",
          "data": {
            "text/plain": []
          },
          "metadata": {},
          "execution_count": 21
        }
      ]
    },
    {
      "cell_type": "code",
      "source": [
        "EVAL_CSV_FILE = \"test.csv\"  # \u0110\u01b0\u1eddng d\u1eabn \u0111\u1ebfn file CSV ch\u1ee9a b\u1ed9 \u0111\u00e1nh gi\u00e1\n",
        "\n",
        "def load_evaluation_data(csv_file_path: str) -> pd.DataFrame:\n",
        "    \"\"\"Loads the evaluation data from a CSV file.\"\"\"\n",
        "    return pd.read_csv(csv_file_path, encoding='utf-8')\n",
        "\n",
        "def evaluate_answer(\n",
        "    question: str,\n",
        "    ground_truth: str,\n",
        "    rag_answer: str,\n",
        "    relevant_docs: List[LangchainDocument],\n",
        ") -> dict:\n",
        "    \"\"\"\n",
        "    Evaluates the RAG answer based on several criteria.\n",
        "    This is where you implement your detailed evaluation logic.\n",
        "    \"\"\"\n",
        "\n",
        "    evaluation = {}\n",
        "\n",
        "    # 1. Correctness (T\u00ednh \u0111\u00fang \u0111\u1eafn)\n",
        "    correctness_keywords = 0\n",
        "    ground_truth_keywords = ground_truth.lower().split()\n",
        "    for keyword in ground_truth_keywords:\n",
        "        if keyword in rag_answer.lower():\n",
        "            correctness_keywords += 1\n",
        "    evaluation[\"correctness\"] = min(5, correctness_keywords)  # Scale to 1-5\n",
        "\n",
        "    # 2. Relevance (T\u00ednh li\u00ean quan)\n",
        "    # \u0110\u1ebfm s\u1ed1 document \u0111\u01b0\u1ee3c retrieved c\u00f3 ch\u1ee9a c\u00e1c keyword t\u1eeb ground truth\n",
        "    relevant_doc_count = 0\n",
        "    for doc in relevant_docs:\n",
        "        if any(keyword in doc.page_content.lower() for keyword in ground_truth_keywords):\n",
        "            relevant_doc_count += 1\n",
        "    evaluation[\"relevance\"] = min(5, relevant_doc_count)\n",
        "\n",
        "    # 3. Completeness (T\u00ednh \u0111\u1ea7y \u0111\u1ee7)\n",
        "    completeness_score = len(rag_answer) / len(ground_truth) if len(ground_truth) > 0 else 1\n",
        "    evaluation[\"completeness\"] = min(5, int(completeness_score * 5))\n",
        "\n",
        "    # 4. Conciseness (T\u00ednh tr\u00f4i ch\u1ea3y)\n",
        "    evaluation[\"conciseness\"] = 5 if len(rag_answer) <= len(ground_truth) * 1.2 else 3\n",
        "\n",
        "    return evaluation\n",
        "\n",
        "def main_evaluation(\n",
        "    llm: Pipeline,\n",
        "    knowledge_index: FAISS,\n",
        "    eval_csv_path: str,\n",
        "    num_retrieved_docs: int = 10,\n",
        "    num_docs_final: int = 3,\n",
        "):\n",
        "    \"\"\"\n",
        "    Main evaluation loop.\n",
        "    \"\"\"\n",
        "\n",
        "    eval_data = load_evaluation_data(eval_csv_path)\n",
        "    eval_results = []\n",
        "\n",
        "    for index, row in tqdm(eval_data.iterrows(), total=len(eval_data)):\n",
        "        question = row[\"question\"]\n",
        "        ground_truth = row[\"ground_truth_answer\"]\n",
        "\n",
        "        try:\n",
        "            rag_answer, retrieved_docs = answer_with_rag(\n",
        "                question, llm, knowledge_index, num_retrieved_docs, num_docs_final\n",
        "            )\n",
        "        except ValueError as e:\n",
        "            print(f\"Error processing question: {question} - {e}\")\n",
        "            eval_results.append(\n",
        "                {\"question\": question, \"ground_truth\": ground_truth, \"error\": str(e)}\n",
        "            )\n",
        "            continue\n",
        "\n",
        "        evaluation = evaluate_answer(question, ground_truth, rag_answer, retrieved_docs)\n",
        "        evaluation[\"question\"] = question\n",
        "        evaluation[\"ground_truth\"] = ground_truth\n",
        "        evaluation[\"rag_answer\"] = rag_answer\n",
        "\n",
        "        eval_results.append(evaluation)\n",
        "\n",
        "    # Convert results to DataFrame for easier analysis\n",
        "    results_df = pd.DataFrame(eval_results)\n",
        "    results_df.to_csv(\"rag_evaluation_results.csv\", encoding=\"utf-8\", index=False)\n",
        "    print(\"Evaluation completed. Results saved to 'rag_evaluation_results.csv'\")\n",
        "\n",
        "# Ch\u1ea1y \u0111\u00e1nh gi\u00e1\n",
        "if __name__ == \"__main__\":\n",
        "    main_evaluation(\n",
        "        READER_LLM,\n",
        "        loaded_vector_database,\n",
        "        EVAL_CSV_FILE,\n",
        "        num_retrieved_docs=20,\n",
        "        num_docs_final=5,\n",
        "    )"
      ],
      "metadata": {
        "colab": {
          "base_uri": "https://localhost:8080/"
        },
        "id": "ilSBpF4tkgVv",
        "outputId": "dc5a2b9f-a44c-4f32-f31d-0af7d5d2e6e4",
        "widgets": {
          "state": {}
        }
      },
      "execution_count": 22,
      "outputs": [
        {
          "output_type": "stream",
          "name": "stderr",
          "text": [
            "\r  0%|          | 0/10 [00:00<?, ?it/s]"
          ]
        },
        {
          "output_type": "stream",
          "name": "stdout",
          "text": [
            "=> Retrieving documents...\n",
            "=> Generating answer...\n"
          ]
        },
        {
          "output_type": "stream",
          "name": "stderr",
          "text": [
            "\r 10%|\u2588         | 1/10 [01:16<11:25, 76.20s/it]"
          ]
        },
        {
          "output_type": "stream",
          "name": "stdout",
          "text": [
            "=> Retrieving documents...\n",
            "=> Generating answer...\n"
          ]
        },
        {
          "output_type": "stream",
          "name": "stderr",
          "text": [
            "\r 20%|\u2588\u2588        | 2/10 [01:42<06:15, 46.92s/it]"
          ]
        },
        {
          "output_type": "stream",
          "name": "stdout",
          "text": [
            "=> Retrieving documents...\n",
            "=> Generating answer...\n"
          ]
        },
        {
          "output_type": "stream",
          "name": "stderr",
          "text": [
            "\r 30%|\u2588\u2588\u2588       | 3/10 [02:17<04:50, 41.50s/it]"
          ]
        },
        {
          "output_type": "stream",
          "name": "stdout",
          "text": [
            "=> Retrieving documents...\n",
            "=> Generating answer...\n"
          ]
        },
        {
          "output_type": "stream",
          "name": "stderr",
          "text": [
            "\r 40%|\u2588\u2588\u2588\u2588      | 4/10 [02:41<03:28, 34.69s/it]"
          ]
        },
        {
          "output_type": "stream",
          "name": "stdout",
          "text": [
            "=> Retrieving documents...\n",
            "=> Generating answer...\n"
          ]
        },
        {
          "output_type": "stream",
          "name": "stderr",
          "text": [
            "\r 50%|\u2588\u2588\u2588\u2588\u2588     | 5/10 [03:37<03:31, 42.37s/it]"
          ]
        },
        {
          "output_type": "stream",
          "name": "stdout",
          "text": [
            "=> Retrieving documents...\n",
            "=> Generating answer...\n"
          ]
        },
        {
          "output_type": "stream",
          "name": "stderr",
          "text": [
            "\r 60%|\u2588\u2588\u2588\u2588\u2588\u2588    | 6/10 [04:10<02:36, 39.03s/it]"
          ]
        },
        {
          "output_type": "stream",
          "name": "stdout",
          "text": [
            "=> Retrieving documents...\n",
            "=> Generating answer...\n"
          ]
        },
        {
          "output_type": "stream",
          "name": "stderr",
          "text": [
            "\r 70%|\u2588\u2588\u2588\u2588\u2588\u2588\u2588   | 7/10 [05:06<02:13, 44.46s/it]"
          ]
        },
        {
          "output_type": "stream",
          "name": "stdout",
          "text": [
            "=> Retrieving documents...\n",
            "=> Generating answer...\n"
          ]
        },
        {
          "output_type": "stream",
          "name": "stderr",
          "text": [
            "\r 80%|\u2588\u2588\u2588\u2588\u2588\u2588\u2588\u2588  | 8/10 [05:28<01:15, 37.56s/it]"
          ]
        },
        {
          "output_type": "stream",
          "name": "stdout",
          "text": [
            "=> Retrieving documents...\n"
          ]
        },
        {
          "output_type": "stream",
          "name": "stderr",
          "text": [
            "You seem to be using the pipelines sequentially on GPU. In order to maximize efficiency please use a dataset\n"
          ]
        },
        {
          "output_type": "stream",
          "name": "stdout",
          "text": [
            "=> Generating answer...\n"
          ]
        },
        {
          "output_type": "stream",
          "name": "stderr",
          "text": [
            "\r 90%|\u2588\u2588\u2588\u2588\u2588\u2588\u2588\u2588\u2588 | 9/10 [05:58<00:35, 35.22s/it]"
          ]
        },
        {
          "output_type": "stream",
          "name": "stdout",
          "text": [
            "=> Retrieving documents...\n",
            "=> Generating answer...\n"
          ]
        },
        {
          "output_type": "stream",
          "name": "stderr",
          "text": [
            "100%|\u2588\u2588\u2588\u2588\u2588\u2588\u2588\u2588\u2588\u2588| 10/10 [06:55<00:00, 41.55s/it]"
          ]
        },
        {
          "output_type": "stream",
          "name": "stdout",
          "text": [
            "Evaluation completed. Results saved to 'rag_evaluation_results.csv'\n"
          ]
        },
        {
          "output_type": "stream",
          "name": "stderr",
          "text": [
            "\n"
          ]
        }
      ]
    },
    {
      "cell_type": "code",
      "source": [
        "import pandas as pd\n",
        "import matplotlib.pyplot as plt\n",
        "\n",
        "# 1. \u0110\u1ecdc d\u1eef li\u1ec7u t\u1eeb file CSV\n",
        "df = pd.read_csv(\"rag_evaluation_results.csv\")\n",
        "\n",
        "# 2. \u0110\u1ecbnh ngh\u0129a thang \u0111i\u1ec3m (v\u00ed d\u1ee5)\n",
        "thang_diem = {\n",
        "    5: \"Xu\u1ea5t s\u1eafc\",\n",
        "    4: \"T\u1ed1t\",\n",
        "    3: \"Kh\u00e1\",\n",
        "    2: \"Trung b\u00ecnh\",\n",
        "    1: \"K\u00e9m\"\n",
        "}\n",
        "\n",
        "# 3. \u00c1nh x\u1ea1 \u0111i\u1ec3m s\u1ed1 v\u00e0o thang \u0111i\u1ec3m\n",
        "def danh_gia_theo_thang_diem(diem):\n",
        "    for muc_diem, danh_gia in thang_diem.items():\n",
        "        if diem >= muc_diem:\n",
        "            return danh_gia\n",
        "    return \"K\u00e9m\"  # M\u1eb7c \u0111\u1ecbnh n\u1ebfu kh\u00f4ng c\u00f3 m\u1ee9c n\u00e0o ph\u00f9 h\u1ee3p\n",
        "\n",
        "df[\"danh_gia_correctness\"] = df[\"correctness\"].apply(danh_gia_theo_thang_diem)\n",
        "df[\"danh_gia_relevance\"] = df[\"relevance\"].apply(danh_gia_theo_thang_diem)\n",
        "df[\"danh_gia_completeness\"] = df[\"completeness\"].apply(danh_gia_theo_thang_diem)\n",
        "df[\"danh_gia_conciseness\"] = df[\"conciseness\"].apply(danh_gia_theo_thang_diem)\n",
        "\n",
        "# 4. Th\u1ed1ng k\u00ea s\u1ed1 l\u01b0\u1ee3ng \u0111\u00e1nh gi\u00e1 cho t\u1eebng m\u1ee9c\n",
        "thong_ke_correctness = df[\"danh_gia_correctness\"].value_counts()\n",
        "thong_ke_relevance = df[\"danh_gia_relevance\"].value_counts()\n",
        "thong_ke_completeness = df[\"danh_gia_completeness\"].value_counts()\n",
        "thong_ke_conciseness = df[\"danh_gia_conciseness\"].value_counts()\n",
        "\n",
        "# 5. Tr\u1ef1c quan h\u00f3a b\u1eb1ng bi\u1ec3u \u0111\u1ed3 c\u1ed9t\n",
        "plt.figure(figsize=(12, 8))\n",
        "\n",
        "plt.subplot(2, 2, 1)\n",
        "thong_ke_correctness.sort_index().plot(kind=\"bar\")\n",
        "plt.title(\"\u0110\u00e1nh gi\u00e1 Correctness\")\n",
        "plt.xlabel(\"M\u1ee9c \u0111\u00e1nh gi\u00e1\")\n",
        "plt.ylabel(\"S\u1ed1 l\u01b0\u1ee3ng c\u00e2u h\u1ecfi\")\n",
        "\n",
        "plt.subplot(2, 2, 2)\n",
        "thong_ke_relevance.sort_index().plot(kind=\"bar\")\n",
        "plt.title(\"\u0110\u00e1nh gi\u00e1 Relevance\")\n",
        "plt.xlabel(\"M\u1ee9c \u0111\u00e1nh gi\u00e1\")\n",
        "plt.ylabel(\"S\u1ed1 l\u01b0\u1ee3ng c\u00e2u h\u1ecfi\")\n",
        "\n",
        "plt.subplot(2, 2, 3)\n",
        "thong_ke_completeness.sort_index().plot(kind=\"bar\")\n",
        "plt.title(\"\u0110\u00e1nh gi\u00e1 Completeness\")\n",
        "plt.xlabel(\"M\u1ee9c \u0111\u00e1nh gi\u00e1\")\n",
        "plt.ylabel(\"S\u1ed1 l\u01b0\u1ee3ng c\u00e2u h\u1ecfi\")\n",
        "\n",
        "plt.subplot(2, 2, 4)\n",
        "thong_ke_conciseness.sort_index().plot(kind=\"bar\")\n",
        "plt.title(\"\u0110\u00e1nh gi\u00e1 Conciseness\")\n",
        "plt.xlabel(\"M\u1ee9c \u0111\u00e1nh gi\u00e1\")\n",
        "plt.ylabel(\"S\u1ed1 l\u01b0\u1ee3ng c\u00e2u h\u1ecfi\")\n",
        "\n",
        "plt.tight_layout()  # \u0110\u1ec3 c\u00e1c bi\u1ec3u \u0111\u1ed3 kh\u00f4ng b\u1ecb ch\u1ed3ng ch\u00e9o\n",
        "plt.show()\n",
        "\n",
        "# 6. In ra th\u1ed1ng k\u00ea d\u1ea1ng b\u1ea3ng (t\u00f9y ch\u1ecdn)\n",
        "print(\"Th\u1ed1ng k\u00ea \u0111\u00e1nh gi\u00e1 Correctness:\\n\", thong_ke_correctness)\n",
        "print(\"\\nTh\u1ed1ng k\u00ea \u0111\u00e1nh gi\u00e1 Relevance:\\n\", thong_ke_relevance)\n",
        "print(\"\\nTh\u1ed1ng k\u00ea \u0111\u00e1nh gi\u00e1 Completeness:\\n\", thong_ke_completeness)\n",
        "print(\"\\nTh\u1ed1ng k\u00ea \u0111\u00e1nh gi\u00e1 Conciseness:\\n\", thong_ke_conciseness)"
      ],
      "metadata": {
        "colab": {
          "base_uri": "https://localhost:8080/",
          "height": 1000
        },
        "id": "KN-1HUSCn8Hu",
        "outputId": "fff12ee1-3baf-4e67-f6fa-de7156c4106c",
        "widgets": {
          "state": {}
        }
      },
      "execution_count": 23,
      "outputs": [
        {
          "output_type": "display_data",
          "data": {
            "text/plain": [
              "<Figure size 1200x800 with 4 Axes>"
            ],
            "image/png": "[encoded data removed]"
          },
          "metadata": {}
        },
        {
          "output_type": "stream",
          "name": "stdout",
          "text": [
            "Th\u1ed1ng k\u00ea \u0111\u00e1nh gi\u00e1 Correctness:\n",
            " danh_gia_correctness\n",
            "Xu\u1ea5t s\u1eafc    9\n",
            "T\u1ed1t         1\n",
            "Name: count, dtype: int64\n",
            "\n",
            "Th\u1ed1ng k\u00ea \u0111\u00e1nh gi\u00e1 Relevance:\n",
            " danh_gia_relevance\n",
            "Xu\u1ea5t s\u1eafc    8\n",
            "T\u1ed1t         2\n",
            "Name: count, dtype: int64\n",
            "\n",
            "Th\u1ed1ng k\u00ea \u0111\u00e1nh gi\u00e1 Completeness:\n",
            " danh_gia_completeness\n",
            "Xu\u1ea5t s\u1eafc    10\n",
            "Name: count, dtype: int64\n",
            "\n",
            "Th\u1ed1ng k\u00ea \u0111\u00e1nh gi\u00e1 Conciseness:\n",
            " danh_gia_conciseness\n",
            "Kh\u00e1    10\n",
            "Name: count, dtype: int64\n"
          ]
        }
      ]
    },
    {
      "cell_type": "code",
      "source": [
        "import os\n",
        "os.kill(os.getpid(), 9)\n"
      ],
      "metadata": {
        "id": "uZvsKwxZfYLl",
        "widgets": {
          "state": {}
        }
      },
      "execution_count": null,
      "outputs": []
    },
    {
      "cell_type": "code",
      "source": [],
      "metadata": {
        "id": "zEZiDIxyffDg",
        "widgets": {
          "state": {}
        }
      },
      "execution_count": null,
      "outputs": []
    }
  ]
}